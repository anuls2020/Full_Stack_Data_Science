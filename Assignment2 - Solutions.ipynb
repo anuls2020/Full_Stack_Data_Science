{
 "cells": [
  {
   "cell_type": "markdown",
   "metadata": {},
   "source": [
    "## Assignment2 - Solutions"
   ]
  },
  {
   "cell_type": "markdown",
   "metadata": {},
   "source": [
    "**1.What are the two values of the Boolean data type? How do you write them?**\n",
    "\n",
    "  * **True** and **False** are the two values in Boolean data types. \n",
    "\n",
    "  * We can write them as \"**True**\" and \"**False**\""
   ]
  },
  {
   "cell_type": "markdown",
   "metadata": {},
   "source": [
    "**2. What are the three different types of Boolean operators?**\n",
    "\n",
    "* The three different types of boolean operators are \"**AND**\", \"**OR**\" and \"**NOT**\""
   ]
  },
  {
   "cell_type": "markdown",
   "metadata": {},
   "source": [
    "**3. Make a list of each Boolean operator's truth tables (i.e. every possible combination of Boolean values for the operator and what it evaluate ).**\n",
    "\n",
    "* **AND** Truth Table:\n",
    "   \n",
    "    |x|y|xy|\n",
    "    |--|--|--|\n",
    "    |1|1|1|\n",
    "    |0|1|0|\n",
    "    |1|0|0|\n",
    "    |0|0|0|\n",
    "    \n",
    "    \n",
    "* **OR** Truth Table:\n",
    "   \n",
    "    |x|y|x+y|\n",
    "    |--|--|--|\n",
    "    |1|1|1|\n",
    "    |0|1|1|\n",
    "    |1|0|1|\n",
    "    |0|0|0|    \n",
    "    \n",
    "* **NOT** Truth Table:\n",
    "    |x|x'|\n",
    "    |--|--|\n",
    "    |0|1|\n",
    "    |1|0|\n",
    "   "
   ]
  },
  {
   "cell_type": "markdown",
   "metadata": {},
   "source": [
    "**4. What are the values of the following expressions?**\n",
    "\n",
    "* (5 > 4) and (3 == 5)\n",
    "* not (5 > 4)\n",
    "* (5 > 4) or (3 == 5)\n",
    "* not ((5 > 4) or (3 == 5))\n",
    "* (True and True) and (True == False)\n",
    "* (not False) or (not True)\n",
    "\n",
    "\n",
    "**Solutions**\n",
    "\n",
    "* `(5 > 4) and (3 == 5)               ----> False`\n",
    "* `not (5 > 4)                        ----> False`\n",
    "* `(5 > 4) or (3 == 5)                ----> True`\n",
    "* `not ((5 > 4) or (3 == 5))          ----> False`\n",
    "* `(True and True) and (True == False)----> False`\n",
    "* `(not False) or (not True)          ----> True`"
   ]
  },
  {
   "cell_type": "markdown",
   "metadata": {},
   "source": [
    "**5. What are the six comparison operators?**\n",
    "\n",
    "1. `>  -----> Greater than`\n",
    "2. `<  -----> Less than`\n",
    "3. `== -----> Equal` \n",
    "4. `!= -----> Not Equal`\n",
    "5. `>= -----> Greater than or equal`\n",
    "6. `<= -----> Less than or equal`"
   ]
  },
  {
   "cell_type": "markdown",
   "metadata": {},
   "source": [
    "**6. How do you tell the difference between the equal to and assignment operators?Describe a condition and when you would use one.**\n",
    "\n",
    "* Assignment operator use **only one equal symbol**, which usually used to assign a value to a variable. \n",
    "\n",
    "    `a=10 b=20`\n",
    "\n",
    "* **equal to** is used to compare two values, For example in the above example if we check the condition `a==b` we will get the output as boolean value,**False**\n",
    "    \n",
    "    `a==b`"
   ]
  },
  {
   "cell_type": "code",
   "execution_count": 8,
   "metadata": {},
   "outputs": [
    {
     "data": {
      "text/plain": [
       "False"
      ]
     },
     "execution_count": 8,
     "metadata": {},
     "output_type": "execute_result"
    }
   ],
   "source": [
    "a=10\n",
    "b=20\n",
    "a==b"
   ]
  },
  {
   "cell_type": "markdown",
   "metadata": {},
   "source": [
    "**7. Identify the three blocks in this code:**\n",
    "\n",
    "`\n",
    "spam = 0\n",
    "if spam == 10:\n",
    "print('eggs')\n",
    "if spam > 5:\n",
    "print('bacon')\n",
    "else:\n",
    "print('ham')\n",
    "print('spam')\n",
    "print('spam')`\n"
   ]
  },
  {
   "cell_type": "markdown",
   "metadata": {},
   "source": [
    "Here we have three blocks of the program, two if blocks and one else blocks \n",
    "\n",
    "\n",
    "\n",
    "**Block-1**: This block will check if the value of 'spam' equal to 10, if true it will print 'eggs'\n",
    "\n",
    "`if spam == 10:\n",
    "    print('eggs')`\n",
    "    \n",
    "**Block-2** :This is a nested if block, if the value of 'spam' equal to 10 then the second block will check whether the value is greater than 5, and print 'bacon' if it is true along with the previous result where `spam==10`. \n",
    "\n",
    "`if spam > 5:\n",
    "    print('bacon')`\n",
    "        \n",
    "**Block-3**: The third block will be executed if both the above blocks failed. \n",
    "\n",
    "`else:\n",
    "print('ham')\n",
    "print('spam')\n",
    "print('spam')`"
   ]
  },
  {
   "cell_type": "code",
   "execution_count": 16,
   "metadata": {},
   "outputs": [
    {
     "name": "stdout",
     "output_type": "stream",
     "text": [
      "ham\n",
      "spam\n",
      "spam\n"
     ]
    }
   ],
   "source": [
    "spam=0\n",
    "\n",
    "if spam == 10:\n",
    "    print('eggs')\n",
    "    if spam > 5:\n",
    "        print('bacon')\n",
    "else:\n",
    "    print('ham')\n",
    "    print('spam')\n",
    "    print('spam')"
   ]
  },
  {
   "cell_type": "markdown",
   "metadata": {},
   "source": [
    "**8. Write code that prints Hello if 1 is stored in spam, prints Howdy if 2 is stored in spam, and prints Greetings! if anything else is stored in spam.**"
   ]
  },
  {
   "cell_type": "code",
   "execution_count": 31,
   "metadata": {},
   "outputs": [
    {
     "name": "stdout",
     "output_type": "stream",
     "text": [
      "Hello\n"
     ]
    }
   ],
   "source": [
    "spam=1\n",
    "#spam=2\n",
    "#spam=3\n",
    "\n",
    "if (spam==1):\n",
    "    print(\"Hello\")\n",
    "elif (spam==2):\n",
    "    print(\"Howdy\")\n",
    "else:\n",
    "    print(\"Greetings!\")"
   ]
  },
  {
   "cell_type": "markdown",
   "metadata": {},
   "source": [
    "**9.If your programme is stuck in an endless loop, what keys you’ll press?**\n",
    "\n",
    "**Ctrl + C**"
   ]
  },
  {
   "cell_type": "markdown",
   "metadata": {},
   "source": [
    "**10. How can you tell the difference between break and continue?**\n",
    "\n",
    "**Break and Continue** keywords were used in the loops for condition checks, If we use **break** while doing the condition check in any iterable object, once the condition is true, it will completely exit the loop and terminate the program.\n",
    "\n",
    "Where as in che case of \"**continue**\" statement, once the condition is true the program will not terminate completely rather than it will move to the next iteration object after skipping the value where the condition is true. "
   ]
  },
  {
   "cell_type": "markdown",
   "metadata": {},
   "source": [
    "**11. In a for loop, what is the difference between range(10), range(0, 10), and range(0, 10, 1)?**\n",
    "\n",
    "**Solution:**\n",
    "Only syntactical difference, Output will be same in all the three cases. See the example below."
   ]
  },
  {
   "cell_type": "code",
   "execution_count": 39,
   "metadata": {
    "run_control": {
     "marked": false
    }
   },
   "outputs": [
    {
     "name": "stdout",
     "output_type": "stream",
     "text": [
      "0 1 2 3 4 5 6 7 8 9 "
     ]
    }
   ],
   "source": [
    "for i in range(10):\n",
    "    print(i,end=\" \")"
   ]
  },
  {
   "cell_type": "code",
   "execution_count": 40,
   "metadata": {},
   "outputs": [
    {
     "name": "stdout",
     "output_type": "stream",
     "text": [
      "0 1 2 3 4 5 6 7 8 9 "
     ]
    }
   ],
   "source": [
    "for i in range(0,10):\n",
    "    print(i,end=\" \")"
   ]
  },
  {
   "cell_type": "code",
   "execution_count": 41,
   "metadata": {},
   "outputs": [
    {
     "name": "stdout",
     "output_type": "stream",
     "text": [
      "0 1 2 3 4 5 6 7 8 9 "
     ]
    }
   ],
   "source": [
    "for i in range(0,10,1):\n",
    "    print(i,end=\" \")"
   ]
  },
  {
   "cell_type": "markdown",
   "metadata": {},
   "source": [
    "**12. Write a short program that prints the numbers 1 to 10 using a for loop. Then write an equivalent program that prints the numbers 1 to 10 using a while loop.**"
   ]
  },
  {
   "cell_type": "code",
   "execution_count": 48,
   "metadata": {},
   "outputs": [
    {
     "name": "stdout",
     "output_type": "stream",
     "text": [
      "1 2 3 4 5 6 7 8 9 10 "
     ]
    }
   ],
   "source": [
    "#using for loop\n",
    "for i in range(1,11):\n",
    "    print(i,end=\" \")"
   ]
  },
  {
   "cell_type": "code",
   "execution_count": 49,
   "metadata": {},
   "outputs": [
    {
     "name": "stdout",
     "output_type": "stream",
     "text": [
      "1 2 3 4 5 6 7 8 9 10 "
     ]
    }
   ],
   "source": [
    "#using while loop\n",
    "i=1\n",
    "while i<11:\n",
    "    print(i, end=\" \")\n",
    "    i=i+1"
   ]
  },
  {
   "cell_type": "markdown",
   "metadata": {},
   "source": [
    "**13. If you had a function named bacon() inside a module named spam, how would you call it after importing spam?**\n",
    "\n",
    "`\n",
    "import spam as s\n",
    "s.bacon()\n",
    "`"
   ]
  },
  {
   "cell_type": "code",
   "execution_count": null,
   "metadata": {},
   "outputs": [],
   "source": []
  }
 ],
 "metadata": {
  "kernelspec": {
   "display_name": "Python 3",
   "language": "python",
   "name": "python3"
  },
  "language_info": {
   "codemirror_mode": {
    "name": "ipython",
    "version": 3
   },
   "file_extension": ".py",
   "mimetype": "text/x-python",
   "name": "python",
   "nbconvert_exporter": "python",
   "pygments_lexer": "ipython3",
   "version": "3.8.5"
  }
 },
 "nbformat": 4,
 "nbformat_minor": 4
}
