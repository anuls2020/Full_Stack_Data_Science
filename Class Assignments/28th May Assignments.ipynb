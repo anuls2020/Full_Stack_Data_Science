{
 "cells": [
  {
   "cell_type": "markdown",
   "id": "67208159",
   "metadata": {},
   "source": [
    "Q1-\n",
    "\n",
    "ineruon \n",
    "\n",
    "ineruon ineruon \n",
    "\n",
    "ineruon ineruon ineruon\n",
    "\n",
    "ineruon ineruon ineruon ineruon"
   ]
  },
  {
   "cell_type": "code",
   "execution_count": 4,
   "id": "9b580dd4",
   "metadata": {},
   "outputs": [
    {
     "name": "stdout",
     "output_type": "stream",
     "text": [
      "ineruon \n",
      "ineruon ineruon \n",
      "ineruon ineruon ineruon \n",
      "ineruon ineruon ineruon ineruon \n"
     ]
    }
   ],
   "source": [
    "s=\"ineruon\"\n",
    "n=4\n",
    "for i in range(n):\n",
    "    for j in range(0,i+1):\n",
    "        print(s, end =\" \")\n",
    "    print()"
   ]
  },
  {
   "cell_type": "markdown",
   "id": "18c0f94c",
   "metadata": {},
   "source": [
    "q2 - \n",
    "\n",
    "          ineruon\n",
    "    ineruon      ineruon\n",
    "ineruon\t\tineruon \tineruon\n",
    "\tineruon\t\t ineruon\n",
    "\t\t  ineruon"
   ]
  },
  {
   "cell_type": "code",
   "execution_count": 5,
   "id": "03f92c6c",
   "metadata": {},
   "outputs": [
    {
     "name": "stdout",
     "output_type": "stream",
     "text": [
      "                        ineuorn \n",
      "                ineuorn ineuorn ineuorn \n",
      "        ineuorn ineuorn ineuorn ineuorn ineuorn \n",
      "                ineuorn ineuorn ineuorn \n",
      "                        ineuorn \n"
     ]
    }
   ],
   "source": [
    "s=\"ineuorn\"\n",
    "n=3\n",
    "for i in range(n-1):\n",
    "    for j in range(i,n):\n",
    "        print(' '*len(s), end=' ')\n",
    "    for j in range(i):\n",
    "        print(s, end =' ')\n",
    "    for j in range(i+1):\n",
    "        print(s, end = ' ')\n",
    "    print()\n",
    "    \n",
    "for i in range(n):\n",
    "    for j in range(i+1):\n",
    "        print(' '*len(s), end = ' ')\n",
    "    for j in range(i,n-1):\n",
    "        print(s, end =' ') \n",
    "    for j in range(i,n):\n",
    "        print(s, end=' ')\n",
    "    print()    "
   ]
  },
  {
   "cell_type": "code",
   "execution_count": 7,
   "id": "6a14c841",
   "metadata": {},
   "outputs": [],
   "source": [
    "l = [[1,2,3,4] , (2,3,4,5,6) , (3,4,5,6,7) , set([23,4,5,45,4,4,5,45,45,4,5]) , {'k1' :\"sudh\" , \"k2\" : \"ineuron\",\"k3\":\"kumar\" , 3:6 , 7:8} , [\"ineuron\" , \"data science \"]]"
   ]
  },
  {
   "cell_type": "markdown",
   "id": "77438044",
   "metadata": {},
   "source": [
    "**q3 : Try to extract all the list entity** "
   ]
  },
  {
   "cell_type": "code",
   "execution_count": 8,
   "id": "3e738080",
   "metadata": {},
   "outputs": [
    {
     "name": "stdout",
     "output_type": "stream",
     "text": [
      "[1, 2, 3, 4]\n",
      "['ineuron', 'data science ']\n"
     ]
    }
   ],
   "source": [
    "l = [[1,2,3,4] , (2,3,4,5,6) , (3,4,5,6,7) , set([23,4,5,45,4,4,5,45,45,4,5]) , {'k1' :\"sudh\" , \"k2\" : \"ineuron\",\"k3\":\"kumar\" , 3:6 , 7:8} , [\"ineuron\" , \"data science \"]]\n",
    "\n",
    "for i in l:\n",
    "    if type(i) == list:\n",
    "        print(i)"
   ]
  },
  {
   "cell_type": "markdown",
   "id": "bd0aabf8",
   "metadata": {},
   "source": [
    "**q4 : Try to extract all the dict enteties**"
   ]
  },
  {
   "cell_type": "code",
   "execution_count": 9,
   "id": "c325aa37",
   "metadata": {},
   "outputs": [
    {
     "name": "stdout",
     "output_type": "stream",
     "text": [
      "{'k1': 'sudh', 'k2': 'ineuron', 'k3': 'kumar', 3: 6, 7: 8}\n"
     ]
    }
   ],
   "source": [
    "for i in l:\n",
    "    if type(i) == dict:\n",
    "        print(i)"
   ]
  },
  {
   "cell_type": "markdown",
   "id": "5f404cff",
   "metadata": {},
   "source": [
    "**q5 : Try to extract all the tuples entities**"
   ]
  },
  {
   "cell_type": "code",
   "execution_count": 10,
   "id": "7a6b6a06",
   "metadata": {},
   "outputs": [
    {
     "name": "stdout",
     "output_type": "stream",
     "text": [
      "(2, 3, 4, 5, 6)\n",
      "(3, 4, 5, 6, 7)\n"
     ]
    }
   ],
   "source": [
    "for i in l:\n",
    "    if type(i) == tuple:\n",
    "        print(i)"
   ]
  },
  {
   "cell_type": "markdown",
   "id": "c123ed3c",
   "metadata": {},
   "source": [
    "**q6 : Try to extract all the numerical data it may b a part of dict key and values**"
   ]
  },
  {
   "cell_type": "code",
   "execution_count": 11,
   "id": "cbf3b366",
   "metadata": {},
   "outputs": [
    {
     "data": {
      "text/plain": [
       "[[1, 2, 3, 4],\n",
       " (2, 3, 4, 5, 6),\n",
       " (3, 4, 5, 6, 7),\n",
       " {4, 5, 23, 45},\n",
       " {'k1': 'sudh', 'k2': 'ineuron', 'k3': 'kumar', 3: 6, 7: 8},\n",
       " ['ineuron', 'data science ']]"
      ]
     },
     "execution_count": 11,
     "metadata": {},
     "output_type": "execute_result"
    }
   ],
   "source": [
    "l"
   ]
  },
  {
   "cell_type": "code",
   "execution_count": 12,
   "id": "efadf33a",
   "metadata": {
    "scrolled": true
   },
   "outputs": [
    {
     "name": "stdout",
     "output_type": "stream",
     "text": [
      "1\n",
      "2\n",
      "3\n",
      "4\n",
      "2\n",
      "3\n",
      "4\n",
      "5\n",
      "6\n",
      "3\n",
      "4\n",
      "5\n",
      "6\n",
      "7\n",
      "45\n",
      "4\n",
      "5\n",
      "23\n",
      "dict iteration for numeric values:\n",
      "3\n",
      "6\n",
      "7\n",
      "8\n"
     ]
    }
   ],
   "source": [
    "for i in l:\n",
    "    if type(i) == int:\n",
    "        print(i)\n",
    "    elif type(i) == list or type(i) == tuple or type(i) == set:\n",
    "        for k in i:\n",
    "            if type(k) == int or type(k) == float:\n",
    "                print(k)\n",
    "    \n",
    "    elif type(i) == dict:\n",
    "        print(\"dict iteration for numeric values:\")\n",
    "        for k,v in i.items():\n",
    "            if type(k)==int or type(v)==int or type(k)==float or type(v)==float:\n",
    "                print(k)\n",
    "                print(v)"
   ]
  },
  {
   "cell_type": "markdown",
   "id": "9907f6ed",
   "metadata": {},
   "source": [
    "**q7 : Try to give summation of all the numeric data** \n"
   ]
  },
  {
   "cell_type": "code",
   "execution_count": 13,
   "id": "370d45d0",
   "metadata": {},
   "outputs": [
    {
     "name": "stdout",
     "output_type": "stream",
     "text": [
      "dict iteration for numeric values:\n",
      "Sum of numeric data: 156\n"
     ]
    }
   ],
   "source": [
    "s=0\n",
    "for i in l:\n",
    "    if type(i) == int:\n",
    "        s=s+i\n",
    "    elif type(i) == list or type(i) == tuple or type(i) == set:\n",
    "        for j in i:\n",
    "            if type(j) == int or type(j) == float:\n",
    "                s=s+j\n",
    "    elif type(i) == dict:\n",
    "        print(\"dict iteration for numeric values:\")\n",
    "        for k,v in i.items():\n",
    "            if type(k)==int or type(v)==int or type(k)==float or type(v)==float:\n",
    "                s=s+k\n",
    "                s=s+v\n",
    "print(\"Sum of numeric data:\", s)"
   ]
  },
  {
   "cell_type": "markdown",
   "id": "2d8be1af",
   "metadata": {},
   "source": [
    "**q8 : Try to filter out all the odd values out all numeric data which is a part of a list**"
   ]
  },
  {
   "cell_type": "code",
   "execution_count": 14,
   "id": "3da3a6c5",
   "metadata": {},
   "outputs": [
    {
     "name": "stdout",
     "output_type": "stream",
     "text": [
      "Numeric values in the list: [1, 2, 3, 4, 2, 3, 4, 5, 6, 3, 4, 5, 6, 7, 45, 4, 5, 23, 3, 6, 7, 8]\n",
      "Odd Values in the list:[1, 3, 3, 5, 3, 5, 7, 45, 5, 23, 3, 7]\n"
     ]
    }
   ],
   "source": [
    "l = [[1,2,3,4] , (2,3,4,5,6) , (3,4,5,6,7) , set([23,4,5,45,4,4,5,45,45,4,5]) , {'k1' :\"sudh\" , \"k2\" : \"ineuron\",\"k3\":\n",
    "            \"kumar\" , 3:6 , 7:8} , [\"ineuron\" , \"data science \"]]\n",
    "lst=[]\n",
    "for i in l:\n",
    "    if type(i) == int:\n",
    "        lst.append(i)\n",
    "    elif type(i) == list or type(i) == tuple or type(i) == set:\n",
    "        for j in i:\n",
    "            if type(j) == int or type(j) == float:\n",
    "                lst.append(j)\n",
    "    \n",
    "    elif type(i) == dict:\n",
    "        #print(\"dict iteration for numeric values:\")\n",
    "        for k,v in i.items():\n",
    "            if type(k)==int or type(v)==int or type(k)==float or type(v)==float:\n",
    "                lst.append(k)\n",
    "                lst.append(v)\n",
    "print(\"Numeric values in the list:\",lst)\n",
    "odd_val=[]\n",
    "for val in lst:\n",
    "    if val%2!=0:\n",
    "        odd_val.append(val)\n",
    "print(\"Odd Values in the list:{}\".format(odd_val))"
   ]
  },
  {
   "cell_type": "markdown",
   "id": "1e219a39",
   "metadata": {},
   "source": [
    "**q9 : Try to extract \"ineruon\" out of this data**"
   ]
  },
  {
   "cell_type": "code",
   "execution_count": 15,
   "id": "ec5b585c",
   "metadata": {},
   "outputs": [
    {
     "data": {
      "text/plain": [
       "[[1, 2, 3, 4],\n",
       " (2, 3, 4, 5, 6),\n",
       " (3, 4, 5, 6, 7),\n",
       " {4, 5, 23, 45},\n",
       " {'k1': 'sudh', 'k2': 'ineuron', 'k3': 'kumar', 3: 6, 7: 8},\n",
       " ['ineuron', 'data science ']]"
      ]
     },
     "execution_count": 15,
     "metadata": {},
     "output_type": "execute_result"
    }
   ],
   "source": [
    "l = [[1,2,3,4] , (2,3,4,5,6) , (3,4,5,6,7) , set([23,4,5,45,4,4,5,45,45,4,5]) , {'k1' :\"sudh\" , \"k2\" : \"ineuron\",\"k3\":\"kumar\" , 3:6 , 7:8} , [\"ineuron\" , \"data science \"]]\n",
    "l"
   ]
  },
  {
   "cell_type": "code",
   "execution_count": 16,
   "id": "84c809a9",
   "metadata": {},
   "outputs": [
    {
     "name": "stdout",
     "output_type": "stream",
     "text": [
      "k2\n",
      "ineuron\n",
      "ineuron\n"
     ]
    }
   ],
   "source": [
    "for i in l:\n",
    "    if type(i) == list or type(i) == tuple or type(i) == set:\n",
    "        for val in i:\n",
    "            if val == \"ineuron\":\n",
    "                print(val)\n",
    "    elif type(i) == dict:\n",
    "        for k,v in i.items():\n",
    "            if k==\"ineuron\" or v==\"ineuron\":\n",
    "                print(k)\n",
    "                print(v)"
   ]
  },
  {
   "cell_type": "markdown",
   "id": "2734429c",
   "metadata": {},
   "source": [
    "**q10 :Try to find out a number of occurances of all the data**\n"
   ]
  },
  {
   "cell_type": "code",
   "execution_count": 17,
   "id": "4cad1eed",
   "metadata": {},
   "outputs": [
    {
     "data": {
      "text/plain": [
       "[[1, 2, 3, 4],\n",
       " (2, 3, 4, 5, 6),\n",
       " (3, 4, 5, 6, 7),\n",
       " {4, 5, 23, 45},\n",
       " {'k1': 'sudh', 'k2': 'ineuron', 'k3': 'kumar', 3: 6, 7: 8},\n",
       " ['ineuron', 'data science ']]"
      ]
     },
     "execution_count": 17,
     "metadata": {},
     "output_type": "execute_result"
    }
   ],
   "source": [
    "l = [[1,2,3,4] , (2,3,4,5,6) , (3,4,5,6,7) , set([23,4,5,45,4,4,5,45,45,4,5]) , {'k1' :\"sudh\" , \"k2\" : \"ineuron\",\"k3\":\"kumar\" , 3:6 , 7:8} , [\"ineuron\" , \"data science \"]]\n",
    "l"
   ]
  },
  {
   "cell_type": "code",
   "execution_count": 18,
   "id": "7c7a2d33",
   "metadata": {},
   "outputs": [],
   "source": [
    "l = [[1,2,3,4] , (2,3,4,5,6) , (3,4,5,6,7) , set([23,4,5,45,4,4,5,45,45,4,5]) , {'k1' :\"sudh\" , \"k2\" : \"ineuron\",\"k3\":\n",
    "            \"kumar\" , 3:6 , 7:8} , [\"ineuron\" , \"data science \"]]"
   ]
  },
  {
   "cell_type": "code",
   "execution_count": 19,
   "id": "1546c415",
   "metadata": {},
   "outputs": [
    {
     "name": "stdout",
     "output_type": "stream",
     "text": [
      "[1, 2, 3, 4, 2, 3, 4, 5, 6, 3, 4, 5, 6, 7, 45, 4, 5, 23]\n"
     ]
    }
   ],
   "source": [
    "lst=[]\n",
    "for i in l:\n",
    "    if type(i) == list or type(i) == tuple or type(i) == set:\n",
    "        for k in i:\n",
    "            lst.append(k)\n",
    "    elif type(i) == dict:\n",
    "        \n",
    "            \n",
    "            print(lst)"
   ]
  },
  {
   "cell_type": "code",
   "execution_count": 20,
   "id": "0197ba19",
   "metadata": {},
   "outputs": [],
   "source": [
    "d1={'k1': 'sudh', 'k2': 'ineuron', 'k3': 'kumar', 3: 6, 7: 8}"
   ]
  },
  {
   "cell_type": "code",
   "execution_count": 21,
   "id": "d70a00cf",
   "metadata": {},
   "outputs": [
    {
     "data": {
      "text/plain": [
       "{'k1': 'sudh', 'k2': 'ineuron', 'k3': 'kumar', 3: 6, 7: 8}"
      ]
     },
     "execution_count": 21,
     "metadata": {},
     "output_type": "execute_result"
    }
   ],
   "source": [
    "d1"
   ]
  },
  {
   "cell_type": "code",
   "execution_count": 22,
   "id": "28d956bc",
   "metadata": {},
   "outputs": [
    {
     "data": {
      "text/plain": [
       "dict_items([('k1', 'sudh'), ('k2', 'ineuron'), ('k3', 'kumar'), (3, 6), (7, 8)])"
      ]
     },
     "execution_count": 22,
     "metadata": {},
     "output_type": "execute_result"
    }
   ],
   "source": [
    "d1.items()"
   ]
  },
  {
   "cell_type": "code",
   "execution_count": 23,
   "id": "8054741c",
   "metadata": {},
   "outputs": [
    {
     "name": "stdout",
     "output_type": "stream",
     "text": [
      "('k1', 'sudh')\n",
      "('k2', 'ineuron')\n",
      "('k3', 'kumar')\n",
      "(3, 6)\n",
      "(7, 8)\n"
     ]
    }
   ],
   "source": [
    "for i in d1.items():\n",
    "    print(i)"
   ]
  },
  {
   "cell_type": "code",
   "execution_count": 24,
   "id": "5568fe48",
   "metadata": {},
   "outputs": [
    {
     "name": "stdout",
     "output_type": "stream",
     "text": [
      "['k1', 'sudh']\n",
      "['k2', 'ineuron']\n",
      "['k3', 'kumar']\n",
      "[3, 6]\n",
      "[7, 8]\n"
     ]
    }
   ],
   "source": [
    "for i in d1.items():\n",
    "    print(list(i))"
   ]
  },
  {
   "cell_type": "code",
   "execution_count": 25,
   "id": "5ec02573",
   "metadata": {},
   "outputs": [
    {
     "data": {
      "text/plain": [
       "[[1, 2, 3, 4],\n",
       " (2, 3, 4, 5, 6),\n",
       " (3, 4, 5, 6, 7),\n",
       " {4, 5, 23, 45},\n",
       " {'k1': 'sudh', 'k2': 'ineuron', 'k3': 'kumar', 3: 6, 7: 8},\n",
       " ['ineuron', 'data science ']]"
      ]
     },
     "execution_count": 25,
     "metadata": {},
     "output_type": "execute_result"
    }
   ],
   "source": [
    "l = [[1,2,3,4] , (2,3,4,5,6) , (3,4,5,6,7) , set([23,4,5,45,4,4,5,45,45,4,5]) , {'k1' :\"sudh\" , \"k2\" : \"ineuron\",\"k3\":\"kumar\" , 3:6 , 7:8} , [\"ineuron\" , \"data science \"]]\n",
    "l"
   ]
  },
  {
   "cell_type": "code",
   "execution_count": 26,
   "id": "02aaf20e",
   "metadata": {},
   "outputs": [
    {
     "name": "stdout",
     "output_type": "stream",
     "text": [
      "d 6\n",
      "a 6\n",
      "s 6\n",
      "f 7\n"
     ]
    }
   ],
   "source": [
    "s=\"adsffsadfasfdsadfasdfasfd\"\n",
    "for i in set(s):\n",
    "    print(i, s.count(i))"
   ]
  },
  {
   "cell_type": "code",
   "execution_count": 27,
   "id": "b2a99ab6",
   "metadata": {},
   "outputs": [
    {
     "name": "stdout",
     "output_type": "stream",
     "text": [
      "Converted Origianl List: [1, 2, 3, 4, 2, 3, 4, 5, 6, 3, 4, 5, 6, 7, 45, 4, 5, 23, 'k1', 'sudh', 'k2', 'ineuron', 'k3', 'kumar', 3, 6, 7, 8, 'ineuron', 'data science ']\n",
      "----------------------------------------------------------------------------------------------------\n",
      "Converted string values: ['1', '2', '3', '4', '2', '3', '4', '5', '6', '3', '4', '5', '6', '7', '45', '4', '5', '23', 'k1', 'sudh', 'k2', 'ineuron', 'k3', 'kumar', '3', '6', '7', '8', 'ineuron', 'data science ']\n",
      "Number of occurance of each items:\n",
      "sudh 1\n",
      "ineuron 2\n",
      "2 2\n",
      "kumar 1\n",
      "4 4\n",
      "1 1\n",
      "data science  1\n",
      "23 1\n",
      "k3 1\n",
      "7 2\n",
      "6 3\n",
      "k2 1\n",
      "8 1\n",
      "3 4\n",
      "45 1\n",
      "k1 1\n",
      "5 3\n"
     ]
    }
   ],
   "source": [
    "lst=[]\n",
    "for i in l:\n",
    "    if type(i) == list or type(i) == tuple or type(i) == set:\n",
    "        for k in i:\n",
    "            lst.append(k)\n",
    "    elif type(i) == dict:\n",
    "        for j in i.items():\n",
    "            lst=lst+list(j)    \n",
    "print(\"Converted Origianl List:\", lst)\n",
    "print(\"-\"*100)\n",
    "lst2=[]\n",
    "for i in lst:\n",
    "    lst2.append(str(i))\n",
    "print(\"Converted string values:\",lst2)\n",
    "print(\"Number of occurance of each items:\")\n",
    "\n",
    "for i in set(lst2):\n",
    "    print(i, lst2.count(i))"
   ]
  },
  {
   "cell_type": "markdown",
   "id": "74f06705",
   "metadata": {},
   "source": [
    "**q11 : Try to find out number of keys in dict element**"
   ]
  },
  {
   "cell_type": "code",
   "execution_count": 28,
   "id": "b2730af9",
   "metadata": {},
   "outputs": [
    {
     "data": {
      "text/plain": [
       "[[1, 2, 3, 4],\n",
       " (2, 3, 4, 5, 6),\n",
       " (3, 4, 5, 6, 7),\n",
       " {4, 5, 23, 45},\n",
       " {'k1': 'sudh', 'k2': 'ineuron', 'k3': 'kumar', 3: 6, 7: 8},\n",
       " ['ineuron', 'data science ']]"
      ]
     },
     "execution_count": 28,
     "metadata": {},
     "output_type": "execute_result"
    }
   ],
   "source": [
    "l = [[1,2,3,4] , (2,3,4,5,6) , (3,4,5,6,7) , set([23,4,5,45,4,4,5,45,45,4,5]) , {'k1' :\"sudh\" , \"k2\" : \"ineuron\",\"k3\":\"kumar\" , 3:6 , 7:8} , [\"ineuron\" , \"data science \"]]\n",
    "l"
   ]
  },
  {
   "cell_type": "code",
   "execution_count": 29,
   "id": "8edf642e",
   "metadata": {
    "scrolled": true
   },
   "outputs": [
    {
     "name": "stdout",
     "output_type": "stream",
     "text": [
      "dict_items([('k1', 'sudh'), ('k2', 'ineuron'), ('k3', 'kumar'), (3, 6), (7, 8)])\n"
     ]
    }
   ],
   "source": [
    "for i in l:\n",
    "    if type(i) == dict:\n",
    "        print(i.items())"
   ]
  },
  {
   "cell_type": "code",
   "execution_count": 30,
   "id": "ab7f1e9e",
   "metadata": {},
   "outputs": [
    {
     "data": {
      "text/plain": [
       "dict_keys(['k1', 'k2', 'k3', 3, 7])"
      ]
     },
     "execution_count": 30,
     "metadata": {},
     "output_type": "execute_result"
    }
   ],
   "source": [
    "d1={'k1' :\"sudh\" , \"k2\" : \"ineuron\",\"k3\":\"kumar\" , 3:6 , 7:8}\n",
    "d1.keys()"
   ]
  },
  {
   "cell_type": "code",
   "execution_count": 31,
   "id": "89ba6bbf",
   "metadata": {},
   "outputs": [
    {
     "name": "stdout",
     "output_type": "stream",
     "text": [
      "{'k1': 'sudh', 'k2': 'ineuron', 'k3': 'kumar', 3: 6, 7: 8}\n"
     ]
    }
   ],
   "source": [
    "for i in l:\n",
    "    if type(i) == dict:\n",
    "        print(i)"
   ]
  },
  {
   "cell_type": "code",
   "execution_count": 32,
   "id": "f80dad98",
   "metadata": {},
   "outputs": [
    {
     "name": "stdout",
     "output_type": "stream",
     "text": [
      "dict_keys(['k1', 'k2', 'k3', 3, 7])\n"
     ]
    }
   ],
   "source": [
    "for i in l:\n",
    "    if type(i) == dict:\n",
    "        print(i.keys())"
   ]
  },
  {
   "cell_type": "code",
   "execution_count": 33,
   "id": "72911bcf",
   "metadata": {},
   "outputs": [
    {
     "name": "stdout",
     "output_type": "stream",
     "text": [
      "['k1', 'k2', 'k3', 3, 7]\n"
     ]
    }
   ],
   "source": [
    "for i in l:\n",
    "    if type(i) == dict:\n",
    "        print(list(i.keys()))"
   ]
  },
  {
   "cell_type": "code",
   "execution_count": 34,
   "id": "3acd3803",
   "metadata": {
    "scrolled": true
   },
   "outputs": [
    {
     "name": "stdout",
     "output_type": "stream",
     "text": [
      "5\n"
     ]
    }
   ],
   "source": [
    "for i in l:\n",
    "    if type(i) == dict:\n",
    "        print(len(list(i.keys())))"
   ]
  },
  {
   "cell_type": "markdown",
   "id": "2f2c17b7",
   "metadata": {},
   "source": [
    "**q12 : Try to filter out all the string data**"
   ]
  },
  {
   "cell_type": "code",
   "execution_count": 35,
   "id": "a1bc85d1",
   "metadata": {},
   "outputs": [
    {
     "data": {
      "text/plain": [
       "[[1, 2, 3, 4],\n",
       " (2, 3, 4, 5, 6),\n",
       " (3, 4, 5, 6, 7),\n",
       " {4, 5, 23, 45},\n",
       " {'k1': 'sudh', 'k2': 'ineuron', 'k3': 'kumar', 3: 6, 7: 8},\n",
       " ['ineuron', 'data science ']]"
      ]
     },
     "execution_count": 35,
     "metadata": {},
     "output_type": "execute_result"
    }
   ],
   "source": [
    "l = [[1,2,3,4] , (2,3,4,5,6) , (3,4,5,6,7) , set([23,4,5,45,4,4,5,45,45,4,5]) , {'k1' :\"sudh\" , \"k2\" : \"ineuron\",\"k3\":\"kumar\" , 3:6 , 7:8} , [\"ineuron\" , \"data science \"]]\n",
    "l"
   ]
  },
  {
   "cell_type": "code",
   "execution_count": 36,
   "id": "e85d6575",
   "metadata": {},
   "outputs": [
    {
     "name": "stdout",
     "output_type": "stream",
     "text": [
      "The string data are:['k1', 'sudh', 'k2', 'ineuron', 'k3', 'kumar', 'ineuron', 'data science ']\n"
     ]
    }
   ],
   "source": [
    "str_data=[]\n",
    "for i in l:\n",
    "    if type(i) == str:\n",
    "        str_data.append(i)\n",
    "    elif type(i) == list or type(i) == tuple or type(i) == set:\n",
    "        for j in i:\n",
    "            if type(j) == str:\n",
    "                str_data.append(j)\n",
    "    elif type(i) == dict:\n",
    "        #print(\"dict iteration for numeric values:\")\n",
    "        for k,v in i.items():\n",
    "            if type(k)==str or type(v)==str:\n",
    "                str_data.append(k)\n",
    "                str_data.append(v)\n",
    "print(\"The string data are:{}\".format(str_data))"
   ]
  },
  {
   "cell_type": "markdown",
   "id": "bb84487c",
   "metadata": {},
   "source": [
    "**q13 : Try to Find  out alphanum in data**"
   ]
  },
  {
   "cell_type": "code",
   "execution_count": 37,
   "id": "323a6bac",
   "metadata": {},
   "outputs": [
    {
     "data": {
      "text/plain": [
       "[[1, 2, 3, 4],\n",
       " (2, 3, 4, 5, 6),\n",
       " (3, 4, 5, 6, 7),\n",
       " {4, 5, 23, 45},\n",
       " {'k1': 'sudh', 'k2': 'ineuron', 'k3': 'kumar', 3: 6, 7: 8},\n",
       " ['ineuron', 'data science']]"
      ]
     },
     "execution_count": 37,
     "metadata": {},
     "output_type": "execute_result"
    }
   ],
   "source": [
    "l = [[1,2,3,4] , (2,3,4,5,6) , (3,4,5,6,7) , set([23,4,5,45,4,4,5,45,45,4,5]) , {'k1' :\"sudh\" , \"k2\" : \"ineuron\",\"k3\":\"kumar\" , 3:6 , 7:8} , [\"ineuron\" , \"data science\"]]\n",
    "l"
   ]
  },
  {
   "cell_type": "code",
   "execution_count": 38,
   "id": "61e58798",
   "metadata": {},
   "outputs": [
    {
     "name": "stdout",
     "output_type": "stream",
     "text": [
      "True\n"
     ]
    }
   ],
   "source": [
    "txt = \"123\"\n",
    "\n",
    "x = txt.isalnum()\n",
    "\n",
    "print(x)"
   ]
  },
  {
   "cell_type": "code",
   "execution_count": 39,
   "id": "310c3f33",
   "metadata": {},
   "outputs": [
    {
     "name": "stdout",
     "output_type": "stream",
     "text": [
      "Converted Origianl List: [1, 2, 3, 4, 2, 3, 4, 5, 6, 3, 4, 5, 6, 7, 45, 4, 5, 23, 'k1', 'sudh', 'k2', 'ineuron', 'k3', 'kumar', 3, 6, 7, 8, 'ineuron', 'data science']\n",
      "----------------------------------------------------------------------------------------------------\n",
      "Converted string values: ['1', '2', '3', '4', '2', '3', '4', '5', '6', '3', '4', '5', '6', '7', '45', '4', '5', '23', 'k1', 'sudh', 'k2', 'ineuron', 'k3', 'kumar', '3', '6', '7', '8', 'ineuron', 'data science']\n",
      "----------------------------------------------------------------------------------------------------\n",
      "The alpha numeric values are:['1', '2', '3', '4', '2', '3', '4', '5', '6', '3', '4', '5', '6', '7', '45', '4', '5', '23', 'k1', 'sudh', 'k2', 'ineuron', 'k3', 'kumar', '3', '6', '7', '8', 'ineuron']\n",
      "----------------------------------------------------------------------------------------------------\n"
     ]
    }
   ],
   "source": [
    "l = [[1,2,3,4] , (2,3,4,5,6) , (3,4,5,6,7) , set([23,4,5,45,4,4,5,45,45,4,5]) , {'k1' :\"sudh\" , \"k2\" : \"ineuron\",\"k3\":\"kumar\" , 3:6 , 7:8} , [\"ineuron\" , \"data science\"]]\n",
    "lst=[]\n",
    "for i in l:\n",
    "    if type(i) == list or type(i) == tuple or type(i) == set:\n",
    "        for k in i:\n",
    "            lst.append(k)\n",
    "    elif type(i) == dict:\n",
    "        for j in i.items():\n",
    "            lst=lst+list(j)    \n",
    "print(\"Converted Origianl List:\", lst)\n",
    "print(\"-\"*100)\n",
    "lst2=[]\n",
    "for i in lst:\n",
    "    lst2.append(str(i))\n",
    "print(\"Converted string values:\",lst2)\n",
    "print(\"-\"*100)\n",
    "\n",
    "str1=[]\n",
    "for i in lst2:\n",
    "    if i.isalnum() == True:\n",
    "        str1.append(i)\n",
    "else:\n",
    "    print(\"The alpha numeric values are:{}\".format(str1))\n",
    "print(\"-\"*100)\n"
   ]
  },
  {
   "cell_type": "markdown",
   "id": "c99e75ad",
   "metadata": {},
   "source": [
    "**q14 : Try to find out multiplication of all numeric value in  the individual collection inside dataset** \n"
   ]
  },
  {
   "cell_type": "code",
   "execution_count": 40,
   "id": "fb79ecfa",
   "metadata": {},
   "outputs": [
    {
     "data": {
      "text/plain": [
       "[[1, 2, 3, 4],\n",
       " (2, 3, 4, 5, 6),\n",
       " (3, 4, 5, 6, 7),\n",
       " {4, 5, 23, 45},\n",
       " {'k1': 'sudh', 'k2': 'ineuron', 'k3': 'kumar', 3: 6, 7: 8},\n",
       " ['ineuron', 'data science']]"
      ]
     },
     "execution_count": 40,
     "metadata": {},
     "output_type": "execute_result"
    }
   ],
   "source": [
    "l = [[1,2,3,4] , (2,3,4,5,6) , (3,4,5,6,7) , set([23,4,5,45,4,4,5,45,45,4,5]) , {'k1' :\"sudh\" , \"k2\" : \"ineuron\",\"k3\":\"kumar\" , 3:6 , 7:8} , [\"ineuron\" , \"data science\"]]\n",
    "\n",
    "l"
   ]
  },
  {
   "cell_type": "code",
   "execution_count": 41,
   "id": "4e8ce5e8",
   "metadata": {},
   "outputs": [
    {
     "name": "stdout",
     "output_type": "stream",
     "text": [
      "[1, 2, 3, 4]\n",
      "(2, 3, 4, 5, 6)\n",
      "(3, 4, 5, 6, 7)\n",
      "{45, 4, 5, 23}\n",
      "{'k1': 'sudh', 'k2': 'ineuron', 'k3': 'kumar', 3: 6, 7: 8}\n",
      "['ineuron', 'data science']\n"
     ]
    }
   ],
   "source": [
    "for i in l:\n",
    "    print(i)\n"
   ]
  },
  {
   "cell_type": "code",
   "execution_count": 42,
   "id": "3ca093df",
   "metadata": {},
   "outputs": [
    {
     "data": {
      "text/plain": [
       "6"
      ]
     },
     "execution_count": 42,
     "metadata": {},
     "output_type": "execute_result"
    }
   ],
   "source": [
    "len(l)"
   ]
  },
  {
   "cell_type": "code",
   "execution_count": 43,
   "id": "5aa5b673",
   "metadata": {},
   "outputs": [
    {
     "name": "stdout",
     "output_type": "stream",
     "text": [
      "[1, 2, 3, 4]\n",
      "(2, 3, 4, 5, 6)\n",
      "(3, 4, 5, 6, 7)\n",
      "{45, 4, 5, 23}\n",
      "{'k1': 'sudh', 'k2': 'ineuron', 'k3': 'kumar', 3: 6, 7: 8}\n",
      "['ineuron', 'data science']\n",
      "Number of items in the list: 6\n",
      "----------------------------------------------------------------------------------------------------\n",
      "Multiplication of numeric elements in the list\n",
      "list item 0: [1, 2, 3, 4]\n",
      "Multiplication of list elements:\n",
      "24\n",
      "list item 1: (2, 3, 4, 5, 6)\n",
      "Multiplication of list elements:\n",
      "720\n",
      "list item 2: (3, 4, 5, 6, 7)\n",
      "Multiplication of list elements:\n",
      "2520\n",
      "list item 3: {45, 4, 5, 23}\n",
      "Multiplication of list elements:\n",
      "20700\n",
      "list item 4: {'k1': 'sudh', 'k2': 'ineuron', 'k3': 'kumar', 3: 6, 7: 8}\n",
      "Multiplication of list elements:\n",
      "21\n",
      "list item 5: ['ineuron', 'data science']\n",
      "Multiplication of list elements:\n",
      "1\n"
     ]
    }
   ],
   "source": [
    "from operator import mul\n",
    "for i in l:\n",
    "    print(i)\n",
    "i=len(l)\n",
    "print(\"Number of items in the list:\", i)\n",
    "print(\"-\"*100)\n",
    "print(\"Multiplication of numeric elements in the list\")\n",
    "#p=1\n",
    "for i in range(i):\n",
    "    print(\"list item {}: {}\".format(i,l[i]))\n",
    "    print(\"Multiplication of list elements:\")\n",
    "    p=1\n",
    "    for j in l[i]:\n",
    "        if type(j)==int:\n",
    "            p=mul(p,j)\n",
    "    print(p)"
   ]
  },
  {
   "cell_type": "markdown",
   "id": "31ccf62f",
   "metadata": {},
   "source": [
    "**q15 : Try to unwrape all the collection inside collection and create a flat list**"
   ]
  },
  {
   "cell_type": "code",
   "execution_count": 44,
   "id": "885cd20f",
   "metadata": {},
   "outputs": [
    {
     "name": "stdout",
     "output_type": "stream",
     "text": [
      "Original List: [[1, 2, 3, 4], (2, 3, 4, 5, 6), (3, 4, 5, 6, 7), {45, 4, 5, 23}, {'k1': 'sudh', 'k2': 'ineuron', 'k3': 'kumar', 3: 6, 7: 8}, ['ineuron', 'data science']]\n",
      "----------------------------------------------------------------------------------------------------\n",
      "Converted Origianl List: [1, 2, 3, 4, 2, 3, 4, 5, 6, 3, 4, 5, 6, 7, 45, 4, 5, 23, 'k1', 'sudh', 'k2', 'ineuron', 'k3', 'kumar', 3, 6, 7, 8, 'ineuron', 'data science']\n"
     ]
    }
   ],
   "source": [
    "l = [[1,2,3,4] , (2,3,4,5,6) , (3,4,5,6,7) , set([23,4,5,45,4,4,5,45,45,4,5]) , {'k1' :\"sudh\" , \"k2\" : \"ineuron\",\"k3\":\"kumar\" , 3:6 , 7:8} , [\"ineuron\" , \"data science\"]]\n",
    "lst=[]\n",
    "for i in l:\n",
    "    if type(i) == list or type(i) == tuple or type(i) == set:\n",
    "        for k in i:\n",
    "            lst.append(k)\n",
    "    elif type(i) == dict:\n",
    "        for j in i.items():\n",
    "            lst=lst+list(j)    \n",
    "print(\"Original List:\", l)\n",
    "print(\"-\"*100)\n",
    "print(\"Converted Origianl List:\", lst)\n"
   ]
  },
  {
   "cell_type": "code",
   "execution_count": null,
   "id": "17b144af",
   "metadata": {},
   "outputs": [],
   "source": []
  }
 ],
 "metadata": {
  "kernelspec": {
   "display_name": "Python 3 (ipykernel)",
   "language": "python",
   "name": "python3"
  },
  "language_info": {
   "codemirror_mode": {
    "name": "ipython",
    "version": 3
   },
   "file_extension": ".py",
   "mimetype": "text/x-python",
   "name": "python",
   "nbconvert_exporter": "python",
   "pygments_lexer": "ipython3",
   "version": "3.9.13"
  }
 },
 "nbformat": 4,
 "nbformat_minor": 5
}
