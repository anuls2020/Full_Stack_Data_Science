{
 "cells": [
  {
   "cell_type": "markdown",
   "id": "59acbeb5",
   "metadata": {},
   "source": [
    "### q1. Try to print prime number in between 1 to 1000"
   ]
  },
  {
   "cell_type": "code",
   "execution_count": 21,
   "id": "f7b9abe0",
   "metadata": {},
   "outputs": [
    {
     "name": "stdout",
     "output_type": "stream",
     "text": [
      "[2, 3, 5, 7, 11, 13, 17, 19, 23, 25, 29, 31, 37, 41, 43, 47, 49, 53, 59, 61, 67, 71, 73, 77, 79, 83, 89, 91, 97, 101, 103, 107, 109, 113, 119, 121, 127, 131, 133, 137, 139, 149, 151, 157, 161, 163, 167, 169, 173, 179, 181, 191, 193, 197, 199, 203, 211, 217, 221, 223, 227, 229, 233, 239, 241, 247, 251, 257, 259, 263, 269, 271, 277, 281, 283, 287, 289, 293, 299, 301, 307, 311, 313, 317, 329, 331, 337, 343, 347, 349, 353, 359, 361, 367, 371, 373, 377, 379, 383, 389, 397, 401, 403, 409, 413, 419, 421, 427, 431, 433, 437, 439, 443, 449, 457, 461, 463, 467, 469, 479, 481, 487, 491, 497, 499, 503, 509, 511, 521, 523, 529, 533, 541, 547, 551, 553, 557, 559, 563, 569, 571, 577, 581, 587, 589, 593, 599, 601, 607, 611, 613, 617, 619, 623, 631, 637, 641, 643, 647, 653, 659, 661, 673, 677, 679, 683, 689, 691, 701, 703, 707, 709, 719, 721, 727, 733, 739, 743, 749, 751, 757, 761, 763, 767, 769, 773, 779, 787, 791, 793, 797, 809, 811, 817, 821, 823, 827, 829, 839, 841, 853, 857, 859, 863, 871, 877, 881, 883, 887, 889, 893, 907, 911, 917, 919, 923, 929, 931, 937, 941, 947, 949, 953, 959, 961, 967, 971, 973, 977, 983, 991, 997]\n"
     ]
    }
   ],
   "source": [
    "def is_prime_num(num):\n",
    "    if num <= 1:\n",
    "        return False\n",
    "    if num <=3:\n",
    "        return True\n",
    "    if num % 2 == 0 or num % 3 == 0:\n",
    "        return False\n",
    "    \n",
    "    i = 5\n",
    "    while i * i < num:\n",
    "        if num % i == 0 or num % i+2 == 0 :\n",
    "            return False\n",
    "        i += 6\n",
    "    return True\n",
    "\n",
    "l =[]\n",
    "for number in range(1,1000):\n",
    "    if is_prime_num(number):\n",
    "        l.append(number)\n",
    "print(l)"
   ]
  },
  {
   "cell_type": "markdown",
   "id": "063ae144",
   "metadata": {},
   "source": [
    "### q2. Try to write a function which is equivalent to print function in python"
   ]
  },
  {
   "cell_type": "code",
   "execution_count": 32,
   "id": "4d4b0223",
   "metadata": {},
   "outputs": [
    {
     "name": "stdout",
     "output_type": "stream",
     "text": [
      "Hello World\n",
      "this is Python programming\n"
     ]
    }
   ],
   "source": [
    "def custome_print(*args, sep = ' ', end = '\\n'):\n",
    "    '''Custome print function which will mimic the functionality of the functions\n",
    "    Args:\n",
    "        *args: Values to be printed\n",
    "        sep: word seperator, default is space(' ').\n",
    "        end: Ending character, default is newline('\\n')\n",
    "    '''\n",
    "    output = sep.join(map(str, args)) + end\n",
    "#     return output\n",
    "    print(output, end=\"\")\n",
    "\n",
    "\n",
    "# Function call\n",
    "custome_print(\"Hello\", \"World\")\n",
    "custome_print('this is', 'Python', 'programming')"
   ]
  },
  {
   "cell_type": "markdown",
   "id": "93d99771",
   "metadata": {},
   "source": [
    "### q3. Try to write a function which is a replica of list append, extend and pop function"
   ]
  },
  {
   "cell_type": "markdown",
   "id": "00fcacb9",
   "metadata": {},
   "source": [
    "**list append**"
   ]
  },
  {
   "cell_type": "code",
   "execution_count": 52,
   "id": "02facf6b",
   "metadata": {},
   "outputs": [
    {
     "name": "stdout",
     "output_type": "stream",
     "text": [
      "[1, 2, 3, 4]\n"
     ]
    }
   ],
   "source": [
    "def custom_append(lst,item):\n",
    "    lst[len(lst):] = [item]\n",
    "\n",
    "\n",
    "my_list = [1, 2, 3]\n",
    "custom_append(my_list, 4)\n",
    "print(my_list)"
   ]
  },
  {
   "cell_type": "markdown",
   "id": "828947c4",
   "metadata": {},
   "source": [
    "**list extend**"
   ]
  },
  {
   "cell_type": "code",
   "execution_count": 53,
   "id": "04eaf626",
   "metadata": {},
   "outputs": [
    {
     "name": "stdout",
     "output_type": "stream",
     "text": [
      "[1, 2, 3, 4, 5, 6]\n"
     ]
    }
   ],
   "source": [
    "def custom_extend(lst,iterable):\n",
    "    lst[len(lst):] = iterable\n",
    "\n",
    "\n",
    "my_list = [1, 2, 3]\n",
    "custom_extend(my_list, [4,5,6])\n",
    "print(my_list)"
   ]
  },
  {
   "cell_type": "markdown",
   "id": "a87750c0",
   "metadata": {},
   "source": [
    "**list pop**"
   ]
  },
  {
   "cell_type": "code",
   "execution_count": 59,
   "id": "09289ac8",
   "metadata": {},
   "outputs": [
    {
     "name": "stdout",
     "output_type": "stream",
     "text": [
      "Initial list: [1, 2, 3]\n",
      "pop index:  2\n",
      "Popped Value: 3\n",
      "List after popping: [1, 2]\n"
     ]
    }
   ],
   "source": [
    "def custom_pop(lst,index = -1):\n",
    "    if index == -1:\n",
    "        index = len(lst) -1\n",
    "        \n",
    "    popped_item = lst[index]\n",
    "    del lst[index]\n",
    "    return popped_item\n",
    "\n",
    "# Usage Example\n",
    "my_list = [1, 2, 3]\n",
    "print(\"Initial list:\",my_list)\n",
    "print(\"pop index: \", 2)\n",
    "popped_value = custom_pop(my_list, 2)\n",
    "print(\"Popped Value:\", popped_value)\n",
    "print(\"List after popping:\",my_list)"
   ]
  },
  {
   "cell_type": "markdown",
   "id": "6b39655f",
   "metadata": {},
   "source": [
    "### q4. Try to write a lambda function which can return a concatination of all the string that we will pass"
   ]
  },
  {
   "cell_type": "code",
   "execution_count": 44,
   "id": "3de805e5",
   "metadata": {},
   "outputs": [
    {
     "name": "stdout",
     "output_type": "stream",
     "text": [
      "Hello World\n"
     ]
    }
   ],
   "source": [
    "s1 = \"Hello\"\n",
    "s2 = \"World\"\n",
    "y = lambda: s1 + \" \" +s2\n",
    "\n",
    "print(y())"
   ]
  },
  {
   "cell_type": "markdown",
   "id": "89924c8b",
   "metadata": {},
   "source": [
    "### q5. Try to write a lambda function which can return list of square of all the data between 1-100"
   ]
  },
  {
   "cell_type": "code",
   "execution_count": null,
   "id": "e924ebab",
   "metadata": {},
   "outputs": [],
   "source": [
    "def squares():\n",
    "    l = []\n",
    "    for i in range(100):\n",
    "        l.append(i**2)\n",
    "    \n",
    "    return l\n",
    "\n",
    "squares()"
   ]
  },
  {
   "cell_type": "code",
   "execution_count": 40,
   "id": "60c718fa",
   "metadata": {},
   "outputs": [
    {
     "name": "stdout",
     "output_type": "stream",
     "text": [
      "[1, 4, 9, 16, 25, 36, 49, 64, 81, 100, 121, 144, 169, 196, 225, 256, 289, 324, 361, 400, 441, 484, 529, 576, 625, 676, 729, 784, 841, 900, 961, 1024, 1089, 1156, 1225, 1296, 1369, 1444, 1521, 1600, 1681, 1764, 1849, 1936, 2025, 2116, 2209, 2304, 2401, 2500, 2601, 2704, 2809, 2916, 3025, 3136, 3249, 3364, 3481, 3600, 3721, 3844, 3969, 4096, 4225, 4356, 4489, 4624, 4761, 4900, 5041, 5184, 5329, 5476, 5625, 5776, 5929, 6084, 6241, 6400, 6561, 6724, 6889, 7056, 7225, 7396, 7569, 7744, 7921, 8100, 8281, 8464, 8649, 8836, 9025, 9216, 9409, 9604, 9801, 10000]\n"
     ]
    }
   ],
   "source": [
    "squares = lambda: [i**2 for i in range(1,101)]\n",
    "\n",
    "result = squares()\n",
    "print(result)"
   ]
  },
  {
   "cell_type": "markdown",
   "id": "54939b7e",
   "metadata": {},
   "source": [
    "### q6. Try to write a 10 Different different example of lambda function with a choice of your taks"
   ]
  },
  {
   "cell_type": "code",
   "execution_count": 60,
   "id": "19a34439",
   "metadata": {},
   "outputs": [
    {
     "name": "stdout",
     "output_type": "stream",
     "text": [
      "3\n"
     ]
    }
   ],
   "source": [
    "# Addition of numbers\n",
    "add = lambda x,y: x+y\n",
    "print(add(1,2))"
   ]
  },
  {
   "cell_type": "code",
   "execution_count": 61,
   "id": "3c376e47",
   "metadata": {},
   "outputs": [
    {
     "name": "stdout",
     "output_type": "stream",
     "text": [
      "4\n"
     ]
    }
   ],
   "source": [
    "# Square of a number\n",
    "square = lambda x: x**2\n",
    "print(square(2))"
   ]
  },
  {
   "cell_type": "code",
   "execution_count": 63,
   "id": "99ae60ce",
   "metadata": {},
   "outputs": [
    {
     "name": "stdout",
     "output_type": "stream",
     "text": [
      "[2, 4, 6, 8]\n"
     ]
    }
   ],
   "source": [
    "# Filter even numbers\n",
    "numbers = [1,2,3,4,5,6,7,8,9]\n",
    "even_num = list(filter(lambda x: x%2 ==0, numbers))\n",
    "print(even_num)"
   ]
  },
  {
   "cell_type": "code",
   "execution_count": 67,
   "id": "3bd1da1a",
   "metadata": {},
   "outputs": [
    {
     "name": "stdout",
     "output_type": "stream",
     "text": [
      "Area of rectangle:  6\n"
     ]
    }
   ],
   "source": [
    "# Calculate the area of a rectangle\n",
    "area_rectangle = lambda l,b: l*b\n",
    "print(\"Area of rectangle: \", area_rectangle(2,3))"
   ]
  },
  {
   "cell_type": "code",
   "execution_count": 68,
   "id": "b0cddc73",
   "metadata": {},
   "outputs": [
    {
     "name": "stdout",
     "output_type": "stream",
     "text": [
      "olleh\n"
     ]
    }
   ],
   "source": [
    "# String reversal\n",
    "reverse_string = lambda s: s[::-1]\n",
    "print(reverse_string(\"hello\"))"
   ]
  },
  {
   "cell_type": "code",
   "execution_count": 71,
   "id": "1a0dbea2",
   "metadata": {},
   "outputs": [
    {
     "name": "stdout",
     "output_type": "stream",
     "text": [
      "[2, 3, 4, 6, 8]\n"
     ]
    }
   ],
   "source": [
    "# Check for prime numbers\n",
    "is_prime = lambda n: n>1 and all(n %i ==0 for i in range(2,int(n**0.5)+1 ))\n",
    "numbers = [1,2,3,4,5,6,7,8,9,10]\n",
    "\n",
    "prime_numbers = list(filter(is_prime, numbers))\n",
    "print(prime_numbers)"
   ]
  },
  {
   "cell_type": "code",
   "execution_count": 72,
   "id": "ba6eb624",
   "metadata": {},
   "outputs": [
    {
     "name": "stdout",
     "output_type": "stream",
     "text": [
      "[(3, 1), (1, 3), (2, 5)]\n"
     ]
    }
   ],
   "source": [
    "# Sort a List of Tuples by the Second Element\n",
    "points = [(2,5),(1,3),(3,1)]\n",
    "sorted_points = sorted(points, key = lambda x: x[1])\n",
    "print(sorted_points)"
   ]
  },
  {
   "cell_type": "code",
   "execution_count": 73,
   "id": "4babbb98",
   "metadata": {},
   "outputs": [
    {
     "name": "stdout",
     "output_type": "stream",
     "text": [
      "6\n"
     ]
    }
   ],
   "source": [
    "# Find the Maximum of Two Numbers\n",
    "maximum = lambda x,y: x if x>y else y\n",
    "print(maximum(5,6))"
   ]
  },
  {
   "cell_type": "code",
   "execution_count": 74,
   "id": "6ce6fe2c",
   "metadata": {},
   "outputs": [
    {
     "name": "stdout",
     "output_type": "stream",
     "text": [
      "93.33333333333333\n"
     ]
    }
   ],
   "source": [
    "# Convert Fahrenheit to Celsius:\n",
    "faranheit_to_celcius = lambda f: (f-32)* 5/9\n",
    "print(faranheit_to_celcius(200))"
   ]
  },
  {
   "cell_type": "code",
   "execution_count": 81,
   "id": "040d1149",
   "metadata": {},
   "outputs": [
    {
     "name": "stdout",
     "output_type": "stream",
     "text": [
      "['AS', 'VAR', 'RR']\n"
     ]
    }
   ],
   "source": [
    "# Extract Initials from Names\n",
    "names = [\"Anu Sasidharan\", \"Vaishnavi Anu Roshni\", \"Roshni Ramachandran\"]\n",
    "\n",
    "initials = list(map(lambda name: ''.join(word[0] for word in name.split()), names))\n",
    "print(initials)"
   ]
  },
  {
   "cell_type": "markdown",
   "id": "19a99df1",
   "metadata": {},
   "source": [
    "### q7. Try to write a funtion which can perform a read operation from .txt file"
   ]
  },
  {
   "cell_type": "code",
   "execution_count": 47,
   "id": "075e8a91",
   "metadata": {},
   "outputs": [
    {
     "name": "stdout",
     "output_type": "stream",
     "text": [
      "hello world\n"
     ]
    }
   ],
   "source": [
    "def read_text_file(file_path):\n",
    "    with open(file_path, 'r') as file:\n",
    "        file_content = file.read()\n",
    "    return file_content\n",
    "\n",
    "file_path = 'sample.txt'\n",
    "content = read_text_file(file_path)\n",
    "print(content)"
   ]
  },
  {
   "cell_type": "code",
   "execution_count": null,
   "id": "3d62d4b8",
   "metadata": {},
   "outputs": [],
   "source": []
  }
 ],
 "metadata": {
  "kernelspec": {
   "display_name": "Python 3 (ipykernel)",
   "language": "python",
   "name": "python3"
  },
  "language_info": {
   "codemirror_mode": {
    "name": "ipython",
    "version": 3
   },
   "file_extension": ".py",
   "mimetype": "text/x-python",
   "name": "python",
   "nbconvert_exporter": "python",
   "pygments_lexer": "ipython3",
   "version": "3.9.16"
  }
 },
 "nbformat": 4,
 "nbformat_minor": 5
}
