{
 "cells": [
  {
   "cell_type": "markdown",
   "id": "4f5cc963",
   "metadata": {},
   "source": [
    "**1.Write a Python Program to Find LCM?**\n"
   ]
  },
  {
   "cell_type": "code",
   "execution_count": null,
   "id": "a387f2a8",
   "metadata": {},
   "outputs": [],
   "source": [
    "# HCF using while loop\n",
    "# Take input from keyboard\n",
    "x=int(input(\"Enter the first number: \"))\n",
    "y=int(input(\"Enter the second number: \"))\n",
    "# Find the bigger value\n",
    "if (x>y):\n",
    "    bigger=x\n",
    "else:\n",
    "    bigger=y\n",
    "\n",
    "'''loop through the range starting from bigger values until we get the lease common multiple \n",
    "which will be divisable by both the number with reminder is 0'''\n",
    "\n",
    "\n",
    "while(True):\n",
    "    if(bigger % x == 0 and bigger % y == 0):\n",
    "        print(\"LCM of {} and {} is {}\".format(x,y,bigger))\n",
    "        break\n",
    "    bigger = bigger+1   \n",
    "'''increment the value if the if condition is false until it turns true and onc it is True, the loop will break.'''"
   ]
  },
  {
   "cell_type": "markdown",
   "id": "d48ce92b",
   "metadata": {},
   "source": [
    "**2.Write a Python Program to Find HCF?**"
   ]
  },
  {
   "cell_type": "code",
   "execution_count": null,
   "id": "54397eeb",
   "metadata": {},
   "outputs": [],
   "source": [
    "# HCF using for loop\n",
    "#Take input from keyboard\n",
    "x=int(input(\"Enter the first number: \"))\n",
    "y=int(input(\"Enter the second number: \"))\n",
    "\n",
    "# choose the smaller number\n",
    "if x > y:\n",
    "    smaller = y\n",
    "else:\n",
    "    smaller = x\n",
    "# loop through the range from 1 to smaller values until we get the highest common factor\n",
    "    \n",
    "for i in range(1, smaller+1):\n",
    "    if((x % i == 0) and (y % i == 0)):\n",
    "        hcf = i \n",
    "'''iterate through the loop from 1 to the range of value up to the smaller value, \n",
    "each time the condition mets, it assign the value to the hcf and next time \n",
    "it will be replaced with the new value and it continue till the last value.'''\n",
    "\n",
    "print(\"HCF of {} and {} is {}\".format(x,y,hcf))"
   ]
  },
  {
   "cell_type": "code",
   "execution_count": null,
   "id": "14ec4618",
   "metadata": {},
   "outputs": [],
   "source": [
    "# HCF using while loop\n",
    "\n",
    "#Take input from keyboard\n",
    "x=int(input(\"Enter the first number: \"))\n",
    "y=int(input(\"Enter the second number: \"))\n",
    "#find the smallest value\n",
    "if x > y:\n",
    "    smaller = y\n",
    "else:\n",
    "    smaller = x\n",
    "# loop through the range from smaller values to 1 until we get the highest common factor\n",
    "while(True):\n",
    "    if((x % smaller == 0) and (y % smaller == 0)):\n",
    "        hcf = smaller\n",
    "        print(\"HCF of {} and {} is {}\".format(x,y,hcf))\n",
    "        break \n",
    "'''break the loop once we get the first result, which will be the highest common factor \n",
    "as we traverse from highest value to lowest value'''\n",
    "    smaller = smaller-1  \n",
    "# decrement the value if the if condition is false until it turns true. \n",
    "    "
   ]
  },
  {
   "cell_type": "markdown",
   "id": "b448a42a",
   "metadata": {},
   "source": [
    "**3.Write a Python Program to Convert Decimal to Binary, Octal and Hexadecimal?**\n"
   ]
  },
  {
   "cell_type": "code",
   "execution_count": null,
   "id": "346fd3b1",
   "metadata": {},
   "outputs": [],
   "source": [
    "x=int(input(\"Enter the number: \"))\n",
    "print(\"Number {} Decimal System is {}\".format(x, x))\n",
    "print(\"Number {} Binary System is {}\".format(x, bin(x)))\n",
    "print(\"Number {} Octal System is {}\".format(x, oct(x)))\n",
    "print(\"Number {} Hexadecimal System is {}\".format(x, hex(x)))"
   ]
  },
  {
   "cell_type": "markdown",
   "id": "595108a7",
   "metadata": {},
   "source": [
    "**4.Write a Python Program To Find ASCII value of a character?**"
   ]
  },
  {
   "cell_type": "code",
   "execution_count": null,
   "id": "5d5bbc09",
   "metadata": {},
   "outputs": [],
   "source": [
    "ch=input(\"Enter the character: \")\n",
    "\n",
    "print(\"ASCII value of the character {} is {}\".format(ch, ord(ch)))"
   ]
  },
  {
   "cell_type": "markdown",
   "id": "d38cd5e6",
   "metadata": {},
   "source": [
    "**4.1. Write a Python Program To Find a character from its ASCII value?**"
   ]
  },
  {
   "cell_type": "code",
   "execution_count": null,
   "id": "48c29235",
   "metadata": {},
   "outputs": [],
   "source": [
    "an=int(input(\"Enter the ASCII Value: \"))\n",
    "\n",
    "print(\"ASCII value {} correspond to character {}\".format(an, chr(an)))"
   ]
  },
  {
   "cell_type": "markdown",
   "id": "b30800b2",
   "metadata": {},
   "source": [
    "**5.Write a Python Program to Make a Simple Calculator with 4 basic mathematical operations?**"
   ]
  },
  {
   "cell_type": "code",
   "execution_count": null,
   "id": "8a3bad19",
   "metadata": {},
   "outputs": [],
   "source": [
    "import sys\n",
    "\n",
    "def menu():\n",
    "    print(\"-\"*50)\n",
    "    print(\"Arihmatic Operations\")\n",
    "    print(\"-\"*50)\n",
    "    print(\"1. Addition\")\n",
    "    print(\"2. Subtraction\")\n",
    "    print(\"3. Multiplication\")\n",
    "    print(\"4. Division\")\n",
    "    print(\"5. Exit\")\n",
    "    print(\"-\"*50)\n",
    "\n",
    "def addition():\n",
    "    a=float(input(\"\\tEnter the value of a:\"))\n",
    "    b=float(input(\"\\tEnter the value of b:\"))\n",
    "    print(\"\\tsum of {} and {} is {}\".format(a,b,a+b))\n",
    "def subtraction():\n",
    "    a=float(input(\"\\t\\tEnter the value of a:\"))\n",
    "    b=float(input(\"Enter the value of b:\"))\n",
    "    print(\"\\tsum of {} and {} is {}\".format(a,b,a-b))\n",
    "def multiplication():\n",
    "    a=float(input(\"\\tEnter the value of a:\"))\n",
    "    b=float(input(\"\\tEnter the value of b:\"))\n",
    "    print(\"\\tsum of {} and {} is {}\".format(a,b,a*b))\n",
    "def division():\n",
    "    a=float(input(\"\\tEnter the value of a:\"))\n",
    "    b=float(input(\"\\tEnter the value of b:\"))\n",
    "    print(\"\\tsum of {} and {} is {}\".format(a,b,a/b))\n",
    "    \n",
    "while(True):\n",
    "    menu()#-------------------->function call\n",
    "    ch=int(input(\"Enter your Choice: \"))\n",
    "    match ch:\n",
    "        case 1:\n",
    "            addition()\n",
    "        case 2:\n",
    "            subtraction()\n",
    "        case 3:\n",
    "            multiplication()\n",
    "        case 4:\n",
    "            division()\n",
    "        case 5:\n",
    "            print(\"Thanks for using this program!\")\n",
    "            sys.exit()\n",
    "        case _:\n",
    "            print(\"Please try again with valid input\")"
   ]
  }
 ],
 "metadata": {
  "kernelspec": {
   "display_name": "Python 3 (ipykernel)",
   "language": "python",
   "name": "python3"
  },
  "language_info": {
   "codemirror_mode": {
    "name": "ipython",
    "version": 3
   },
   "file_extension": ".py",
   "mimetype": "text/x-python",
   "name": "python",
   "nbconvert_exporter": "python",
   "pygments_lexer": "ipython3",
   "version": "3.10.0"
  }
 },
 "nbformat": 4,
 "nbformat_minor": 5
}
