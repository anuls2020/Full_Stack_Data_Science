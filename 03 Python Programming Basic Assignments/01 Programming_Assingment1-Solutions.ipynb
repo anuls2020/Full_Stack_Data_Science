{
 "cells": [
  {
   "cell_type": "markdown",
   "id": "6e5db339",
   "metadata": {},
   "source": [
    "**1.\tWrite a Python program to print \"Hello Python\"?**"
   ]
  },
  {
   "cell_type": "code",
   "execution_count": 1,
   "id": "bc43a704",
   "metadata": {},
   "outputs": [
    {
     "name": "stdout",
     "output_type": "stream",
     "text": [
      "Hello Python\n"
     ]
    }
   ],
   "source": [
    "print(\"Hello Python\")"
   ]
  },
  {
   "cell_type": "markdown",
   "id": "fefff28e",
   "metadata": {},
   "source": [
    "**2.\tWrite a Python program to do arithmetical operations addition and division.?**"
   ]
  },
  {
   "cell_type": "code",
   "execution_count": 3,
   "id": "98816b1e",
   "metadata": {},
   "outputs": [
    {
     "name": "stdout",
     "output_type": "stream",
     "text": [
      "Sum of 5 and 6 = 11\n",
      "Division of 5 and 6 = 0.8333333333333334\n"
     ]
    }
   ],
   "source": [
    "a=5\n",
    "b=6\n",
    "c=a+b\n",
    "d=a/b\n",
    "print(\"Sum of {} and {} = {}\".format(a,b,c))\n",
    "print(\"Division of {} and {} = {}\".format(a,b,d))"
   ]
  },
  {
   "cell_type": "markdown",
   "id": "f079edff",
   "metadata": {},
   "source": [
    "**3.\tWrite a Python program to find the area of a triangle?**"
   ]
  },
  {
   "cell_type": "code",
   "execution_count": 6,
   "id": "d1d36cfd",
   "metadata": {},
   "outputs": [
    {
     "name": "stdout",
     "output_type": "stream",
     "text": [
      "Enter the value of Base of the triabgle: 2\n",
      "Enter the value of height of the triabgle: 3\n",
      "Area of the triabgle with base 2 and Height 3 is 3.0\n"
     ]
    }
   ],
   "source": [
    "b=int(input(\"Enter the value of Base of the triabgle: \"))\n",
    "h=int(input(\"Enter the value of height of the triabgle: \"))\n",
    "a=(b*h)*0.5\n",
    "print(\"Area of the triabgle with base {} and Height {} is {}\".format(b,h,a))"
   ]
  },
  {
   "cell_type": "markdown",
   "id": "bc8589a6",
   "metadata": {},
   "source": [
    "**4.Write a Python program to swap two variables?**"
   ]
  },
  {
   "cell_type": "code",
   "execution_count": 11,
   "id": "550044fe",
   "metadata": {},
   "outputs": [
    {
     "name": "stdout",
     "output_type": "stream",
     "text": [
      "Enter the first value: 1234\n",
      "Enter the second value: abcd\n",
      "Value of x = 1234 and y =abcd before swapping\n",
      "Value of x = abcd and y =1234 after swapping\n"
     ]
    }
   ],
   "source": [
    "x=input(\"Enter the first value: \")\n",
    "y=input(\"Enter the second value: \")\n",
    "print(\"Value of x = {} and y ={} before swapping\".format(x,y))\n",
    "x,y=y,x\n",
    "print(\"Value of x = {} and y ={} after swapping\".format(x,y))"
   ]
  },
  {
   "cell_type": "markdown",
   "id": "581d686b",
   "metadata": {},
   "source": [
    "**5.Write a Python program to generate a random number?**"
   ]
  },
  {
   "cell_type": "code",
   "execution_count": 19,
   "id": "0c7afd3d",
   "metadata": {},
   "outputs": [
    {
     "name": "stdout",
     "output_type": "stream",
     "text": [
      "The generated random number is:  2\n"
     ]
    }
   ],
   "source": [
    "import random\n",
    "print(\"The generated random number is: \", random.randint(0,9))"
   ]
  },
  {
   "cell_type": "code",
   "execution_count": null,
   "id": "578679de",
   "metadata": {},
   "outputs": [],
   "source": []
  }
 ],
 "metadata": {
  "kernelspec": {
   "display_name": "Python 3 (ipykernel)",
   "language": "python",
   "name": "python3"
  },
  "language_info": {
   "codemirror_mode": {
    "name": "ipython",
    "version": 3
   },
   "file_extension": ".py",
   "mimetype": "text/x-python",
   "name": "python",
   "nbconvert_exporter": "python",
   "pygments_lexer": "ipython3",
   "version": "3.10.0"
  }
 },
 "nbformat": 4,
 "nbformat_minor": 5
}
