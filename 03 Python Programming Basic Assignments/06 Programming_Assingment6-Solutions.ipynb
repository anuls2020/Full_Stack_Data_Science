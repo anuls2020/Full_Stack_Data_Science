{
 "cells": [
  {
   "cell_type": "markdown",
   "id": "fd719d6a",
   "metadata": {},
   "source": [
    "**1.Write a Python Program to Display Fibonacci Sequence Using Recursion?**\n",
    "\n",
    "$F{_n} = F_{n-1} + F_{n-2}$\n",
    "\n",
    "**With initial values as**  $F_0=0$  and $F_1=1$"
   ]
  },
  {
   "cell_type": "code",
   "execution_count": 8,
   "id": "702c4b19",
   "metadata": {},
   "outputs": [
    {
     "name": "stdout",
     "output_type": "stream",
     "text": [
      "Enter the number: 15\n",
      "The Fibinocci sequesce from 1 to 15 are:\n",
      "\n",
      "0\n",
      "1\n",
      "1\n",
      "2\n",
      "3\n",
      "5\n",
      "8\n",
      "13\n",
      "21\n",
      "34\n",
      "55\n",
      "89\n",
      "144\n",
      "233\n",
      "377\n"
     ]
    }
   ],
   "source": [
    "#define the function fibser to generate the fibinocci series with condition check for the initial values\n",
    "def fibser(n): # generate the fibinocci number for each input of n received form the for loop in main program\n",
    "    if n<=1:\n",
    "        return n\n",
    "    else:\n",
    "        return(fibser(n-1)+fibser(n-2))\n",
    "    \n",
    "#main program\n",
    "n=int(input(\"Enter the number: \"))\n",
    "if n<=0:  #Condition check for -ve values\n",
    "    print(\"Invalid number, Enter a positive intiger\")\n",
    "else: \n",
    "    print(\"The Fibinocci sequesce from 1 to {} are:\\n\".format(n))\n",
    "    for i in range(n): #iteration through each values ranging from 0 to n-1\n",
    "        print(fibser(i))  # Function call with the keyword argument as iteration value of for loop\n",
    "    "
   ]
  },
  {
   "cell_type": "markdown",
   "id": "ec284209",
   "metadata": {},
   "source": [
    "**2.Write a Python Program to Find Factorial of Number Using Recursion?**\n",
    "\n",
    "$n!=n(n-1)!$     \n",
    "\n",
    "Provided $n\\geq1$"
   ]
  },
  {
   "cell_type": "code",
   "execution_count": 27,
   "id": "19ebc950",
   "metadata": {},
   "outputs": [
    {
     "name": "stdout",
     "output_type": "stream",
     "text": [
      "Enter the value of n: 10\n",
      "Factorial of 10 is 3628800\n"
     ]
    }
   ],
   "source": [
    "#function definition\n",
    "def facto(n):\n",
    "    if n == 1:\n",
    "        return n\n",
    "    else:\n",
    "        return n*facto(n-1) #recursion called through function to avoid the last number as \n",
    "    \n",
    "#main program\n",
    "n=int(input(\"Enter the value of n: \"))\n",
    "if n < 0:\n",
    "    print(\"Factorial is not applicable for negative numbers\")\n",
    "elif n == 0:\n",
    "    print(\"Factorial of 0 is 1\")\n",
    "else:\n",
    "    print(\"Factorial of {} is {}\".format(n, facto(n)))"
   ]
  },
  {
   "cell_type": "markdown",
   "id": "ab12461e",
   "metadata": {},
   "source": [
    "**3.Write a Python Program to calculate your Body Mass Index?**\n"
   ]
  },
  {
   "cell_type": "code",
   "execution_count": 36,
   "id": "86e0904b",
   "metadata": {},
   "outputs": [
    {
     "name": "stdout",
     "output_type": "stream",
     "text": [
      "Enter the weight of the body in kg: 91\n",
      "Enter the height of the body in meter: 3.1\n",
      "The height is abnormal, Please enter correct height in meters\n"
     ]
    }
   ],
   "source": [
    "#function call for finding the bmi value\n",
    "def bmi(wt,ht):\n",
    "    return wt/(ht**2)\n",
    "\n",
    "#main program\n",
    "wt=float(input(\"Enter the weight of the body in kg: \"))\n",
    "ht=float(input(\"Enter the height of the body in meter: \"))\n",
    "if ht < 0 or ht > 3:\n",
    "    print(\"The height is abnormal, Please enter correct height in meters\")\n",
    "else:\n",
    "    print(\"The BMI of the person with height {} and weight {} is {}\".format(ht,wt,bmi(wt, ht) ))"
   ]
  },
  {
   "cell_type": "markdown",
   "id": "e6cb2fb3",
   "metadata": {},
   "source": [
    "**4.Write a Python Program to calculate the natural logarithm of any number?**"
   ]
  },
  {
   "cell_type": "code",
   "execution_count": 40,
   "id": "7e8a46ac",
   "metadata": {},
   "outputs": [
    {
     "name": "stdout",
     "output_type": "stream",
     "text": [
      "Enter the number:5\n",
      "The Natural Log of the number 5.0 is 1.6094379124341003\n"
     ]
    }
   ],
   "source": [
    "#import required modules\n",
    "import math\n",
    "\n",
    "#function definition\n",
    "def nlog(n):\n",
    "    return math.log(n)\n",
    "\n",
    "#main program\n",
    "n=float(input(\"Enter the number:\"))\n",
    "# b=int(input(\"Enter the base:\"))\n",
    "if n<=0:\n",
    "    print(\"Invalid number:\")\n",
    "else:\n",
    "    print(\"The Natural Log of the number {} is {}\".format(n,nlog(n)))"
   ]
  },
  {
   "cell_type": "markdown",
   "id": "fcaee144",
   "metadata": {},
   "source": [
    "**5.Write a Python Program for cube sum of first n natural numbers?**\n",
    "\n",
    "$Sn=\\frac{n(n+1)}2$"
   ]
  },
  {
   "cell_type": "code",
   "execution_count": 48,
   "id": "44e935db",
   "metadata": {},
   "outputs": [
    {
     "name": "stdout",
     "output_type": "stream",
     "text": [
      "Enter the number:4\n",
      "The cube sum of first 4 natural number is 100\n"
     ]
    }
   ],
   "source": [
    "#define the function to find the cube sum\n",
    "\n",
    "def cubesum(n):\n",
    "    s=0\n",
    "    for i in range(1,n+1):\n",
    "        s=s+i**3\n",
    "    return s\n",
    "    \n",
    "    \n",
    "#Main Program\n",
    "n=int(input(\"Enter the number:\"))\n",
    "if n<=0:\n",
    "    print(\"Invalid number\")\n",
    "else:\n",
    "    print(\"The cube sum of first {} natural number is {}\".format(n,cubesum(n)))"
   ]
  }
 ],
 "metadata": {
  "kernelspec": {
   "display_name": "Python 3 (ipykernel)",
   "language": "python",
   "name": "python3"
  },
  "language_info": {
   "codemirror_mode": {
    "name": "ipython",
    "version": 3
   },
   "file_extension": ".py",
   "mimetype": "text/x-python",
   "name": "python",
   "nbconvert_exporter": "python",
   "pygments_lexer": "ipython3",
   "version": "3.10.0"
  }
 },
 "nbformat": 4,
 "nbformat_minor": 5
}
