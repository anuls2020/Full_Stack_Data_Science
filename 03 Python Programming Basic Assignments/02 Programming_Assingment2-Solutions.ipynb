{
 "cells": [
  {
   "cell_type": "markdown",
   "id": "d1953bbd",
   "metadata": {},
   "source": [
    "**1.\tWrite a Python program to convert kilometers to miles?**"
   ]
  },
  {
   "cell_type": "code",
   "execution_count": 3,
   "id": "c5a251c0",
   "metadata": {},
   "outputs": [
    {
     "name": "stdout",
     "output_type": "stream",
     "text": [
      "Enter the distance in kilometers: 1\n",
      "1 km is 1.6 miles\n"
     ]
    }
   ],
   "source": [
    "km=int(input(\"Enter the distance in kilometers: \"))\n",
    "ml=km*1.60\n",
    "print(\"{} km is {} miles\".format(km,ml))"
   ]
  },
  {
   "cell_type": "markdown",
   "id": "b2fbb0f6",
   "metadata": {},
   "source": [
    "**2.\tWrite a Python program to convert Celsius to Fahrenheit?**\n"
   ]
  },
  {
   "cell_type": "code",
   "execution_count": 5,
   "id": "20a74045",
   "metadata": {},
   "outputs": [
    {
     "name": "stdout",
     "output_type": "stream",
     "text": [
      "Enter the temperature in celcius: 100\n",
      "100 drgree celcius is 212.0 drgree faranheit\n"
     ]
    }
   ],
   "source": [
    "ct=int(input(\"Enter the temperature in celcius: \"))\n",
    "ft=ct*(9/5)+32\n",
    "print(\"{} drgree celcius is {} drgree faranheit\".format(ct,ft))"
   ]
  },
  {
   "cell_type": "markdown",
   "id": "45892131",
   "metadata": {},
   "source": [
    "**3.\tWrite a Python program to display calendar?**\n"
   ]
  },
  {
   "cell_type": "code",
   "execution_count": 12,
   "id": "ce8eca95",
   "metadata": {},
   "outputs": [
    {
     "name": "stdout",
     "output_type": "stream",
     "text": [
      "Enter the year: 2005\n",
      "The calender of the year 2005 given below\n",
      "                                  2005\n",
      "\n",
      "      January                   February                   March\n",
      "Mo Tu We Th Fr Sa Su      Mo Tu We Th Fr Sa Su      Mo Tu We Th Fr Sa Su\n",
      "                1  2          1  2  3  4  5  6          1  2  3  4  5  6\n",
      " 3  4  5  6  7  8  9       7  8  9 10 11 12 13       7  8  9 10 11 12 13\n",
      "10 11 12 13 14 15 16      14 15 16 17 18 19 20      14 15 16 17 18 19 20\n",
      "17 18 19 20 21 22 23      21 22 23 24 25 26 27      21 22 23 24 25 26 27\n",
      "24 25 26 27 28 29 30      28                        28 29 30 31\n",
      "31\n",
      "\n",
      "       April                      May                       June\n",
      "Mo Tu We Th Fr Sa Su      Mo Tu We Th Fr Sa Su      Mo Tu We Th Fr Sa Su\n",
      "             1  2  3                         1             1  2  3  4  5\n",
      " 4  5  6  7  8  9 10       2  3  4  5  6  7  8       6  7  8  9 10 11 12\n",
      "11 12 13 14 15 16 17       9 10 11 12 13 14 15      13 14 15 16 17 18 19\n",
      "18 19 20 21 22 23 24      16 17 18 19 20 21 22      20 21 22 23 24 25 26\n",
      "25 26 27 28 29 30         23 24 25 26 27 28 29      27 28 29 30\n",
      "                          30 31\n",
      "\n",
      "        July                     August                  September\n",
      "Mo Tu We Th Fr Sa Su      Mo Tu We Th Fr Sa Su      Mo Tu We Th Fr Sa Su\n",
      "             1  2  3       1  2  3  4  5  6  7                1  2  3  4\n",
      " 4  5  6  7  8  9 10       8  9 10 11 12 13 14       5  6  7  8  9 10 11\n",
      "11 12 13 14 15 16 17      15 16 17 18 19 20 21      12 13 14 15 16 17 18\n",
      "18 19 20 21 22 23 24      22 23 24 25 26 27 28      19 20 21 22 23 24 25\n",
      "25 26 27 28 29 30 31      29 30 31                  26 27 28 29 30\n",
      "\n",
      "      October                   November                  December\n",
      "Mo Tu We Th Fr Sa Su      Mo Tu We Th Fr Sa Su      Mo Tu We Th Fr Sa Su\n",
      "                1  2          1  2  3  4  5  6                1  2  3  4\n",
      " 3  4  5  6  7  8  9       7  8  9 10 11 12 13       5  6  7  8  9 10 11\n",
      "10 11 12 13 14 15 16      14 15 16 17 18 19 20      12 13 14 15 16 17 18\n",
      "17 18 19 20 21 22 23      21 22 23 24 25 26 27      19 20 21 22 23 24 25\n",
      "24 25 26 27 28 29 30      28 29 30                  26 27 28 29 30 31\n",
      "31\n",
      "\n"
     ]
    }
   ],
   "source": [
    "import calendar\n",
    "y=int(input(\"Enter the year: \"))\n",
    "print(\"The calender of the year {} given below\".format(y))\n",
    "print(calendar.calendar(y))"
   ]
  },
  {
   "cell_type": "markdown",
   "id": "ed8612eb",
   "metadata": {},
   "source": [
    "**4.\tWrite a Python program to solve quadratic equation?**\n",
    "\n",
    "$ax{^2} + bx + c =0 $\n",
    "\n",
    "$a \\neq 0$\n",
    "\n",
    "Roots of the Quadratic equation:\n",
    "\n",
    "$x=\\frac{-b \\pm \\sqrt{b^2-4ac}}{2a}$"
   ]
  },
  {
   "cell_type": "code",
   "execution_count": 25,
   "id": "7c798b72",
   "metadata": {},
   "outputs": [
    {
     "name": "stdout",
     "output_type": "stream",
     "text": [
      "Enter the value of a: 1\n",
      "Enter the value of b: 5\n",
      "Enter the value of c: 2\n",
      "The solutions are (-0.4384471871911697+0j) and (-4.561552812808831+0j) \n"
     ]
    }
   ],
   "source": [
    "import cmath\n",
    "\n",
    "a=int(input(\"Enter the value of a: \"))\n",
    "b=int(input(\"Enter the value of b: \"))\n",
    "c=int(input(\"Enter the value of c: \"))\n",
    "\n",
    "d=(b**2)-(4*a*c)\n",
    "x1=(-b +cmath.sqrt(d))/(2*a)\n",
    "x2=(-b -cmath.sqrt(d))/(2*a)\n",
    "print(\"The solutions are {} and {} \".format(x1,x2))"
   ]
  },
  {
   "cell_type": "markdown",
   "id": "52d3f543",
   "metadata": {},
   "source": [
    "**5.\tWrite a Python program to swap two variables without temp variable?**"
   ]
  },
  {
   "cell_type": "code",
   "execution_count": 22,
   "id": "d5668818",
   "metadata": {},
   "outputs": [
    {
     "name": "stdout",
     "output_type": "stream",
     "text": [
      "Enter the first value: 123\n",
      "Enter the second value: 456\n",
      "Value of x = 123 and y =456 before swapping\n",
      "Value of x = 456 and y =123 after swapping\n"
     ]
    }
   ],
   "source": [
    "x=input(\"Enter the first value: \")\n",
    "y=input(\"Enter the second value: \")\n",
    "print(\"Value of x = {} and y ={} before swapping\".format(x,y))\n",
    "x,y=y,x\n",
    "print(\"Value of x = {} and y ={} after swapping\".format(x,y))"
   ]
  },
  {
   "cell_type": "code",
   "execution_count": null,
   "id": "5dea9952",
   "metadata": {},
   "outputs": [],
   "source": []
  }
 ],
 "metadata": {
  "kernelspec": {
   "display_name": "Python 3 (ipykernel)",
   "language": "python",
   "name": "python3"
  },
  "language_info": {
   "codemirror_mode": {
    "name": "ipython",
    "version": 3
   },
   "file_extension": ".py",
   "mimetype": "text/x-python",
   "name": "python",
   "nbconvert_exporter": "python",
   "pygments_lexer": "ipython3",
   "version": "3.10.0"
  }
 },
 "nbformat": 4,
 "nbformat_minor": 5
}
