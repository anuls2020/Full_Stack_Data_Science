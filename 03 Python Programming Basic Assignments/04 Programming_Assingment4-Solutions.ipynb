{
 "cells": [
  {
   "cell_type": "markdown",
   "id": "6e218a39",
   "metadata": {},
   "source": [
    "**1.\tWrite a Python Program to Find the Factorial of a Number?**"
   ]
  },
  {
   "cell_type": "code",
   "execution_count": 7,
   "id": "9a1a07c8",
   "metadata": {},
   "outputs": [
    {
     "name": "stdout",
     "output_type": "stream",
     "text": [
      "Enter the number: 6\n",
      "Factorial of 6 is 720\n"
     ]
    }
   ],
   "source": [
    "n = int(input(\"Enter the number: \"))\n",
    "fct=1\n",
    "if n==0:\n",
    "    print(\"The value of zerofactorial is 1\")\n",
    "else:\n",
    "    for i in range(1,n+1):\n",
    "        fct=fct*i\n",
    "    print(\"Factorial of {} is {}\".format(n,fct))"
   ]
  },
  {
   "cell_type": "markdown",
   "id": "8da81284",
   "metadata": {},
   "source": [
    "**2.\tWrite a Python Program to Display the multiplication Table?**"
   ]
  },
  {
   "cell_type": "code",
   "execution_count": 20,
   "id": "4c7b1b03",
   "metadata": {},
   "outputs": [
    {
     "name": "stdout",
     "output_type": "stream",
     "text": [
      "Enter the number: 5\n",
      "Multiplication table of 5\n",
      "5 x 1 = 5\n",
      "5 x 2 = 10\n",
      "5 x 3 = 15\n",
      "5 x 4 = 20\n",
      "5 x 5 = 25\n",
      "5 x 6 = 30\n",
      "5 x 7 = 35\n",
      "5 x 8 = 40\n",
      "5 x 9 = 45\n",
      "5 x 10 = 50\n"
     ]
    }
   ],
   "source": [
    "n = int(input(\"Enter the number: \"))\n",
    "if n==0:\n",
    "    print(\"Invalid Number\")\n",
    "else:\n",
    "    print(\"Multiplication table of {}\".format(n))\n",
    "    i=1\n",
    "    while(i<11):\n",
    "        print(\"{} x {} = {}\".format(n,i,n*i))\n",
    "        i+=1"
   ]
  },
  {
   "cell_type": "markdown",
   "id": "a2f54cf1",
   "metadata": {},
   "source": [
    "**3.\tWrite a Python Program to Print the Fibonacci sequence?**\n",
    "\n",
    "$F_n = F_{n-1} + F_{n-2}$\n",
    "\n",
    "With seed Values \n",
    "\n",
    "$F_0 = 0$\n",
    "\n",
    "$F_1 = 1$\n",
    "\n",
    "$F_2 = 1$"
   ]
  },
  {
   "cell_type": "code",
   "execution_count": 1,
   "id": "4cf4bc7e",
   "metadata": {},
   "outputs": [
    {
     "name": "stdout",
     "output_type": "stream",
     "text": [
      "Enter the number: 5\n",
      "The first 5 numbers in the Fibinocci sequence are  :  [0, 1, 1, 2, 3]\n"
     ]
    }
   ],
   "source": [
    "n = int(input(\"Enter the number: \"))\n",
    "\n",
    "#Fibinocci list initialization \n",
    "fiblst=[0,1]\n",
    "if n<0:\n",
    "    print(\"Invalid Input\")\n",
    "# elif n>0 and n<=2:\n",
    "#     print(fiblst)\n",
    "elif n>2:\n",
    "    for i in range(2,n):\n",
    "        #next elment in series = sum of its previous two numbers\n",
    "        nxtnum=fiblst[i-1]+fiblst[i-2]\n",
    "        #append the element to the series\n",
    "        fiblst.append(nxtnum)\n",
    "    else:\n",
    "        print(\"The first {} numbers in the Fibinocci sequence are  : \".format(n), fiblst)\n",
    "    \n",
    "    "
   ]
  },
  {
   "cell_type": "markdown",
   "id": "31b717ec",
   "metadata": {},
   "source": [
    "**4.\tWrite a Python Program to Check Armstrong Number?**\n",
    "\n",
    "**Examples of Armstrong NUmbers: 0, 1, 153, 370, 371, 407 etc..**"
   ]
  },
  {
   "cell_type": "code",
   "execution_count": 65,
   "id": "95566fa4",
   "metadata": {},
   "outputs": [
    {
     "name": "stdout",
     "output_type": "stream",
     "text": [
      "Enter the number: 64\n",
      "The given number is not Armstrong\n"
     ]
    }
   ],
   "source": [
    "n = str(input(\"Enter the number: \"))\n",
    "s = 0\n",
    "#print(len(n))\n",
    "for i in range(len(n)):\n",
    "#     print(n[i])\n",
    "    s=s+(int(n[i]))**3\n",
    "    \n",
    "#print(s)\n",
    "if int(n) == int(s):\n",
    "    print(\"The given number is Armstrong\")\n",
    "else:\n",
    "    print(\"The given number is not Armstrong\")"
   ]
  },
  {
   "cell_type": "markdown",
   "id": "2ca64d07",
   "metadata": {},
   "source": [
    "**5.Write a Python Program to Find Armstrong Number in an Interval?**"
   ]
  },
  {
   "cell_type": "code",
   "execution_count": 8,
   "id": "ef907bd7",
   "metadata": {},
   "outputs": [
    {
     "name": "stdout",
     "output_type": "stream",
     "text": [
      "Enter lower range: 0\n",
      "Enter upper range: 1000\n",
      "0\n",
      "1\n",
      "153\n",
      "370\n",
      "371\n",
      "407\n"
     ]
    }
   ],
   "source": [
    "lower = int(input(\"Enter lower range: \"))  \n",
    "upper = int(input(\"Enter upper range: \")) \n",
    "\n",
    "for i in range(lower,upper):\n",
    "    temp = i\n",
    "    sum = 0\n",
    "    while temp > 0:\n",
    "        digit = temp%10\n",
    "        sum =sum+digit**3\n",
    "        temp = temp//10\n",
    "    if sum == i:\n",
    "        print(i)\n"
   ]
  },
  {
   "cell_type": "markdown",
   "id": "c2effef8",
   "metadata": {},
   "source": [
    "**6.\tWrite a Python Program to Find the Sum of Natural Numbers?**\n",
    "\n",
    "$S = \\frac{n(n+1)}{2}$"
   ]
  },
  {
   "cell_type": "code",
   "execution_count": 21,
   "id": "bb5a7c6f",
   "metadata": {},
   "outputs": [
    {
     "name": "stdout",
     "output_type": "stream",
     "text": [
      "Enter the number: 100\n",
      "Sum of 100 natural Numbers: 5050.0\n"
     ]
    }
   ],
   "source": [
    "#with equation\n",
    "\n",
    "n = int(input(\"Enter the number: \"))\n",
    "if n<0:\n",
    "    print(\"The number is invalid:\")\n",
    "else:\n",
    "    s=0.5*(n*(n+1))\n",
    "    print(\"Sum of {} natural Numbers: {}\".format(n,s))"
   ]
  },
  {
   "cell_type": "code",
   "execution_count": 20,
   "id": "09d0fd3c",
   "metadata": {},
   "outputs": [
    {
     "name": "stdout",
     "output_type": "stream",
     "text": [
      "Enter the number: 100\n",
      "The sum of 100 natural number is: 5050\n"
     ]
    }
   ],
   "source": [
    "#with loop:\n",
    "n = int(input(\"Enter the number: \"))\n",
    "if n<0:\n",
    "    print(\"The number is invalid:\")\n",
    "else:\n",
    "    sum =0\n",
    "    n1=n\n",
    "    while (n1 > 0):\n",
    "        sum =sum +n1\n",
    "        n1 -= 1\n",
    "\n",
    "print(\"The sum of {} natural number is: {}\".format(n, sum))    "
   ]
  },
  {
   "cell_type": "code",
   "execution_count": null,
   "id": "638b3be4",
   "metadata": {},
   "outputs": [],
   "source": []
  }
 ],
 "metadata": {
  "kernelspec": {
   "display_name": "Python 3 (ipykernel)",
   "language": "python",
   "name": "python3"
  },
  "language_info": {
   "codemirror_mode": {
    "name": "ipython",
    "version": 3
   },
   "file_extension": ".py",
   "mimetype": "text/x-python",
   "name": "python",
   "nbconvert_exporter": "python",
   "pygments_lexer": "ipython3",
   "version": "3.10.0"
  }
 },
 "nbformat": 4,
 "nbformat_minor": 5
}
