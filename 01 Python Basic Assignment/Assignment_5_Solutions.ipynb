{
 "cells": [
  {
   "cell_type": "markdown",
   "metadata": {},
   "source": [
    "## Assignment-5 Solutions"
   ]
  },
  {
   "cell_type": "markdown",
   "metadata": {
    "heading_collapsed": true
   },
   "source": [
    "### 1. What does an empty dictionary's code look like?"
   ]
  },
  {
   "cell_type": "markdown",
   "metadata": {
    "hidden": true
   },
   "source": [
    "`dictobj={}`\n",
    "\n",
    "OR\n",
    "\n",
    "`dictobj=dict()`"
   ]
  },
  {
   "cell_type": "markdown",
   "metadata": {
    "heading_collapsed": true
   },
   "source": [
    "### 2. What is the value of a dictionary value with the key 'foo' and the value 42?\n"
   ]
  },
  {
   "cell_type": "code",
   "execution_count": 2,
   "metadata": {
    "hidden": true
   },
   "outputs": [
    {
     "data": {
      "text/plain": [
       "{'foo': 42}"
      ]
     },
     "execution_count": 2,
     "metadata": {},
     "output_type": "execute_result"
    }
   ],
   "source": [
    "dct={'foo':42}\n",
    "dct"
   ]
  },
  {
   "cell_type": "markdown",
   "metadata": {
    "heading_collapsed": true
   },
   "source": [
    "### 3. What is the most significant distinction between a dictionary and a list?\n"
   ]
  },
  {
   "cell_type": "markdown",
   "metadata": {
    "hidden": true
   },
   "source": [
    "* The **list** contains **ordered elements.** That means the elements of the list can be accessed using its index value. \n",
    "\n",
    "* Whereas the **ictionary objects are unordered**,  that means we cannot access the dictionary elements based on the index value. In dictionary the **keys plays the role of index** like in list, We can access the dictionary objects based on the key value of each elements.  "
   ]
  },
  {
   "cell_type": "markdown",
   "metadata": {
    "heading_collapsed": true
   },
   "source": [
    "### 4. What happens if you try to access spam`['foo']` if spam is {'bar': 100}?\n"
   ]
  },
  {
   "cell_type": "markdown",
   "metadata": {
    "hidden": true
   },
   "source": [
    "* The dictionary `spam = {'bar':100}` does not contain a key named `'foo'`. So if we try to access a dict object with its key, which is not at all present in the dictionary, we get **`KeyError`**"
   ]
  },
  {
   "cell_type": "markdown",
   "metadata": {
    "heading_collapsed": true
   },
   "source": [
    "### 5. If a dictionary is stored in spam, what is the difference between the expressions 'cat' in spam and 'cat' in spam.keys()?"
   ]
  },
  {
   "cell_type": "markdown",
   "metadata": {
    "hidden": true
   },
   "source": [
    "* **`'cat' in spam`** check the existance of the key cat in the spam dictionary, like the same way **`'cat' in spam.keys()`** do. In both the cases we will get a boolean output, **`True`** if the key present, else **`False`**"
   ]
  },
  {
   "cell_type": "code",
   "execution_count": 7,
   "metadata": {
    "hidden": true
   },
   "outputs": [
    {
     "data": {
      "text/plain": [
       "False"
      ]
     },
     "execution_count": 7,
     "metadata": {},
     "output_type": "execute_result"
    }
   ],
   "source": [
    "spam = {'bar':100}\n",
    "'cat' in spam\n",
    "'cat' in spam.keys()"
   ]
  },
  {
   "cell_type": "markdown",
   "metadata": {
    "heading_collapsed": true
   },
   "source": [
    "### 6. If a dictionary is stored in spam, what is the difference between the expressions 'cat' in spam and 'cat' in spam.values()?\n"
   ]
  },
  {
   "cell_type": "markdown",
   "metadata": {
    "hidden": true
   },
   "source": [
    "* **`'cat' in spam`** check whether the key `cat` is present in the dictionary or not, whereas **`'cat' in spam.values()`** check whether the value **`'cat'`** present in the dictionary."
   ]
  },
  {
   "cell_type": "code",
   "execution_count": 10,
   "metadata": {
    "hidden": true
   },
   "outputs": [
    {
     "data": {
      "text/plain": [
       "True"
      ]
     },
     "execution_count": 10,
     "metadata": {},
     "output_type": "execute_result"
    }
   ],
   "source": [
    "spam = {'bar':100, 200:'cat'}\n",
    "'cat' in spam\n",
    "'cat' in spam.values()"
   ]
  },
  {
   "cell_type": "markdown",
   "metadata": {
    "heading_collapsed": true
   },
   "source": [
    "### 7. What is a shortcut for the following code?\n",
    "`if 'color' not in spam:\n",
    "spam['color'] = 'black'`\n"
   ]
  },
  {
   "cell_type": "markdown",
   "metadata": {
    "hidden": true
   },
   "source": [
    "* We cna use the `setdefault` property in dictionary data type to set the value for a specific object. Once the value is set, it will be the default value and it cannot be changed. "
   ]
  },
  {
   "cell_type": "code",
   "execution_count": 33,
   "metadata": {
    "hidden": true,
    "scrolled": true
   },
   "outputs": [
    {
     "data": {
      "text/plain": [
       "'black'"
      ]
     },
     "execution_count": 33,
     "metadata": {},
     "output_type": "execute_result"
    }
   ],
   "source": [
    "spam.setdefault('color','black')"
   ]
  },
  {
   "cell_type": "code",
   "execution_count": 34,
   "metadata": {
    "hidden": true
   },
   "outputs": [
    {
     "data": {
      "text/plain": [
       "'black'"
      ]
     },
     "execution_count": 34,
     "metadata": {},
     "output_type": "execute_result"
    }
   ],
   "source": [
    "spam.setdefault('color','white')"
   ]
  },
  {
   "cell_type": "markdown",
   "metadata": {
    "hidden": true
   },
   "source": [
    "* In the above example, first weset the default value of the color as black. That's why when we try to assign another value to the same dict object, it reject the value and throw the default value.  "
   ]
  },
  {
   "cell_type": "markdown",
   "metadata": {
    "heading_collapsed": true
   },
   "source": [
    "### 8. How do you \"pretty print\" dictionary values using which module and function?"
   ]
  },
  {
   "cell_type": "markdown",
   "metadata": {
    "hidden": true
   },
   "source": [
    "* **pretty print** is a module which can be used to modify the output in more readable format. we need to import the pprint module to use it in the program.\n",
    "\n",
    "**`import pprint`**\n",
    "OR\n",
    "**`from pprint import pprint`**"
   ]
  },
  {
   "cell_type": "code",
   "execution_count": 32,
   "metadata": {
    "hidden": true
   },
   "outputs": [
    {
     "name": "stdout",
     "output_type": "stream",
     "text": [
      "[{'name': 'Anu ', 'marks': (25, 39)}, {'name': 'Roshni', 'marks': (40, 44)}, {'name': 'Vaishnavi', 'marks': (49, 50)}]\n",
      "----------------------------------------------------------------------------------------------------\n",
      "[{'marks': (25, 39), 'name': 'Anu '},\n",
      " {'marks': (40, 44), 'name': 'Roshni'},\n",
      " {'marks': (49, 50), 'name': 'Vaishnavi'}]\n"
     ]
    }
   ],
   "source": [
    "import pprint\n",
    "Student = [\n",
    "   {\n",
    "       \"name\": \"Anu \",\n",
    "       \"marks\": (25,39),\n",
    "   },\n",
    "   {\n",
    "       \"name\": \"Roshni\",\n",
    "       \"marks\": (40, 44),\n",
    "   },\n",
    "   {\n",
    "       \"name\": \"Vaishnavi\",\n",
    "       \"marks\": (49, 50),\n",
    "   }\n",
    "]\n",
    "print(Student)\n",
    "print(\"-\"*100)\n",
    "pprint.pprint(Student)\n"
   ]
  },
  {
   "cell_type": "code",
   "execution_count": null,
   "metadata": {
    "hidden": true
   },
   "outputs": [],
   "source": []
  }
 ],
 "metadata": {
  "kernelspec": {
   "display_name": "Python 3",
   "language": "python",
   "name": "python3"
  },
  "language_info": {
   "codemirror_mode": {
    "name": "ipython",
    "version": 3
   },
   "file_extension": ".py",
   "mimetype": "text/x-python",
   "name": "python",
   "nbconvert_exporter": "python",
   "pygments_lexer": "ipython3",
   "version": "3.8.5"
  }
 },
 "nbformat": 4,
 "nbformat_minor": 4
}
