{
 "cells": [
  {
   "cell_type": "markdown",
   "id": "2c6009fd",
   "metadata": {},
   "source": [
    "1. What is the relationship between def statements and lambda expressions ?"
   ]
  },
  {
   "cell_type": "markdown",
   "id": "7f9de9cb",
   "metadata": {},
   "source": [
    "`def` statement and  `lambda` expressions in python are used to create functions in python. but there are some differences. \n",
    "\n",
    "**def**\n",
    "\n",
    "- `def` is the keyword used to create the functions. Functions defined using `def` statements are more extensive and having flexible syntax.\n",
    "- Function defined using `def` are having specific names and callable anywere in the program using the same. \n",
    "- Function defined using `def` statemnts were reusable.\n",
    "- `def` function can have complex logc, conditions, loops and multiple statements. \n",
    "\n",
    "Ex:\n",
    "\n",
    "```python\n",
    "def add(a,b):\n",
    "    return a + b\n",
    "```\n",
    "\n",
    "**lambda**\n",
    "- lambda expressions are anonymous functionswith a more limited and single expression syntax. It is commonly used for simple and oneline operations. \n",
    "- lambda functions does not have a name.\n",
    "- They are commonly used for sorting, filtering and mapping.\n",
    "\n",
    "Ex:\n",
    "\n",
    "```python\n",
    "add = lambda a,b: a + b\n",
    "```\n",
    "\n",
    "The relationship between `def` and  `lambda` functions lies in the fact that both both define functions, but `lambda` functions are more precise and limited usage. "
   ]
  },
  {
   "cell_type": "markdown",
   "id": "cdd657cf",
   "metadata": {},
   "source": [
    "2. What is the benefit of lambda?\n"
   ]
  },
  {
   "cell_type": "markdown",
   "id": "c3bd7124",
   "metadata": {},
   "source": [
    "- lambda expressions are anonymous functions with single expression syntax. - It is commonly used for simple and oneline operations. \n",
    "- lambda functions does not have a name.\n",
    "- They are commonly used for sorting, filtering and mapping.\n",
    "- they are relaible due to small function definition. \n",
    "- lambda functions can be treated as data which meand we can assign them to variables, pass them as arguments to other functions or use them within data structures like lists, dictionaries and sets.\n",
    "- lambda functions are often used in functional programs such as functions like `map`, `reduce`, `filter`.\n",
    "- if there is a function which is no longer needed elsewere in the entire program, we can make use of the lambda functionswhich can helps to reduce the code overhead. \n"
   ]
  },
  {
   "cell_type": "markdown",
   "id": "ff0bd3f0",
   "metadata": {},
   "source": [
    "3. Compare and contrast map, filter, and reduce.\n"
   ]
  },
  {
   "cell_type": "markdown",
   "id": "6775194b",
   "metadata": {},
   "source": [
    "`map`,`filter` and `reduce` are three commonly used higher-order functions in python. They serve fifferent purpose while operating on iterable objects. \n",
    "\n",
    "**map**\n",
    "- `map` is used to apply a given functionsto each itemsin an iterable and return an iterable with the result of those function calls.\n",
    "- Syntax: `map(function, iterable)` where function is the iterable function and iterable is the sequence data.\n",
    "- the mqp function returns a map object(an iterator), which can be converted into list, tuple or another iterable.\n",
    "\n",
    "```python\n",
    "numbers= [1,2,3,4,5]\n",
    "squared = map(lambda x:x**2, numbers)\n",
    "```\n",
    "\n",
    "**filter**\n",
    "- `filter` is used to filter items from an iterable based on certain conditions or a given functions that returns `True` or `False` for each items.\n",
    "\n",
    "- Syntax: `filter(function, iterable)`, where the function is the filtering function which give either True or False as the output and the iterable is the sequence of items.\n",
    "- it returns a filter object(an iterator),  which can be converted into list, tuple or another iterable.\n",
    "\n",
    "```python\n",
    "numbers= [1,2,3,4,5]\n",
    "squared = map(lambda x:x%2 ==0, numbers)\n",
    "```\n",
    "\n",
    "**reduce**\n",
    "- reduce is used to cumulatively apply a function to the items in an iterable, reducing it to a single vlaue. It's often used for aggregating or combining elements.\n",
    "- Syntax: `reduce(functions, iterable)` where `function` is the reducing function and iterable is the sequence of items.\n",
    "- we need to import the reduce from the functools\n",
    "\n",
    "```python\n",
    "frmo functools import reduce\n",
    "numbers = [1,2,3,4,5]\n",
    "product = reduce(lambda x,y: x*y, numbers)\n",
    "```\n"
   ]
  },
  {
   "cell_type": "markdown",
   "id": "2e226942",
   "metadata": {},
   "source": [
    "4. What are function annotations, and how are they used?"
   ]
  },
  {
   "cell_type": "markdown",
   "id": "d8c4be12",
   "metadata": {},
   "source": [
    "Function annotations are some random expressions which are written with the functions and they are evaluated at compile time. They do not exist at runtime and there is no meaning of these expressions to python. \n",
    "Function annotations are specified using colons(:) after the parameter names and return value in a function's definition. \n",
    "Thhey typically take the form of `paramerer name:annotations`, where the annotation is an expression indicating the type or some other informations. \n",
    "\n",
    "```python\n",
    "def helloworld(name:str, age:int) -> str:\n",
    "    return f\"Hello, {name}! you are {age} years old.\"\n",
    "```\n",
    "\n",
    "`name:` str indicates that the name parameter should be of type str.\n",
    "`age:` int indicates that the age parameter should be of type int.\n",
    "`-> str` specifies that the function returns a value of type str."
   ]
  },
  {
   "cell_type": "markdown",
   "id": "9ed91c0b",
   "metadata": {},
   "source": [
    "5. What are recursive functions, and how are they used?\n"
   ]
  },
  {
   "cell_type": "markdown",
   "id": "5c3693ee",
   "metadata": {},
   "source": [
    "Recursive functions in programming are functions that call themselves in their own definition. A recursive function have two componants. a `Base Case` and a `Recursive Case`. The Recursive Functions are used to solve complex problemsby breaking them down into simpler problems until a base case is reached.  \n",
    "\n",
    "`Base Case`\n",
    "This is the termination condition that defines when the recursion should stop. It's the scenario where the function returns a specific result without making a recursive call.\n",
    "\n",
    "`Recursive Case`\n",
    "Here, the function calls itself with a modified version of the problem. It breaks down a complex problem into a smaller subproblem that is closer to the base case.\n",
    "\n",
    "Ex:\n",
    "\n",
    "```python\n",
    "def factorial(n):\n",
    "    if n == 0:           # Base Case\n",
    "        return 1\n",
    "    else:\n",
    "        return n * factorial(n-1)   # Recursive Case\n",
    "```"
   ]
  },
  {
   "cell_type": "markdown",
   "id": "fc565102",
   "metadata": {},
   "source": [
    "6. What are some general design guidelines for coding functions?\n"
   ]
  },
  {
   "cell_type": "markdown",
   "id": "cd14a28d",
   "metadata": {},
   "source": [
    "1. Single Responsibility Principle (SRP):\n",
    "\n",
    "Each function should have a single, well-defined responsibility\n",
    "\n",
    "2. Descriptive and Clear Names:\n",
    "\n",
    "Choose meaningful and descriptive names for your functions\n",
    "\n",
    "3. Consistency:\n",
    "\n",
    "Maintain a consistent naming convention for your functions throughout your codebase\n",
    "\n",
    "4. Use Parameters Effectively:\n",
    "\n",
    "Minimize the number of function parameters, and avoid using excessive numbers of parameters, as it can make functions hard to use and understand.\n",
    "\n",
    "5. Documentation and Comments:\n",
    "\n",
    "Provide clear and concise docstrings and comments to describe the purpose of the function, expected inputs, and the return value. This helps others understand how to use the function.\n",
    "\n",
    "6. Avoid Global Variables:\n",
    "\n",
    "Minimize reliance on global variables within functions. Global variables can make code less predictable and harder to test and debug.\n",
    "\n",
    "7. Consolidate and Reuse Code:\n",
    "\n",
    "Avoid duplicating code. If you find similar functionality in multiple places, consider refactoring it into a separate function that can be reused.\n",
    "\n",
    "8. Keep Functions Short and Focused:\n",
    "\n",
    "Strive to keep your functions relatively short and focused on a single task. Shorter functions are easier to understand and test.\n",
    "\n",
    "9. Error Handling:\n",
    "\n",
    "Handle errors gracefully within your functions. Consider using exceptions or return values to indicate errors when appropriate.\n",
    "\n",
    "10. Version Control:\n",
    "\n",
    "Use version control systems (e.g., Git) to track changes to your functions. This allows you to collaborate with others, revert to previous versions, and maintain a history of your code.\n"
   ]
  },
  {
   "cell_type": "markdown",
   "id": "ad587b41",
   "metadata": {},
   "source": [
    "7. Name three or more ways that functions can communicate results to a caller."
   ]
  },
  {
   "cell_type": "markdown",
   "id": "aaebb77e",
   "metadata": {},
   "source": [
    "10. Return Statement:\n",
    "\n",
    "The primary way functions communicate results is by using the return statement. When a return statement is executed within a function, it immediately exits the function and returns the specified value to the caller.\n",
    "\n",
    "2. Yielding Values (Generators):\n",
    "\n",
    "Functions can use the yield statement to create generator functions. These functions return an iterable generator object that can produce a series of values one at a time. The caller can use the next() function to obtain values from the generator.\n",
    "\n",
    "3. Exception Handling:\n",
    "\n",
    "Functions can raise exceptions to indicate errors or exceptional conditions. The caller can handle these exceptions to understand the outcome or problem encountered during the function's execution.\n"
   ]
  },
  {
   "cell_type": "code",
   "execution_count": null,
   "id": "aafbb0ed",
   "metadata": {},
   "outputs": [],
   "source": []
  }
 ],
 "metadata": {
  "kernelspec": {
   "display_name": "Python 3 (ipykernel)",
   "language": "python",
   "name": "python3"
  },
  "language_info": {
   "codemirror_mode": {
    "name": "ipython",
    "version": 3
   },
   "file_extension": ".py",
   "mimetype": "text/x-python",
   "name": "python",
   "nbconvert_exporter": "python",
   "pygments_lexer": "ipython3",
   "version": "3.9.16"
  }
 },
 "nbformat": 4,
 "nbformat_minor": 5
}
