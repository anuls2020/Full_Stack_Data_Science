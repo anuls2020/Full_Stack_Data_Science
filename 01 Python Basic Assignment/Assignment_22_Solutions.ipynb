{
 "cells": [
  {
   "cell_type": "markdown",
   "id": "f4754602",
   "metadata": {},
   "source": [
    "1. What is the result of the code, and explain?\n",
    "\n",
    "```\n",
    ">>> X = 'iNeuron'\n",
    ">>> def func():\n",
    "print(X)\n",
    "\n",
    "\n",
    ">>> func()\n",
    "```"
   ]
  },
  {
   "cell_type": "code",
   "execution_count": 1,
   "id": "2d6eb32d",
   "metadata": {},
   "outputs": [
    {
     "name": "stdout",
     "output_type": "stream",
     "text": [
      "iNeuron\n"
     ]
    }
   ],
   "source": [
    "X = 'iNeuron'\n",
    "def func():\n",
    "    print(X)\n",
    "    \n",
    "func()"
   ]
  },
  {
   "cell_type": "markdown",
   "id": "a76116f2",
   "metadata": {},
   "source": [
    "**Explanation:**\n",
    "When we call the function `func()`, it will internally call the print function. The print function have the variable `X` which holds the value `iNeuron`. There fore the function call will print the value of variable `X`"
   ]
  },
  {
   "cell_type": "markdown",
   "id": "c5ea6703",
   "metadata": {},
   "source": [
    "2. What is the result of the code, and explain?\n",
    "\n",
    "```\n",
    ">>> X = 'iNeuron'\n",
    ">>> def func():\n",
    "X = 'NI!'\n",
    "\n",
    "\n",
    ">>> func()\n",
    ">>> print(X)\n",
    "\n",
    "```\n"
   ]
  },
  {
   "cell_type": "code",
   "execution_count": 2,
   "id": "1412ff45",
   "metadata": {},
   "outputs": [
    {
     "name": "stdout",
     "output_type": "stream",
     "text": [
      "iNeuron\n"
     ]
    }
   ],
   "source": [
    "X = 'iNeuron'\n",
    "def func():\n",
    "    X = 'NI!'\n",
    "    \n",
    "func()\n",
    "print(X)"
   ]
  },
  {
   "cell_type": "markdown",
   "id": "7dc535f1",
   "metadata": {},
   "source": [
    "**Explanation:**\n",
    "The variable `X` is defined outside the function. So the value will not be changed until and unless we declare the variable as global variable inside the function. Therefore the function call will not make any sence here. However, the print(X) will printthe actual value of the varible `X` which is `iNeuron`"
   ]
  },
  {
   "cell_type": "markdown",
   "id": "24aa6043",
   "metadata": {},
   "source": [
    "3. What does this code print, and why?\n",
    "\n",
    "```\n",
    ">>> X = 'iNeuron'\n",
    ">>> def func():\n",
    "X = 'NI'\n",
    "print(X)\n",
    "\n",
    "\n",
    ">>> func()\n",
    ">>> print(X)\n",
    "```\n",
    "\n"
   ]
  },
  {
   "cell_type": "code",
   "execution_count": 3,
   "id": "ff20ea49",
   "metadata": {},
   "outputs": [
    {
     "name": "stdout",
     "output_type": "stream",
     "text": [
      "NI\n",
      "iNeuron\n"
     ]
    }
   ],
   "source": [
    "X = 'iNeuron'\n",
    "def func():\n",
    "    X = 'NI'\n",
    "    print(X)\n",
    "    \n",
    "func()\n",
    "print(X)"
   ]
  },
  {
   "cell_type": "markdown",
   "id": "940a29c6",
   "metadata": {},
   "source": [
    "**Explanation:**\n",
    "Here the function call `func()` will print the value of function variable `X` which is `NI`, where as the `print(X)` will print the value of variable `X` which is outside the function and the value is `iNeuron`"
   ]
  },
  {
   "cell_type": "markdown",
   "id": "ed7aaabb",
   "metadata": {},
   "source": [
    "4. What output does this code produce? Why?\n",
    "\n",
    "```\n",
    ">>> X = 'iNeuron'\n",
    ">>> def func():\n",
    "global X\n",
    "X = 'NI'\n",
    "\n",
    "\n",
    ">>> func()\n",
    ">>> print(X)\n",
    "```\n",
    "\n"
   ]
  },
  {
   "cell_type": "code",
   "execution_count": 4,
   "id": "055436a3",
   "metadata": {},
   "outputs": [
    {
     "name": "stdout",
     "output_type": "stream",
     "text": [
      "NI\n"
     ]
    }
   ],
   "source": [
    "X = 'iNeuron'\n",
    "def func():\n",
    "    global X\n",
    "    X = 'NI'\n",
    "    \n",
    "func()\n",
    "print(X)"
   ]
  },
  {
   "cell_type": "markdown",
   "id": "12183963",
   "metadata": {},
   "source": [
    "**Explanation:**\n",
    "Here the variable `X` is defined as global variable inside the function. Therefore, the value re assignment of the variable inside of the function is in effect and the new value will be assigned to the variable `X` as `NI`. The function call will assign the new value to the variable and the print function will print the new value of the variable as `NI`"
   ]
  },
  {
   "cell_type": "markdown",
   "id": "b4816060",
   "metadata": {},
   "source": [
    "5. What about this code—what’s the output, and why?\n",
    "\n",
    "```\n",
    ">>> X = 'iNeuron'\n",
    ">>> def func():\n",
    "X = 'NI'\n",
    "def nested():\n",
    "print(X)\n",
    "nested()\n",
    "\n",
    "\n",
    ">>> func()\n",
    ">>> X\n",
    "```\n",
    "\n"
   ]
  },
  {
   "cell_type": "code",
   "execution_count": 8,
   "id": "87737327",
   "metadata": {},
   "outputs": [
    {
     "name": "stdout",
     "output_type": "stream",
     "text": [
      "NI\n"
     ]
    },
    {
     "data": {
      "text/plain": [
       "'iNeuron'"
      ]
     },
     "execution_count": 8,
     "metadata": {},
     "output_type": "execute_result"
    }
   ],
   "source": [
    "X = 'iNeuron'\n",
    "def func():\n",
    "    X = 'NI'\n",
    "    def nested():\n",
    "        print(X)\n",
    "\n",
    "    nested()\n",
    "func()\n",
    "X"
   ]
  },
  {
   "cell_type": "markdown",
   "id": "eac5ee3a",
   "metadata": {},
   "source": [
    "**Explanation:**\n",
    "The outer function funt(), have the variable `X` with value `NI` and an inner function called `nested()` with an argunet to print the value of `X`. When the outer function , `func()` is called, it will internally call the inner function `nested()` which will print the value of `X` in the outer function. So the value of outer function call is `NI`. Outside the outer function, the variable `X` is defined with value of `iNeuron`, which will be printed as suct when we call `X`"
   ]
  },
  {
   "cell_type": "markdown",
   "id": "110a1cf6",
   "metadata": {},
   "source": [
    "6. How about this code: what is its output in Python 3, and explain?\n",
    "\n",
    "```\n",
    ">>> def func():\n",
    "X = 'NI'\n",
    "def nested():\n",
    "nonlocal X\n",
    "X = 'Spam'\n",
    "nested()\n",
    "print(X)\n",
    "\n",
    "\n",
    ">>> func()\n",
    "```"
   ]
  },
  {
   "cell_type": "code",
   "execution_count": 10,
   "id": "d4039526",
   "metadata": {},
   "outputs": [
    {
     "ename": "NameError",
     "evalue": "name 'X' is not defined",
     "output_type": "error",
     "traceback": [
      "\u001b[1;31m---------------------------------------------------------------------------\u001b[0m",
      "\u001b[1;31mNameError\u001b[0m                                 Traceback (most recent call last)",
      "Cell \u001b[1;32mIn[10], line 8\u001b[0m\n\u001b[0;32m      5\u001b[0m         X \u001b[38;5;241m=\u001b[39m \u001b[38;5;124m'\u001b[39m\u001b[38;5;124mSpam\u001b[39m\u001b[38;5;124m'\u001b[39m\n\u001b[0;32m      6\u001b[0m     nested()\n\u001b[1;32m----> 8\u001b[0m \u001b[38;5;28mprint\u001b[39m(\u001b[43mX\u001b[49m)\n",
      "\u001b[1;31mNameError\u001b[0m: name 'X' is not defined"
     ]
    }
   ],
   "source": [
    "def func():\n",
    "    X = 'NI'\n",
    "    def nested():\n",
    "        nonlocal X\n",
    "        X = 'Spam'\n",
    "    nested()\n",
    "    \n",
    "print(X)"
   ]
  },
  {
   "cell_type": "markdown",
   "id": "9d85db14",
   "metadata": {},
   "source": [
    "**Explanation:**\n",
    "In this function definition, there is no return value or print function to throw the output outside the function. Therefore, the `print(X)` will throw exception as it is not defined anywere outside the function."
   ]
  },
  {
   "cell_type": "code",
   "execution_count": null,
   "id": "3c4145b2",
   "metadata": {},
   "outputs": [],
   "source": []
  }
 ],
 "metadata": {
  "kernelspec": {
   "display_name": "Python 3 (ipykernel)",
   "language": "python",
   "name": "python3"
  },
  "language_info": {
   "codemirror_mode": {
    "name": "ipython",
    "version": 3
   },
   "file_extension": ".py",
   "mimetype": "text/x-python",
   "name": "python",
   "nbconvert_exporter": "python",
   "pygments_lexer": "ipython3",
   "version": "3.9.16"
  }
 },
 "nbformat": 4,
 "nbformat_minor": 5
}
