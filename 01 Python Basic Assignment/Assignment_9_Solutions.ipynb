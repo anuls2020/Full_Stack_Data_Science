{
 "cells": [
  {
   "cell_type": "markdown",
   "id": "153cc02c",
   "metadata": {},
   "source": [
    "1. To what does a **relative path** refer?"
   ]
  },
  {
   "cell_type": "markdown",
   "id": "5247bc7c",
   "metadata": {},
   "source": [
    "A relative path refers to the location of a file or directory in relation to another file or directory. It specifies the path to a file or directorystarting from a specific point within the file system, rather than the root directory. "
   ]
  },
  {
   "cell_type": "markdown",
   "id": "d27b3da8",
   "metadata": {},
   "source": [
    " 2. What does an **absolute path** start with your operating system?\n"
   ]
  },
  {
   "cell_type": "markdown",
   "id": "26ea0371",
   "metadata": {},
   "source": [
    "An absolute path in a file system starts with root directory of the operating system. In most of the operating systems the root directory starts with `forward slash(/)`"
   ]
  },
  {
   "cell_type": "markdown",
   "id": "c83d12f0",
   "metadata": {},
   "source": [
    " 3. What do the functions **s.getcwd() and os.chdir()** do?\n"
   ]
  },
  {
   "cell_type": "markdown",
   "id": "0557b659",
   "metadata": {},
   "source": [
    "The functions `os.getcwd()` and `os.chdir()` are used for working with file and directory paths in Python through the os module. "
   ]
  },
  {
   "cell_type": "markdown",
   "id": "29e680a1",
   "metadata": {},
   "source": [
    " 4. What are the **. and .. folders**?\n"
   ]
  },
  {
   "cell_type": "markdown",
   "id": "4cbb9974",
   "metadata": {},
   "source": [
    "`.` (dot):\n",
    "\n",
    "The . directory entry represents the `current directory`\n",
    "\n",
    "`..` (double dot):\n",
    "\n",
    "The .. directory entry represents the `parent directory`."
   ]
  },
  {
   "cell_type": "markdown",
   "id": "5c89fa72",
   "metadata": {},
   "source": [
    " 5. In **C:\\bacon\\eggs\\spam.txt**, which part is the **dir name, and which part is the base name?**\n"
   ]
  },
  {
   "cell_type": "markdown",
   "id": "33073b04",
   "metadata": {},
   "source": [
    "`Directory Name (Dir Name):`\n",
    "\n",
    "The directory name refers to the portion of the path that represents the directory or folder where the file is located. In this example, \"C:\\bacon\\eggs\" is the directory name. This is the location of the file within the file system.\n",
    "\n",
    "`Base Name:`\n",
    "\n",
    "The base name is the part of the path that represents the actual file's name, including the file extension. In this example, \"spam.txt\" is the base name. It specifies the name of the file itself, and it includes the file extension \".txt,\" which typically indicates the file's type or format."
   ]
  },
  {
   "cell_type": "markdown",
   "id": "ec1e9a13",
   "metadata": {},
   "source": [
    " 6. What are the **three “mode” arguments that can be passed to the open() function?**\n"
   ]
  },
  {
   "cell_type": "markdown",
   "id": "de0b29a7",
   "metadata": {},
   "source": [
    "`Read Mode ('r'):`\n",
    "\n",
    "This is the default mode if no mode is specified. It is used for opening a file for reading only.\n",
    "\n",
    "`Write Mode ('w'):`\n",
    "\n",
    "This mode is used for opening a file for writing, and it creates a new file or overwrites the existing file.\n",
    "\n",
    "`Append Mode ('a'):`\n",
    "\n",
    "This mode is used for opening a file for writing, but it does not truncate the file."
   ]
  },
  {
   "cell_type": "markdown",
   "id": "d56ba8e7",
   "metadata": {},
   "source": [
    " 7. What happens **if an existing file is opened in write mode?**\n"
   ]
  },
  {
   "cell_type": "markdown",
   "id": "9811368f",
   "metadata": {},
   "source": [
    "If you open an existing file in write mode ('w') using the open() function in Python, The contents of the existing file are completely removed, and the file is effectively cleared, leaving you with an empty file."
   ]
  },
  {
   "cell_type": "markdown",
   "id": "9955d3c5",
   "metadata": {},
   "source": [
    " 8. How do you tell the **difference between read() and readlines()?**\n"
   ]
  },
  {
   "cell_type": "markdown",
   "id": "e02b5a50",
   "metadata": {},
   "source": [
    "`read():`\n",
    "\n",
    "read() is used to read the entire content of a file as a single string.\n",
    "It reads the file from the current file position until the end of the file or up to a specified number of characters (if an argument is provided).\n",
    "It returns a single string containing the entire file content, including line breaks.\n",
    "\n",
    "`readlines():`\n",
    "\n",
    "readlines() is used to read the contents of a file line by line and store each line as a separate string in a list.\n",
    "It reads the file from the current file position until the end of the file.\n",
    "It returns a list of strings, with each string representing a line of text from the file."
   ]
  },
  {
   "cell_type": "markdown",
   "id": "58a91f33",
   "metadata": {},
   "source": [
    " 9. What **data structure does a shelf value resemble?**"
   ]
  },
  {
   "cell_type": "markdown",
   "id": "9d6c38a0",
   "metadata": {},
   "source": [
    "The shelf data structure provides methods for storing and retrieving values associated with keys. It provide a a dictionary-like data structure"
   ]
  }
 ],
 "metadata": {
  "kernelspec": {
   "display_name": "Python 3 (ipykernel)",
   "language": "python",
   "name": "python3"
  },
  "language_info": {
   "codemirror_mode": {
    "name": "ipython",
    "version": 3
   },
   "file_extension": ".py",
   "mimetype": "text/x-python",
   "name": "python",
   "nbconvert_exporter": "python",
   "pygments_lexer": "ipython3",
   "version": "3.9.16"
  }
 },
 "nbformat": 4,
 "nbformat_minor": 5
}
