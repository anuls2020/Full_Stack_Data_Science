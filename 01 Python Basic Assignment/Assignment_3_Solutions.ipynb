{
 "cells": [
  {
   "cell_type": "markdown",
   "metadata": {},
   "source": [
    "**1. Why are functions advantageous to have in your programs?**"
   ]
  },
  {
   "cell_type": "markdown",
   "metadata": {},
   "source": [
    "Structured Programming Languages contain Functions concept and It has the following advantages.\n",
    "\n",
    "1. **Application development time is less**\n",
    "2. **Application Takes less Memory Space**\n",
    "3. **Application Excution time is less**\n",
    "4. **Application Performnace is enhanced/improved**\n",
    "5. **Redundency(Duplication) of the code minimized**\n",
    "\n",
    "    **Examples**:- **C,CPP,JAVA,PYTHON,.NET....etc**\n"
   ]
  },
  {
   "cell_type": "markdown",
   "metadata": {},
   "source": [
    "**2. When does the code in a function run: when it's specified or when it's called?**\n",
    "\n",
    "* The code in a function runs only when it is called. "
   ]
  },
  {
   "cell_type": "markdown",
   "metadata": {},
   "source": [
    "**3. What statement creates a function?**\n",
    "\n",
    "  * The \"def\" statement creaets a function. Along with the **def** statement, we have to pass the function name followed by paranthesis which contains the **keyword arguments and formlparameters if any.** \n",
    "\n",
    "    <code>def function_name(param1,param2,..param-n):</code>"
   ]
  },
  {
   "cell_type": "markdown",
   "metadata": {},
   "source": [
    "**4. What is the difference between a function and a function call?**\n",
    "  \n",
    "  * The function definition defines a function with required arguments to process a particular set of instructions. The function definition cannot process by itself, instead it has to be called with appropriate values which matches the paramaters inside/outside the the function definition, which acts as the input to the function variables or the substitution for the formal parameters. Syntax is given below. \n",
    "  \n",
    "<div class=\"alert alert-block alert-success\">\n",
    "<b>Syntax for Function Definition:</b><br> \n",
    "    <code><b>def function_name(param1,param2,..param-n):\n",
    "    -----------------------\n",
    "    -----------------------</b></code>\n",
    "\n",
    "<b>Syntax for Function call:</b><br> \n",
    "    <code><b>function_name(arg-1,agr-2,..arg-n)\n",
    "    -----------------------</b></code>\n",
    "</div>"
   ]
  },
  {
   "cell_type": "markdown",
   "metadata": {},
   "source": [
    "**5. How many global scopes are there in a Python program? How many local scopes?**\n",
    "\n",
    "* In Python Programming, there can be only one Global scope, the variable defined as global will be visible globally with in the progran. We can make use of the Global variables in the other part of the programs like inner function, provided the variables has to be declared as global inside each inner part of the program where ever it is being used/accessed(Functions etc.). \n",
    "* Where as in Python program, the local scope is one whose availability and utility limited with in the function in which it is being defined such as Lambda functions. "
   ]
  },
  {
   "cell_type": "markdown",
   "metadata": {},
   "source": [
    "**6. What happens to variables in a local scope when the function call returns?**\n",
    "\n",
    "* When the function call returns, the local variables will be destroyed. the reason behing the destruction is **Garbage Collectors**\n",
    "* A Garbage Collector is one of the Python In-built programs, which is executing Internally behind of every Program for collecting OR de-allocating the memory space of all objects which are used in the python program.\n",
    "* In Python Programming Every Garbage Collector contains its own detsructor."
   ]
  },
  {
   "cell_type": "markdown",
   "metadata": {},
   "source": [
    "**7. What is the concept of a return value? Is it possible to have a return value in an expression?**\n",
    "\n",
    "* The functions return the output of the logic defined inside the function body. The function can process a data only after  it is being called in any of the program with appropriate inputs. if the function execution completed successfully without any error, it will return the result to the function call. \n",
    "* In Python programming, the functions can return value, which can be any type of Python objects.  "
   ]
  },
  {
   "cell_type": "markdown",
   "metadata": {},
   "source": [
    "**8. If a function does not have a return statement, what is the return value of a call to that function?**\n",
    "\n",
    "* If a function does not have a return statement, and if we cann the function we get output as `None`"
   ]
  },
  {
   "cell_type": "code",
   "execution_count": 11,
   "metadata": {},
   "outputs": [
    {
     "name": "stdout",
     "output_type": "stream",
     "text": [
      "None <class 'NoneType'>\n"
     ]
    }
   ],
   "source": [
    "def f1():\n",
    "    a=1\n",
    "    \n",
    "#main program\n",
    "result=f1()\n",
    "print(result, type(result))"
   ]
  },
  {
   "cell_type": "markdown",
   "metadata": {},
   "source": [
    "**9. How do you make a function variable refer to the global variable?**\n",
    "\n",
    "* If we want to make a variable as global, we need to declare outside the function definition.\n",
    "* And inside the function, if we want to access the global variables, we need to define the variables as global using the keyword `global`. "
   ]
  },
  {
   "cell_type": "code",
   "execution_count": 15,
   "metadata": {},
   "outputs": [
    {
     "name": "stdout",
     "output_type": "stream",
     "text": [
      "30 <class 'int'>\n"
     ]
    }
   ],
   "source": [
    "a=10                             #----------> Global variable decleration \n",
    "def f1():                        #----------> Function Definition\n",
    "    global a                     #----------> Calling Global Variable inside the function using \"global\" keyword\n",
    "    b=20                         #----------> Local variable decleration\n",
    "    c=a+b                        #----------> Processing\n",
    "    return c                     #----------> Return Value\n",
    "#main program                    #----------> Main Program\n",
    "result=f1()                      #----------> Function Call\n",
    "print(result, type(result))      #----------> print result"
   ]
  },
  {
   "cell_type": "markdown",
   "metadata": {},
   "source": [
    "**10. What is the data type of None?**\n",
    "* The DataType of \"None\" is \"**NoneType**\""
   ]
  },
  {
   "cell_type": "code",
   "execution_count": 1,
   "metadata": {},
   "outputs": [],
   "source": [
    "a=None"
   ]
  },
  {
   "cell_type": "code",
   "execution_count": 3,
   "metadata": {},
   "outputs": [
    {
     "name": "stdout",
     "output_type": "stream",
     "text": [
      "None <class 'NoneType'>\n"
     ]
    }
   ],
   "source": [
    "print(a, type(a))"
   ]
  },
  {
   "cell_type": "markdown",
   "metadata": {},
   "source": [
    "**11. What does the sentence import areallyourpetsnamederic do?**\n"
   ]
  },
  {
   "cell_type": "markdown",
   "metadata": {},
   "source": [
    "*  The import command `import areallyourpetsnamederic` will import the specified module(`areallyourpetsnamederic`) and ints features in to the program where it is imported. Once it is imported, we can utilize the functionalities defined in that module in the program where it is being imported. "
   ]
  },
  {
   "cell_type": "markdown",
   "metadata": {},
   "source": [
    "**12. If you had a bacon() feature in a spam module, what would you call it after importing spam?**\n"
   ]
  },
  {
   "cell_type": "markdown",
   "metadata": {},
   "source": [
    "* if a feature called **bacon()** available in the module called **spam**, we can call the **baecon()** function with respect to the module(`spam.bacon()`)\n",
    "<code>\n",
    "    import spam\n",
    "    ---\n",
    "    ---\n",
    "    spam.baecon(params if any)   \n",
    "</code>    "
   ]
  },
  {
   "cell_type": "markdown",
   "metadata": {},
   "source": [
    "**13. What can you do to save a programme from crashing if it encounters an error?**\n"
   ]
  },
  {
   "cell_type": "markdown",
   "metadata": {},
   "source": [
    "* For handling the program from unexpected exits due to any kind of errors, we can make use of the `try--except--finally` block. We have to write all the code; 'where ever we are expecting error'; within the `try` block. In the except block, we  have to define each individual errors seperately, which is industry recommended. So that the unexpected exit of the program can be avoided and prompt the user with a user friendly error message rather than machine gemnerated error code. Once the error is being spotted in the program execution, the execution of remaining block of code inside the try block will be terminated and the execution flow will be handed over to except block, where it will convert the Machine Generated Error Code to human understandable error code. \n",
    "* However,irrespective the status of the `try--except` block, the finally block will be executed. "
   ]
  },
  {
   "cell_type": "markdown",
   "metadata": {},
   "source": [
    "**14. What is the purpose of the try clause? What is the purpose of the except clause?**\n",
    "\n",
    "* The `try` clause is used to catch any error in the program. using try we can capture the error.\n",
    "* The `except` clause is used to define the error code in human readable format. \n",
    "\n",
    "* This is called `Exception handling`, which is used to convert machine generated error code to `human understandable error message`. Using exception handling we can avoid unexpected termination of the program."
   ]
  }
 ],
 "metadata": {
  "kernelspec": {
   "display_name": "Python 3",
   "language": "python",
   "name": "python3"
  },
  "language_info": {
   "codemirror_mode": {
    "name": "ipython",
    "version": 3
   },
   "file_extension": ".py",
   "mimetype": "text/x-python",
   "name": "python",
   "nbconvert_exporter": "python",
   "pygments_lexer": "ipython3",
   "version": "3.8.5"
  }
 },
 "nbformat": 4,
 "nbformat_minor": 4
}
