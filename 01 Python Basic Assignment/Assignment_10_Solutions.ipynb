{
 "cells": [
  {
   "cell_type": "markdown",
   "id": "2dc81c22",
   "metadata": {},
   "source": [
    " 1. How do you distinguish between **shutil.copy() and shutil.copytree()**?\n"
   ]
  },
  {
   "cell_type": "markdown",
   "id": "15c4c869",
   "metadata": {},
   "source": [
    "`shutil.copy()` and `shutil.copytree()` are two functions provided by the shutil module in Python for copying files and directories, respectively. \n",
    "\n",
    "`shutil.copy():`\n",
    "Purpose: shutil.copy() is used to copy individual files from one location to another.\n",
    "\n",
    "Usage: It takes two arguments - the source file path and the destination file path.\n",
    "\n",
    "Behavior: It creates a copy of the source file at the destination location with a new name if specified. If a file with the same name already exists at the destination, it will be overwritten.\n",
    "\n",
    "`shutil.copytree():`\n",
    "Purpose: shutil.copytree() is used to copy entire directories, including all the files and subdirectories contained within them, from one location to another.\n",
    "\n",
    "Usage: It takes two arguments - the source directory path and the destination directory path.\n",
    "\n",
    "Behavior: It recursively copies the entire directory structure from the source to the destination. If the destination directory already exists, it will raise an error.2. What **function is used to rename files?**\n"
   ]
  },
  {
   "cell_type": "markdown",
   "id": "68d8e090",
   "metadata": {},
   "source": [
    " 3. What is the **difference between the delete functions in the send2trash and shutil modules**?\n"
   ]
  },
  {
   "cell_type": "markdown",
   "id": "0225e682",
   "metadata": {},
   "source": [
    "The send2trash and shutil modules in Python provide different ways to delete files and directories. \n",
    "\n",
    "`send2trash module:`\n",
    "\n",
    "Purpose: send2trash is a third-party library that sends files and directories to the system's trash or recycle bin, making it possible to recover them later if needed.\n",
    "\n",
    "Function: The send2trash module provides a single function for deleting files and directories, which is send2trash().\n",
    "\n",
    "Safety: Deleting files and directories using send2trash() is safer in the sense that the items are moved to the system's trash or recycle bin rather than being immediately removed from the file system. This allows for easy recovery if the deletion was accidental.\n",
    "\n",
    "`shutil module:`\n",
    "\n",
    "Purpose: The shutil module is part of the Python standard library and provides various file operations, including deletion. When you use shutil to delete a file or directory, it is immediately removed from the file system.\n",
    "\n",
    "Functions: The shutil module provides multiple functions for deleting files and directories, such as shutil.remove(), shutil.rmtree(), and shutil.unlink().\n",
    "\n",
    "Safety: Deleting files or directories with shutil functions is a more permanent operation, and the deleted items are not moved to a trash or recycle bin. Therefore, extra caution is needed, as there is no built-in way to recover them directly."
   ]
  },
  {
   "cell_type": "markdown",
   "id": "f3311820",
   "metadata": {},
   "source": [
    " 4. **ZipFile objects have a close()** method just like **File objects’ close()** method. **What ZipFile method is equivalent to File objects’ open() method?**\n"
   ]
  },
  {
   "cell_type": "markdown",
   "id": "50a3bf2c",
   "metadata": {},
   "source": [
    "The equivalent method in ZipFile objects to the open() method in file objects is ZipFile() itself. We can use the ZipFile() constructor to create a new ZipFile object and open a ZIP archive file for reading or writing."
   ]
  },
  {
   "cell_type": "markdown",
   "id": "bd5c1168",
   "metadata": {},
   "source": [
    " 5. **Create a programme that searches a folder tree for files with a certain file extension (such as .pdf or .jpg). Copy these files from whatever location they are in to a new folder.**"
   ]
  },
  {
   "cell_type": "code",
   "execution_count": null,
   "id": "aa7cc64f",
   "metadata": {},
   "outputs": [],
   "source": [
    "import os\n",
    "import shutil\n",
    "\n",
    "\n",
    "def copy_file_by_extension(source_dir, target_dir, extensions):\n",
    "    for root, _, files in os.walk(source_dir):\n",
    "        for file in files:\n",
    "            if any(file.endswith(ext) for ext in extensions):\n",
    "                source_path = os.path.join(root, file)\n",
    "                target_path = os.path.join(target_dir, file)\n",
    "                shutil.copy2(source_path, target_path)\n",
    "                print(\"Copied {} to {}\".format(source_path, target_path))\n",
    "                \n",
    "\n",
    "\n",
    "# Source , destination location and the file extension\n",
    "source_directory = r'C:/Users/Owner/Desktop/FSDS_iNeuron/Assignments/01 Python Basic Assignment/Assignment-10/'\n",
    "target_directory = r'C:/Users/Owner/Desktop/FSDS_iNeuron/Assignments/01 Python Basic Assignment/Assignment-10/dest_dir/'\n",
    "file_extensions = ('.docx', 'jpg')\n",
    "\n",
    "#create target dir if not exist\n",
    "os.makedirs(target_directory, exist_ok=True)\n",
    "\n",
    "copy_file_by_extension(source_directory, target_directory, file_extensions)"
   ]
  },
  {
   "cell_type": "code",
   "execution_count": null,
   "id": "9d30755b",
   "metadata": {},
   "outputs": [],
   "source": []
  }
 ],
 "metadata": {
  "kernelspec": {
   "display_name": "Python 3 (ipykernel)",
   "language": "python",
   "name": "python3"
  },
  "language_info": {
   "codemirror_mode": {
    "name": "ipython",
    "version": 3
   },
   "file_extension": ".py",
   "mimetype": "text/x-python",
   "name": "python",
   "nbconvert_exporter": "python",
   "pygments_lexer": "ipython3",
   "version": "3.9.16"
  }
 },
 "nbformat": 4,
 "nbformat_minor": 5
}
