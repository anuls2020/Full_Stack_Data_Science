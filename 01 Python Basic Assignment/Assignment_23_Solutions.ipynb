{
 "cells": [
  {
   "cell_type": "markdown",
   "id": "f3ba0f05",
   "metadata": {},
   "source": [
    "1. What is the result of the code, and why?\n",
    "```\n",
    ">>> def func(a, b=6, c=8):\n",
    "print(a, b, c)\n",
    ">>> func(1, 2)\n",
    "```\n",
    "\n"
   ]
  },
  {
   "cell_type": "code",
   "execution_count": 1,
   "id": "7cc1f78c",
   "metadata": {},
   "outputs": [
    {
     "name": "stdout",
     "output_type": "stream",
     "text": [
      "1 2 8\n"
     ]
    }
   ],
   "source": [
    "def func(a, b=6, c=8):\n",
    "    print(a,b,c)\n",
    "func(1,2)"
   ]
  },
  {
   "cell_type": "markdown",
   "id": "f0489dde",
   "metadata": {},
   "source": [
    "**Explanation**\n",
    "The function call passes two variables, first value will be assigned to variable `a` and the second value will be assigned to variable `b`, however the variable `b` is having a value `b=6`, in this case the new value will be assigned and the old value will be replaced with the new value. finally there will not ab any change in the value of `c`"
   ]
  },
  {
   "cell_type": "markdown",
   "id": "1e98929e",
   "metadata": {},
   "source": [
    "2. What is the result of this code, and why?\n",
    "```\n",
    ">>> def func(a, b, c=5):\n",
    "print(a, b, c)\n",
    ">>> func(1, c=3, b=2)\n",
    "```"
   ]
  },
  {
   "cell_type": "code",
   "execution_count": 2,
   "id": "d69c6d74",
   "metadata": {},
   "outputs": [
    {
     "name": "stdout",
     "output_type": "stream",
     "text": [
      "1 2 3\n"
     ]
    }
   ],
   "source": [
    "def func(a,b,c=5):\n",
    "    print(a,b,c)\n",
    "    \n",
    "func(1,c=3,b=2)"
   ]
  },
  {
   "cell_type": "markdown",
   "id": "9384f009",
   "metadata": {},
   "source": [
    "**Explanation**\n",
    "in the function call, arguments are passed for each variable in the function definition. So each variable will be assigned the respective values."
   ]
  },
  {
   "cell_type": "markdown",
   "id": "12ccf93e",
   "metadata": {},
   "source": [
    "3. How about this code: what is its result, and why?\n",
    "```\n",
    ">>> def func(a, *pargs):\n",
    "print(a, pargs)\n",
    ">>> func(1, 2, 3)\n",
    "```"
   ]
  },
  {
   "cell_type": "code",
   "execution_count": 3,
   "id": "63804277",
   "metadata": {},
   "outputs": [
    {
     "name": "stdout",
     "output_type": "stream",
     "text": [
      "1 (2, 3)\n"
     ]
    }
   ],
   "source": [
    "def func(a, *pargs):\n",
    "    print(a, pargs)\n",
    "    \n",
    "func(1,2,3)"
   ]
  },
  {
   "cell_type": "markdown",
   "id": "80c9422f",
   "metadata": {},
   "source": [
    "**Explanation**\n",
    "Here the function call will assign the value of `a` as 1 where as the remaining value will be taken a sa tuple because the `*pargs` will consider the rest of the elements in a single tuple element."
   ]
  },
  {
   "cell_type": "markdown",
   "id": "ebd2742a",
   "metadata": {},
   "source": [
    "4. What does this code print, and why?\n",
    "```\n",
    ">>> def func(a, **kargs):\n",
    "print(a, kargs)\n",
    ">>> func(a=1, c=3, b=2)\n",
    "```"
   ]
  },
  {
   "cell_type": "code",
   "execution_count": 4,
   "id": "154705e7",
   "metadata": {},
   "outputs": [
    {
     "name": "stdout",
     "output_type": "stream",
     "text": [
      "1 {'c': 3, 'b': 2}\n"
     ]
    }
   ],
   "source": [
    "def func(a, **kargs):\n",
    "    print(a, kargs)\n",
    "    \n",
    "func(a=1, c=3, b=2)"
   ]
  },
  {
   "cell_type": "markdown",
   "id": "a6c76cc6",
   "metadata": {},
   "source": [
    "**Explanation**\n",
    "\n",
    "Here function call will assign first value to the first variable and the `**kargs` will consolidate the rest of the values as a dictionary with corresponding variable assignments. "
   ]
  },
  {
   "cell_type": "markdown",
   "id": "dc2cc0f5",
   "metadata": {},
   "source": [
    "5. What gets printed by this, and explain?\n",
    "```\n",
    ">>> def func(a, b, c=8, d=5): print(a, b, c, d)\n",
    ">>> func(1, *(5, 6))\n",
    "```"
   ]
  },
  {
   "cell_type": "code",
   "execution_count": 5,
   "id": "0fdc1cf6",
   "metadata": {},
   "outputs": [
    {
     "name": "stdout",
     "output_type": "stream",
     "text": [
      "1 5 6 5\n"
     ]
    }
   ],
   "source": [
    "def func(a,b,c=8,d =5):\n",
    "    print(a,b,c,d)\n",
    "\n",
    "func(1,*(5,6))"
   ]
  },
  {
   "cell_type": "markdown",
   "id": "73ca540f",
   "metadata": {},
   "source": [
    "**Explanation**\n",
    "Here value `1` will be assigned to variable `a`. the `*(5,6)` is tuple unpacking. which will assign vallue `5` to variable b and `6` to variable `c`. the variable `d` uses its default value `5`"
   ]
  },
  {
   "cell_type": "markdown",
   "id": "aa309a25",
   "metadata": {},
   "source": [
    "6. what is the result of this, and explain?\n",
    "```\n",
    ">>> def func(a, b, c): a = 2; b[0] = 'x'; c['a'] = 'y'\n",
    ">>> l=1; m=[1]; n={'a':0}\n",
    ">>> func(l, m, n)\n",
    ">>> l, m, n\n",
    "```\n"
   ]
  },
  {
   "cell_type": "code",
   "execution_count": 20,
   "id": "21f268b6",
   "metadata": {},
   "outputs": [
    {
     "data": {
      "text/plain": [
       "(1, ['x'], {'a': 'y'})"
      ]
     },
     "execution_count": 20,
     "metadata": {},
     "output_type": "execute_result"
    }
   ],
   "source": [
    "def func(a,b,c):\n",
    "    a=2\n",
    "    b[0] = 'x'\n",
    "    c['a'] = 'y'\n",
    "l=1 \n",
    "m=[1]\n",
    "n={'a':0}\n",
    "    \n",
    "func(l,m,n)\n",
    "l,m,n"
   ]
  },
  {
   "cell_type": "markdown",
   "id": "c8b29731",
   "metadata": {},
   "source": [
    "**Explanation**\n",
    "\n",
    "Here the variables outside the function defined as `l =1, m=[1], n={'a':0}`. This values will be passed as arguments in the function as parameters in the function call. Therefore, `a = 1, b = [1], c = {'a':0}`. Inside the function, the values will be reassigned as following. \n",
    "\n",
    "```\n",
    "l is still 1, a =1 --> will not be reassigned as --> a=2 because the reassignment of the value of a inside the function will not affect the original value of a outside. \n",
    "\n",
    "m is now ['x'], b = [1] --> will be reassigned as --> b[0] = 'x' ==> b = ['x]\n",
    "\n",
    "n is now {'a':'y'}, c = {'a': 0} --> will be reassigned as -->  c = {'a': 'y'}\n",
    "```\n",
    "\n",
    "Therefore, the final values of l,m,n are `(1, ['x'], {'a': 'y'})`\n"
   ]
  },
  {
   "cell_type": "code",
   "execution_count": null,
   "id": "81fd4f6d",
   "metadata": {},
   "outputs": [],
   "source": []
  }
 ],
 "metadata": {
  "kernelspec": {
   "display_name": "Python 3 (ipykernel)",
   "language": "python",
   "name": "python3"
  },
  "language_info": {
   "codemirror_mode": {
    "name": "ipython",
    "version": 3
   },
   "file_extension": ".py",
   "mimetype": "text/x-python",
   "name": "python",
   "nbconvert_exporter": "python",
   "pygments_lexer": "ipython3",
   "version": "3.9.16"
  }
 },
 "nbformat": 4,
 "nbformat_minor": 5
}
