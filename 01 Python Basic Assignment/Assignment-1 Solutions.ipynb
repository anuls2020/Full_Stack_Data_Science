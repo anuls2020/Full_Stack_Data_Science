{
 "cells": [
  {
   "cell_type": "markdown",
   "metadata": {},
   "source": [
    "##### 1. In the below elements which of them are values or an expression? eg:- values can be integer or string and expressions will be mathematical operators.\n",
    "\n",
    "\n",
    "1. '*' \t\n",
    "2. 'hello' \n",
    "3. -87.8 \t\n",
    "4. '-'\t\n",
    "5. / \t\n",
    "6. '+'\t\n",
    "7. 6 \t\t\n"
   ]
  },
  {
   "cell_type": "markdown",
   "metadata": {},
   "source": [
    "**solutions**\n",
    "\n",
    "1. '*' \t    --> Expression <br> \n",
    "2. 'hello'  --> String<br>\n",
    "3. -87.8 \t--> String<br>\n",
    "4. '-'\t    --> Expression<br>\n",
    "5. / \t    --> Expression<br>\n",
    "6. '+'\t    --> Expression<br>\n",
    "7. 6        --> String<br>     "
   ]
  },
  {
   "cell_type": "markdown",
   "metadata": {},
   "source": [
    "##### 2. What is the difference between string and variable?"
   ]
  },
  {
   "cell_type": "markdown",
   "metadata": {},
   "source": [
    "**String:**\n",
    "\n",
    "String is a collection of values, a combination of alphabets, number, and special symbols in the form of text. We can also have numetic strings, text strings etc. Usually strings are enclosed with in double inverted comas(\" \")\n",
    "\n",
    "**Examples**: \"hello\", \"12345\", \"abcd@mail.com\", etc\n",
    "\n",
    "**Variable:**\n",
    "\n",
    "Variables are those which are declared in the program to store the data during the program execution. The values has to be assigned to the variables.\n",
    "\n",
    "**Examples**: a=10, b=20.5, c=\"hello\"\n",
    "\n"
   ]
  },
  {
   "cell_type": "markdown",
   "metadata": {},
   "source": [
    "##### 3. Describe three different data types."
   ]
  },
  {
   "cell_type": "markdown",
   "metadata": {},
   "source": [
    "- The purpose of Data types in Python  is that to **allocate sufficient memory space for input values and performs Various Operations on the data**\n",
    "- In Python Programming, we have 14 Data Types. They are\n",
    "\n",
    "\n",
    "  - **Fundamental** Catagery Data Types\n",
    "        i) int\n",
    "        ii) float\n",
    "        iii) bool\n",
    "        iv) complex\n",
    "  - **Sequence** Catagery Data Types\n",
    "        i) str\n",
    "        ii) bytes\n",
    "        iii) bytearray\n",
    "        iv) range\n",
    "  - **List** Catagery Data Types (**Collection Data Types**)\n",
    "        i) list\n",
    "        ii) tuple\n",
    "  - **Set** Catagery Data Types  (**Collection Data Types**)\n",
    "        i) set\n",
    "        ii) frozenset\n",
    "  - **Dict** Catagery Data Types  (**Collection Data Types**)\n",
    "        i) dict\n",
    "  - **None** Catagery Data Type\n",
    "        i) None"
   ]
  },
  {
   "cell_type": "markdown",
   "metadata": {},
   "source": [
    "#### 4. What is an expression made up of? What do all expressions do?"
   ]
  },
  {
   "cell_type": "markdown",
   "metadata": {},
   "source": [
    "An expression is made up of operators like `+,-,*,/,%,//,**`, which is used to apply some operations over the operands and produce result."
   ]
  },
  {
   "cell_type": "markdown",
   "metadata": {},
   "source": [
    "##### 5. This assignment statements, like spam = 10. What is the difference between an expression and a statement?"
   ]
  },
  {
   "cell_type": "markdown",
   "metadata": {},
   "source": [
    "Here `spam = 10` is a statement saying the value of spam is 10. Here the spam is a variable which holds the value 10.Usually we use assignment operator `=` for declaring the variables and assigning values to the variables. Where as expression is a combination of operators and operands which can produce another output from the given operands based on the operator used. `a=10, b=20` these are statements saying the value of \"a\" and \"b\" assigned with value 10 and 20 respectively. Now we say `c=a+b` which will produce another output. See the example below."
   ]
  },
  {
   "cell_type": "code",
   "execution_count": 2,
   "metadata": {},
   "outputs": [
    {
     "data": {
      "text/plain": [
       "30"
      ]
     },
     "execution_count": 2,
     "metadata": {},
     "output_type": "execute_result"
    }
   ],
   "source": [
    "a=10    # Statement\n",
    "b=20    # Statement\n",
    "c=a+b   # Operation using expression \"+\"\n",
    "c"
   ]
  },
  {
   "cell_type": "markdown",
   "metadata": {},
   "source": [
    "#### 6. After running the following code, what does the variable bacon contain?\n",
    "bacon = 22\n",
    "\n",
    "bacon + 1\n"
   ]
  },
  {
   "cell_type": "markdown",
   "metadata": {},
   "source": [
    "The initial value of the variable \"bacon\" was 22, Once the command `bacon +1` executed, it will give the output as 23, but as the variable is not assigned to another value, the original  value doesn't change. Once if we assign the value another variable or even the same variable, the address will be changed and the value also changed."
   ]
  },
  {
   "cell_type": "code",
   "execution_count": 16,
   "metadata": {},
   "outputs": [
    {
     "data": {
      "text/plain": [
       "23"
      ]
     },
     "execution_count": 16,
     "metadata": {},
     "output_type": "execute_result"
    }
   ],
   "source": [
    "bacon = 22\n",
    "bacon + 1"
   ]
  },
  {
   "cell_type": "code",
   "execution_count": 15,
   "metadata": {},
   "outputs": [
    {
     "name": "stdout",
     "output_type": "stream",
     "text": [
      "Address of the variable before operation 140728315029952\n",
      "23\n",
      "Address of the variable before operation 140728315029984\n"
     ]
    }
   ],
   "source": [
    "bacon = 22\n",
    "print(\"Address of the variable before operation\",id(bacon))\n",
    "bacon=bacon + 1\n",
    "print(bacon)\n",
    "print(\"Address of the variable before operation\",id(bacon))"
   ]
  },
  {
   "cell_type": "markdown",
   "metadata": {},
   "source": [
    "##### 7. What should the values of the following two terms be?\n",
    "\n",
    "'spam' + 'spamspam'\n",
    "\n",
    "'spam' * 3\n"
   ]
  },
  {
   "cell_type": "markdown",
   "metadata": {},
   "source": [
    "This operation is comes under the string concatination, the first and the second operation will give the same result as \n",
    "**'spamspamspam'**"
   ]
  },
  {
   "cell_type": "markdown",
   "metadata": {},
   "source": [
    "##### 8. Why is eggs a valid variable name while 100 is invalid?"
   ]
  },
  {
   "cell_type": "markdown",
   "metadata": {},
   "source": [
    "The Variable Name **MUST starts with Either with an alphabet or Under Score ( _ )**, As per the rule \"eggs\" is valid and \"100\" is an invalid variable neame"
   ]
  },
  {
   "cell_type": "markdown",
   "metadata": {},
   "source": [
    "##### 9. What three functions can be used to get the integer, floating-point number, or string version of a value?"
   ]
  },
  {
   "cell_type": "markdown",
   "metadata": {},
   "source": [
    "val=int()\n",
    "\n",
    "val=float()\n",
    "\n",
    "val=str()"
   ]
  },
  {
   "cell_type": "code",
   "execution_count": 26,
   "metadata": {},
   "outputs": [
    {
     "name": "stdout",
     "output_type": "stream",
     "text": [
      "100 <class 'str'>\n",
      "100 <class 'int'>\n",
      "100.0 <class 'float'>\n",
      "100.0 <class 'str'>\n"
     ]
    }
   ],
   "source": [
    "a='100'\n",
    "print(a, type(a))\n",
    "b=int(a)\n",
    "print(b, type(b))\n",
    "c=float(a)\n",
    "print(c, type(c))\n",
    "d=str(c)\n",
    "print(d, type(d))"
   ]
  },
  {
   "cell_type": "markdown",
   "metadata": {},
   "source": [
    "##### 10. Why does this expression cause an error? How can you fix it?\n",
    "'I have eaten ' + 99 + ' burritos.'\n"
   ]
  },
  {
   "cell_type": "markdown",
   "metadata": {},
   "source": [
    "String can concatinate only strings, if we want to correct the above expression, we have the enclose the numbric value 99 with in the single quotes. \n",
    "\n",
    "\n",
    "'I have eaten ' + 99 + ' burritos.' --> 'I have eaten ' + '99' + ' burritos.'"
   ]
  },
  {
   "cell_type": "code",
   "execution_count": 27,
   "metadata": {},
   "outputs": [
    {
     "ename": "TypeError",
     "evalue": "can only concatenate str (not \"int\") to str",
     "output_type": "error",
     "traceback": [
      "\u001b[1;31m---------------------------------------------------------------------------\u001b[0m",
      "\u001b[1;31mTypeError\u001b[0m                                 Traceback (most recent call last)",
      "\u001b[1;32m<ipython-input-27-d24137131a5c>\u001b[0m in \u001b[0;36m<module>\u001b[1;34m\u001b[0m\n\u001b[1;32m----> 1\u001b[1;33m \u001b[1;34m'I have eaten '\u001b[0m \u001b[1;33m+\u001b[0m \u001b[1;36m99\u001b[0m \u001b[1;33m+\u001b[0m \u001b[1;34m' burritos.'\u001b[0m\u001b[1;33m\u001b[0m\u001b[1;33m\u001b[0m\u001b[0m\n\u001b[0m",
      "\u001b[1;31mTypeError\u001b[0m: can only concatenate str (not \"int\") to str"
     ]
    }
   ],
   "source": [
    "'I have eaten ' + 99 + ' burritos.'"
   ]
  },
  {
   "cell_type": "code",
   "execution_count": 28,
   "metadata": {},
   "outputs": [
    {
     "data": {
      "text/plain": [
       "'I have eaten 99 burritos.'"
      ]
     },
     "execution_count": 28,
     "metadata": {},
     "output_type": "execute_result"
    }
   ],
   "source": [
    "'I have eaten ' + '99' + ' burritos.'"
   ]
  },
  {
   "cell_type": "code",
   "execution_count": null,
   "metadata": {},
   "outputs": [],
   "source": []
  }
 ],
 "metadata": {
  "kernelspec": {
   "display_name": "Python 3 (ipykernel)",
   "language": "python",
   "name": "python3"
  },
  "language_info": {
   "codemirror_mode": {
    "name": "ipython",
    "version": 3
   },
   "file_extension": ".py",
   "mimetype": "text/x-python",
   "name": "python",
   "nbconvert_exporter": "python",
   "pygments_lexer": "ipython3",
   "version": "3.9.12"
  }
 },
 "nbformat": 4,
 "nbformat_minor": 4
}
