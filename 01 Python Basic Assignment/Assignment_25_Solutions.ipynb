{
 "cells": [
  {
   "cell_type": "markdown",
   "id": "7415f072",
   "metadata": {},
   "source": [
    "1) What is the difference between enclosing a list comprehension in square brackets and parentheses?\n"
   ]
  },
  {
   "cell_type": "markdown",
   "id": "463e7fde",
   "metadata": {},
   "source": [
    "the list comprehension in square bracker will **generate another list** with result of the iteration. "
   ]
  },
  {
   "cell_type": "code",
   "execution_count": 4,
   "id": "ededdc8e",
   "metadata": {},
   "outputs": [
    {
     "data": {
      "text/plain": [
       "[1, 4, 9, 16, 25]"
      ]
     },
     "execution_count": 4,
     "metadata": {},
     "output_type": "execute_result"
    }
   ],
   "source": [
    "numbers = [1, 2, 3, 4, 5]\n",
    "squared = [x**2 for x in numbers]\n",
    "squared"
   ]
  },
  {
   "cell_type": "markdown",
   "id": "77c7d956",
   "metadata": {},
   "source": [
    "The list comprehension in paranthesis will createa **generator object.**"
   ]
  },
  {
   "cell_type": "code",
   "execution_count": 5,
   "id": "231d6246",
   "metadata": {},
   "outputs": [
    {
     "data": {
      "text/plain": [
       "<generator object <genexpr> at 0x00000232825815F0>"
      ]
     },
     "execution_count": 5,
     "metadata": {},
     "output_type": "execute_result"
    }
   ],
   "source": [
    "numbers = [1, 2, 3, 4, 5]\n",
    "squared = (x**2 for x in numbers)\n",
    "squared"
   ]
  },
  {
   "cell_type": "markdown",
   "id": "400afff8",
   "metadata": {},
   "source": [
    "2) What is the relationship between generators and iterators?\n"
   ]
  },
  {
   "cell_type": "markdown",
   "id": "8a8f49f7",
   "metadata": {},
   "source": [
    "iterators are the object that uses the  `next()` method to get the next value ofthe sequence.  Whereas, generator is a function produce or yields a sequence of values using `yield` statement. "
   ]
  },
  {
   "cell_type": "markdown",
   "id": "f1f4bc8c",
   "metadata": {},
   "source": [
    "3) What are the signs that a function is a generator function?\n"
   ]
  },
  {
   "cell_type": "markdown",
   "id": "99ad0d38",
   "metadata": {},
   "source": [
    "If the function contains a `yield` statement instead of return or print, then it ca called as a generator function. "
   ]
  },
  {
   "cell_type": "markdown",
   "id": "b027990a",
   "metadata": {},
   "source": [
    "4) What is the purpose of a yield statement?\n"
   ]
  },
  {
   "cell_type": "markdown",
   "id": "06d745c4",
   "metadata": {},
   "source": [
    "`yield` keyword/statement is used to create a generator function in python."
   ]
  },
  {
   "cell_type": "markdown",
   "id": "a7c8146d",
   "metadata": {},
   "source": [
    "5) What is the relationship between map calls and list comprehensions? Make a comparison and contrast between the two.\n"
   ]
  },
  {
   "cell_type": "markdown",
   "id": "a42fdbf5",
   "metadata": {},
   "source": [
    "`map calls` and  `list comprehension` are both ways to apply a function to a sequence of elements (ex. list) in python. But there are few key differences. \n",
    "\n",
    "**map calls**\n",
    "\n",
    "* `map` is used to apply a function to each elements of an iterable objecct and create a map object. \n",
    "* It is designed to apply the function element wise. \n",
    "* map perform lazy evaluation. It means that it never compute results until we iterate over the map object. \n",
    "* The original sequence is not modified. it will create a new map object. \n",
    "\n",
    "**list comprehension**\n",
    "\n",
    "* list comprehension are used to create a new list by applying an expression to each item in an iterable and create a new list. \n",
    "* it is an eager evaluation that means they evaluate the entire expression and create a new list in memory all at once. \n",
    "* The original list is unchanged. it will create a new list. \n",
    "\n",
    "**Comparison:**\n",
    "* Both `map` and `list comprehensions` are used for transforming data by applying a function to each element in an iterable.\n",
    "\n",
    "**Contrast**\n",
    "* `map` is designed specifically for element-wise application of a function and returns an iterable (map object), while `list comprehensions` are designed to create new lists.\n",
    "* `List comprehensions` offer more flexibility because they allow you to apply expressions and filter data simultaneously, whereas map is primarily for applying functions only.\n",
    "* `List comprehensions` are useful for simple operations.\n",
    "* `map` is lazier, which can be beneficial in terms of memory efficiency when dealing with large datasets"
   ]
  },
  {
   "cell_type": "code",
   "execution_count": null,
   "id": "f34abfe7",
   "metadata": {},
   "outputs": [],
   "source": []
  }
 ],
 "metadata": {
  "kernelspec": {
   "display_name": "Python 3 (ipykernel)",
   "language": "python",
   "name": "python3"
  },
  "language_info": {
   "codemirror_mode": {
    "name": "ipython",
    "version": 3
   },
   "file_extension": ".py",
   "mimetype": "text/x-python",
   "name": "python",
   "nbconvert_exporter": "python",
   "pygments_lexer": "ipython3",
   "version": "3.9.16"
  }
 },
 "nbformat": 4,
 "nbformat_minor": 5
}
