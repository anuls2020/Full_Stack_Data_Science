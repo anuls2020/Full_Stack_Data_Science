{
 "cells": [
  {
   "cell_type": "markdown",
   "id": "e52e849d",
   "metadata": {},
   "source": [
    "# Assignment-7 Solutions"
   ]
  },
  {
   "cell_type": "markdown",
   "id": "80269889",
   "metadata": {},
   "source": [
    "### 1. What is the name of the feature responsible for generating Regex objects?"
   ]
  },
  {
   "cell_type": "markdown",
   "id": "bc146603",
   "metadata": {},
   "source": [
    "In Python, the name of the featute responsible for Regex onjects is `re` module which stands for `Regular expression`. We need to **import the module called re**."
   ]
  },
  {
   "cell_type": "code",
   "execution_count": 2,
   "id": "ee1e2024",
   "metadata": {},
   "outputs": [],
   "source": [
    "import re"
   ]
  },
  {
   "cell_type": "markdown",
   "id": "6913899a",
   "metadata": {},
   "source": [
    "### 2. Why do raw strings often appear in Regex objects?"
   ]
  },
  {
   "cell_type": "markdown",
   "id": "f84b6035",
   "metadata": {},
   "source": [
    "`RAW STRINGS` are commonly used with regulat expressions to make pattern more consice, readable and less error-prone when dealing with backclashes. The backslashes are often used in regular expressions for special character sequences. \n",
    "\n",
    "Example:\n",
    "If we want to create a regular expression pattern to match a backslash followed by `n`, without using raw string we need to use additional backslash to escape the backslash\n",
    "\n",
    "`pattern = '\\\\\\\\n'`\n",
    "\n",
    "With raw string, we can rewrite the above pattern simply as following. \n",
    "\n",
    "`pattern = r'\\\\n'`"
   ]
  },
  {
   "cell_type": "markdown",
   "id": "a815d1ef",
   "metadata": {},
   "source": [
    "### 3. What is the return value of the search() method?\n"
   ]
  },
  {
   "cell_type": "code",
   "execution_count": 1,
   "id": "e8f42497",
   "metadata": {},
   "outputs": [
    {
     "name": "stdout",
     "output_type": "stream",
     "text": [
      "<class 're.Match'>\n",
      "<re.Match object; span=(15, 20), match='apple'>\n"
     ]
    }
   ],
   "source": [
    "import re\n",
    "\n",
    "text = \"There are many apple in the tree\"\n",
    "pattern = r\"apple\"\n",
    "\n",
    "result = re.search(pattern, text)\n",
    "print(type(result))\n",
    "print(result)"
   ]
  },
  {
   "cell_type": "markdown",
   "id": "8611478c",
   "metadata": {},
   "source": [
    "### 4. From a Match item, how do you get the actual strings that match the pattern?\n"
   ]
  },
  {
   "cell_type": "code",
   "execution_count": null,
   "id": "e9a6911f",
   "metadata": {},
   "outputs": [],
   "source": [
    "from the match item in regulat expressions, we can use group() function to "
   ]
  },
  {
   "cell_type": "code",
   "execution_count": 5,
   "id": "97d00969",
   "metadata": {},
   "outputs": [
    {
     "name": "stdout",
     "output_type": "stream",
     "text": [
      "apple\n"
     ]
    }
   ],
   "source": [
    "import re\n",
    "\n",
    "text = \"There are many apple in the tree\"\n",
    "pattern = r\"apple\"\n",
    "\n",
    "result = re.search(pattern, text)\n",
    "print(result.group())"
   ]
  },
  {
   "cell_type": "markdown",
   "id": "165ffc71",
   "metadata": {},
   "source": [
    "### 5. In the regex which created from the r'(\\d\\d\\d)-(\\d\\d\\d-\\d\\d\\d\\d)', what does group zero cover? Group 2? Group 1?\n"
   ]
  },
  {
   "cell_type": "code",
   "execution_count": 9,
   "id": "94e18200",
   "metadata": {},
   "outputs": [
    {
     "name": "stdout",
     "output_type": "stream",
     "text": [
      "Group 0: (416) 453-3028\n",
      "Group 1: (416)\n",
      "Group 2: 453-3028\n"
     ]
    }
   ],
   "source": [
    "import re\n",
    "phoneNumRegex = re.compile(r'(\\(\\d\\d\\d\\)) (\\d\\d\\d-\\d\\d\\d\\d)')\n",
    "mo = phoneNumRegex.search('My phone number is (416) 453-3028.')\n",
    "print(\"Group 0:\", mo.group(0))\n",
    "print(\"Group 1:\", mo.group(1))\n",
    "print(\"Group 2:\", mo.group(2))"
   ]
  },
  {
   "cell_type": "markdown",
   "id": "bb2ee0e6",
   "metadata": {},
   "source": [
    "### 6. In standard expression syntax, parentheses and intervals have distinct meanings. How can you tell a regex that you want it to fit real parentheses and periods?\n"
   ]
  },
  {
   "cell_type": "markdown",
   "id": "ae7af00f",
   "metadata": {},
   "source": [
    "We have to use the `escape character(\\)` or `raw string(r'(\\regexp string)')`"
   ]
  },
  {
   "cell_type": "code",
   "execution_count": 4,
   "id": "f1880262",
   "metadata": {},
   "outputs": [
    {
     "name": "stdout",
     "output_type": "stream",
     "text": [
      "Group 1: (416)\n"
     ]
    }
   ],
   "source": [
    "import re\n",
    "phoneNumRegex = re.compile(r'(\\(\\d\\d\\d\\)) (\\d\\d\\d-\\d\\d\\d\\d)')\n",
    "mo = phoneNumRegex.search('My phone number is (416) 453-3028.')\n",
    "print(\"Group 1:\", mo.group(1))"
   ]
  },
  {
   "cell_type": "markdown",
   "id": "b24025ba",
   "metadata": {},
   "source": [
    "### 7. The findall() method returns a string list or a list of string tuples. What causes it to return one of the two options?\n"
   ]
  },
  {
   "cell_type": "markdown",
   "id": "ec24d4a4",
   "metadata": {},
   "source": [
    "The return type of **findall()** depends on whether the regular expression pattern includes **capturing groups**. If it does not contain capturing groups, it returns a list of strings representing complete matches. If it contains capturing groups, it returns a list of tuples, with each tuple containing the captured groups. \n",
    "\n",
    "1. **List of Strings:**\n",
    "When your regular expression pattern contains no capturing group [paranthesis ()], `findall()` will return a list of strings. \n",
    "\n",
    "2. **List of String Tuples:**\n",
    "When your regular expression pattern contains one or more capturing groups [paranthesis ()], `findall()` will return a list of tuples. \n"
   ]
  },
  {
   "cell_type": "markdown",
   "id": "bfe45a25",
   "metadata": {},
   "source": [
    "### 8. In standard expressions, what does the | character mean?"
   ]
  },
  {
   "cell_type": "markdown",
   "id": "b6ee130f",
   "metadata": {},
   "source": [
    "\"`|`\" symbol represends the logical \"`OR`\". It allow us to specify multiple alternatives within a regular expression pattern. If we specify `|` in our regular expression pattern, it matches any one of the alternatives seperated by |. "
   ]
  },
  {
   "cell_type": "markdown",
   "id": "248bf77a",
   "metadata": {},
   "source": [
    "### 9. In regular expressions, what does the character stand for?"
   ]
  },
  {
   "cell_type": "markdown",
   "id": "74c10d69",
   "metadata": {},
   "source": [
    "In regular expression the `.` (Period) is known as metacharacter and is used to represent any single character, except for the newline character(`\\n`). \n",
    "\n",
    "Ex: \n",
    "\n",
    "`\"a.c\"` would match \"abc\", \"axc\", \"a1c\" \n",
    "\n",
    "`\"..t\"` would match \"cat\", \"bat\",\"mat\""
   ]
  },
  {
   "cell_type": "markdown",
   "id": "fcd621d0",
   "metadata": {},
   "source": [
    "### 10.In regular expressions, what is the difference between the + and * characters?\n"
   ]
  },
  {
   "cell_type": "markdown",
   "id": "501f0d2d",
   "metadata": {},
   "source": [
    "`+ character`\n",
    "\n",
    "search for one or more character\n",
    "\n",
    "`\\d+ -- [0-9]+` --> Searches for one more digits\n",
    "\n",
    "`\\w+ -- [a-zA-Z]+` --> Searches for one alphabet or more\n",
    "\n",
    "`? character`\n",
    "\n",
    "search for zero or one occurrence of a regular expression\n",
    "\n",
    "`\"a?\"`--> searches for zero 'a' or one 'a'"
   ]
  },
  {
   "cell_type": "markdown",
   "id": "db9b8036",
   "metadata": {},
   "source": [
    "### 11. What is the difference between {4} and {4,5} in regular expression?\n"
   ]
  },
  {
   "cell_type": "markdown",
   "id": "e44b28ac",
   "metadata": {},
   "source": [
    "`{4}` --  Searches for specify an exact number of repetition\n",
    "\n",
    "Ex: `d{5}` -- Search for 5 digit number\n",
    "\n",
    "`{4,5}` -- Specify for a range of repetition\n",
    "\n",
    "Ex: `a{4-5}` -- Searches for strings contains either 4 or 5 consicutive \"a\" characters"
   ]
  },
  {
   "cell_type": "markdown",
   "id": "22b4ab58",
   "metadata": {},
   "source": [
    "### 12. What do you mean by the \\d, \\w, and \\s shorthand character classes signify in regular expressions?\n"
   ]
  },
  {
   "cell_type": "markdown",
   "id": "492649bf",
   "metadata": {},
   "source": [
    "These are the predefined character classes in regular expression. \n",
    "\n",
    "\\s ----> It searches for space character only.\n",
    "\n",
    "\\d ----> It searches for digit only (or) [ 0-9].\n",
    "\n",
    "\\w ----> It searchers for word character (or ) [A-Za-z0-9]."
   ]
  },
  {
   "cell_type": "markdown",
   "id": "dcbe9613",
   "metadata": {},
   "source": [
    "### 13. What do means by \\D, \\W, and \\S shorthand character classes signify in regular expressions?\n"
   ]
  },
  {
   "cell_type": "markdown",
   "id": "77904b8d",
   "metadata": {},
   "source": [
    "\\S ----> It searches for all except space character.\n",
    "\n",
    "\\D ----> It searches for all except digit (or) [^0-9].\n",
    "\n",
    "\\W ----> It searcher for special symbols (or) [^A-Za-z0-9].\n"
   ]
  },
  {
   "cell_type": "markdown",
   "id": "e8141797",
   "metadata": {},
   "source": [
    "### 14. What is the difference between `.*?` and `.*?`"
   ]
  },
  {
   "cell_type": "markdown",
   "id": "df134de8",
   "metadata": {},
   "source": []
  },
  {
   "cell_type": "markdown",
   "id": "dbb6ff62",
   "metadata": {},
   "source": [
    "### 15. What is the syntax for matching both numbers and lowercase letters with a character class?\n"
   ]
  },
  {
   "cell_type": "markdown",
   "id": "72f7917c",
   "metadata": {},
   "source": [
    "`[a-z 0-9]` --->It searches for lower case alphabets and digits only"
   ]
  },
  {
   "cell_type": "markdown",
   "id": "21614f61",
   "metadata": {},
   "source": [
    "### 16. What is the procedure for making a normal expression in regax case insensitive?\n"
   ]
  },
  {
   "cell_type": "markdown",
   "id": "cbfbab1e",
   "metadata": {},
   "source": [
    "We can use `re.INGNORCASE` to make a normal expression in regex case sensitive.\n",
    "\n",
    "Ex:\n",
    "\n",
    "`pattern = re.compile(r'example', re.IGNORECASE)`\n"
   ]
  },
  {
   "cell_type": "markdown",
   "id": "1baa4106",
   "metadata": {},
   "source": [
    "### 17. What does the . character normally match? What does it match if re.DOTALL is passed as 2nd argument in re.compile()?\n"
   ]
  },
  {
   "cell_type": "markdown",
   "id": "274aa459",
   "metadata": {},
   "source": [
    "the `.` character normally match any single character except new line character('\\n'). \n",
    "\n",
    "Whereas, when we pass `re.DOTALL` or `re.S` flag is passed as the second argument to `re.compile()`, it changes the behaviour of the `.` character. Now it will match any character including the newline character. \n",
    "\n",
    "Without re.DOTALL:\n",
    "\n",
    "`['Line 1', 'Line 2']`\n",
    "\n",
    "With re.DOTALL:\n",
    "\n",
    "`['Line 1\\nLine 2']`\n"
   ]
  },
  {
   "cell_type": "markdown",
   "id": "fb568fd8",
   "metadata": {},
   "source": [
    "### 18. If numReg = re.compile(r'\\d+'), what will numRegex.sub('X', '11 drummers, 10 pipers, five rings, 4 hen') return?"
   ]
  },
  {
   "cell_type": "markdown",
   "id": "cea7e5e8",
   "metadata": {},
   "source": [
    "It will substitute all the digits from the given data with upper case \"X\""
   ]
  },
  {
   "cell_type": "code",
   "execution_count": 4,
   "id": "2981c51a",
   "metadata": {},
   "outputs": [
    {
     "data": {
      "text/plain": [
       "'X drummers, X pipers, five rings, X hen'"
      ]
     },
     "execution_count": 4,
     "metadata": {},
     "output_type": "execute_result"
    }
   ],
   "source": [
    "import re\n",
    "numReg = re.compile(r'\\d+')\n",
    "numReg.sub('X', '11 drummers, 10 pipers, five rings, 4 hen')"
   ]
  },
  {
   "cell_type": "markdown",
   "id": "2855c19f",
   "metadata": {},
   "source": [
    "### 19. What does passing re.VERBOSE as the 2nd argument to re.compile() allow to do?\n"
   ]
  },
  {
   "cell_type": "markdown",
   "id": "4eae4ffc",
   "metadata": {},
   "source": [
    "Passing `re.VERBOSE` as the second argument to `re.compile()` in python regular expression in a more readable and organized manner by ignoring whitespace and adding comments within the regular expression pattern. This is also called `verbose/extented flag`."
   ]
  },
  {
   "cell_type": "code",
   "execution_count": 5,
   "id": "de78569c",
   "metadata": {},
   "outputs": [
    {
     "name": "stdout",
     "output_type": "stream",
     "text": [
      "Without re.VERBOSE: 123-45-6789\n",
      "With re.VERBOSE: 123-45-6789\n"
     ]
    }
   ],
   "source": [
    "import re\n",
    "\n",
    "# Without re.VERBOSE (hard to read)\n",
    "pattern1 = re.compile(r'\\d{3}-\\d{2}-\\d{4}')\n",
    "\n",
    "# With re.VERBOSE (readable and documented)\n",
    "pattern2 = re.compile(r'''\n",
    "    \\d{3}  # Match 3 digits\n",
    "    -      # Match a hyphen\n",
    "    \\d{2}  # Match 2 digits\n",
    "    -      # Match another hyphen\n",
    "    \\d{4}  # Match 4 digits\n",
    "''', re.VERBOSE)\n",
    "\n",
    "text = \"123-45-6789\"\n",
    "match1 = pattern1.match(text)\n",
    "match2 = pattern2.match(text)\n",
    "\n",
    "print(\"Without re.VERBOSE:\", match1.group())\n",
    "print(\"With re.VERBOSE:\", match2.group())\n"
   ]
  },
  {
   "cell_type": "markdown",
   "id": "4cd7ac60",
   "metadata": {},
   "source": [
    "### 20. How would you write a regex that match a number with comma for every three digits? It must match the given following:\n",
    "'42'\n",
    "\n",
    "'1,234'\n",
    "\n",
    "'6,368,745'\n",
    "\n",
    "but not the following:\n",
    "\n",
    "'12,34,567' (which has only two digits between the commas)\n",
    "\n",
    "'1234' (which lacks commas)\n"
   ]
  },
  {
   "cell_type": "code",
   "execution_count": 32,
   "id": "f86f0805",
   "metadata": {
    "scrolled": true
   },
   "outputs": [
    {
     "name": "stdout",
     "output_type": "stream",
     "text": [
      "Matched Number: 44\n",
      "Matched Number: 123,456\n",
      "Matched Number: 1,234\n",
      "Matched Number: 12,345,678\n",
      "Unmatched Number: 12345\n",
      "Unmatched Number: 12,34,567\n"
     ]
    }
   ],
   "source": [
    "import re\n",
    "\n",
    "pattern = r'^\\d{1,3}(,\\d{3})*$'\n",
    "\n",
    "numbers = ['44', '123,456', '1,234', '12,345,678', '12345', '12,34,567']\n",
    "\n",
    "for number in numbers:\n",
    "    if re.match(pattern, number):\n",
    "        print(\"Matched Number: {}\".format(number))\n",
    "    else:\n",
    "        print(\"Unmatched Number: {}\".format(number))"
   ]
  },
  {
   "cell_type": "markdown",
   "id": "47476a2f",
   "metadata": {},
   "source": [
    "### 21. How would you write a regex that matches the full name of someone whose last name is Watanabe? You can assume that the first name that comes before it will always be one word that begins with a capital letter. The regex must match the following:\n",
    "\n",
    "'Haruto Watanabe'\n",
    "\n",
    "'Alice Watanabe'\n",
    "\n",
    "'RoboCop Watanabe'\n",
    "\n",
    "but not the following:\n",
    "\n",
    "'haruto Watanabe' (where the first name is not capitalized)\n",
    "\n",
    "'Mr. Watanabe' (where the preceding word has a nonletter character)\n",
    "\n",
    "'Watanabe' (which has no first name)\n",
    "\n",
    "'Haruto watanabe' (where Watanabe is not capitalized)\n"
   ]
  },
  {
   "cell_type": "code",
   "execution_count": 23,
   "id": "d4f161e7",
   "metadata": {},
   "outputs": [
    {
     "name": "stdout",
     "output_type": "stream",
     "text": [
      "Match :, Haruto Watanabe\n",
      "Match :, Alice Watanabe\n",
      "Match :, RoboCop Watanabe\n",
      "No Match Name: haruto Watanabe\n",
      "No Match Name: Mr. Watanabe\n",
      "No Match Name: Watanabe\n",
      "No Match Name: Haruto watanabe\n"
     ]
    }
   ],
   "source": [
    "import re\n",
    "\n",
    "pattern = r'^[A-Z][a-zA-Z]*\\sWatanabe$'\n",
    "\n",
    "# Test names\n",
    "names = [\n",
    "    'Haruto Watanabe',\n",
    "    'Alice Watanabe',\n",
    "    'RoboCop Watanabe',\n",
    "    'haruto Watanabe',\n",
    "    'Mr. Watanabe',\n",
    "    'Watanabe',\n",
    "    'Haruto watanabe'\n",
    "]\n",
    "\n",
    "for name in names:\n",
    "    if re.match(pattern, name):\n",
    "        print(\"Match : {}\".format(name))\n",
    "    else:\n",
    "        print(\"No Match Name: {}\".format(name))"
   ]
  },
  {
   "cell_type": "markdown",
   "id": "2c804225",
   "metadata": {},
   "source": [
    "###  22. How would you write a regex that matches a sentence where the first word is either Alice, Bob, or Carol; the second word is either eats, pets, or throws; the third word is apples, cats, or baseballs; and the sentence ends with a period? This regex should be case-insensitive. It must match the following:\n",
    "\n",
    "'Alice eats apples.'\n",
    "\n",
    "'Bob pets cats.'\n",
    "\n",
    "'Carol throws baseballs.'\n",
    "\n",
    "'Alice throws Apples.'\n",
    "\n",
    "'BOB EATS CATS.'\n",
    "\n",
    "but not the following:\n",
    "\n",
    "'RoboCop eats apples.'\n",
    "\n",
    "'ALICE THROWS FOOTBALLS.'\n",
    "\n",
    "'Carol eats 7 cats.'\n"
   ]
  },
  {
   "cell_type": "code",
   "execution_count": 29,
   "id": "2cdd0eed",
   "metadata": {},
   "outputs": [
    {
     "name": "stdout",
     "output_type": "stream",
     "text": [
      "Enter the sentence: Alice eats apples\n",
      "Invalid input\n"
     ]
    }
   ],
   "source": [
    "import re\n",
    "\n",
    "reg = r'^(Alice|Bob|Carol)\\s(eats|pets|throws)\\s(apples|cats|baseballa)\\.$'\n",
    "\n",
    "sentence = input(\"Enter the sentence: \")\n",
    "             \n",
    "if re.match(reg, sentence):\n",
    "    print(sentence)\n",
    "else:\n",
    "    print(\"Invalid input\")"
   ]
  },
  {
   "cell_type": "code",
   "execution_count": null,
   "id": "4ed41bcc",
   "metadata": {},
   "outputs": [],
   "source": []
  }
 ],
 "metadata": {
  "kernelspec": {
   "display_name": "Python 3 (ipykernel)",
   "language": "python",
   "name": "python3"
  },
  "language_info": {
   "codemirror_mode": {
    "name": "ipython",
    "version": 3
   },
   "file_extension": ".py",
   "mimetype": "text/x-python",
   "name": "python",
   "nbconvert_exporter": "python",
   "pygments_lexer": "ipython3",
   "version": "3.9.16"
  }
 },
 "nbformat": 4,
 "nbformat_minor": 5
}
