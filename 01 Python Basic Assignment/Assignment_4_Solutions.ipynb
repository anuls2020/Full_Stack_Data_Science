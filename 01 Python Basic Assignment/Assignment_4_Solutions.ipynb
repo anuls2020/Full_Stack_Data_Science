{
 "cells": [
  {
   "cell_type": "markdown",
   "metadata": {},
   "source": [
    "# Assignment -4 Solutions"
   ]
  },
  {
   "cell_type": "markdown",
   "metadata": {
    "heading_collapsed": true
   },
   "source": [
    "### 1. What exactly is [ ]?\n"
   ]
  },
  {
   "cell_type": "markdown",
   "metadata": {
    "hidden": true
   },
   "source": [
    "* With respect to Python, the square brackets are used in various places,they are\n",
    "  1. We can use the Square brackets to inilize an empty list Ex: `l1=[]`\n",
    "  2. We can use the Square brackets for **slicing and indexing** process on an iterable object of collection data types.\n",
    "  3. We can use the square bracket for updating the values in a **mutable object** in the Python program."
   ]
  },
  {
   "cell_type": "markdown",
   "metadata": {
    "heading_collapsed": true
   },
   "source": [
    "### 2. In a list of values stored in a variable called spam, how would you assign the value 'hello' as the third value? (Assume `[2, 4, 6, 8, 10]` are in spam.)\n",
    "\n"
   ]
  },
  {
   "cell_type": "code",
   "execution_count": 2,
   "metadata": {
    "hidden": true
   },
   "outputs": [
    {
     "name": "stdout",
     "output_type": "stream",
     "text": [
      "list values Before changing the 3rd value:[2, 4, 6, 8, 10]\n",
      "list values After changing the 3rd value:[2, 4, 'hello', 8, 10]\n"
     ]
    }
   ],
   "source": [
    "spam=[2, 4, 6, 8, 10]\n",
    "print(\"list values Before changing the 3rd value:{}\".format(spam))\n",
    "spam[2]=\"hello\"\n",
    "print(\"list values After changing the 3rd value:{}\".format(spam))"
   ]
  },
  {
   "cell_type": "markdown",
   "metadata": {
    "heading_collapsed": true
   },
   "source": [
    "### Let's pretend the spam includes the list `['a', 'b', 'c', 'd']` for the next three queries."
   ]
  },
  {
   "cell_type": "markdown",
   "metadata": {
    "hidden": true
   },
   "source": [
    "**3. What is the value of spam[int(int('3' * 2) / 11)]?**\n",
    "\n",
    "**Solution:**\n",
    "* `('3' * 2) ==> '33'`\n",
    "* `int('33') ==> 33`\n",
    "* `int(33/11) ==> int(3) ==> 3`\n",
    "* `spam[3] ==> 'd'`"
   ]
  },
  {
   "cell_type": "code",
   "execution_count": 3,
   "metadata": {
    "hidden": true
   },
   "outputs": [
    {
     "data": {
      "text/plain": [
       "'d'"
      ]
     },
     "execution_count": 3,
     "metadata": {},
     "output_type": "execute_result"
    }
   ],
   "source": [
    "spam=['a', 'b', 'c', 'd']\n",
    "spam[int(int('3'*2)/11)]"
   ]
  },
  {
   "attachments": {
    "image.png": {
     "image/png": "[encoded data removed]"
    }
   },
   "cell_type": "markdown",
   "metadata": {
    "hidden": true
   },
   "source": [
    "**4. What is the value of spam[-1]?**\n",
    "\n",
    "* The value of spam[-1] is 'd', this is backward indexing which start from the back.\n",
    "\n",
    "![image.png](attachment:image.png)"
   ]
  },
  {
   "cell_type": "code",
   "execution_count": 4,
   "metadata": {
    "hidden": true
   },
   "outputs": [
    {
     "data": {
      "text/plain": [
       "'d'"
      ]
     },
     "execution_count": 4,
     "metadata": {},
     "output_type": "execute_result"
    }
   ],
   "source": [
    "spam[-1]"
   ]
  },
  {
   "cell_type": "markdown",
   "metadata": {
    "hidden": true
   },
   "source": [
    "**5. What is the value of `spam[:2]`?**\n",
    "\n",
    "* Here the start index is missing, which means it will start form the very beginning, that means from index number '0' and end index is \"2\",which means it will print form first index (0) to `specified last index-1`(2-1=1), That means it will print the first two index('a' and 'b')"
   ]
  },
  {
   "cell_type": "code",
   "execution_count": 5,
   "metadata": {
    "hidden": true
   },
   "outputs": [
    {
     "data": {
      "text/plain": [
       "['a', 'b']"
      ]
     },
     "execution_count": 5,
     "metadata": {},
     "output_type": "execute_result"
    }
   ],
   "source": [
    "spam[:2]"
   ]
  },
  {
   "cell_type": "markdown",
   "metadata": {
    "heading_collapsed": true
   },
   "source": [
    "### Let's pretend bacon has the list [3.14, 'cat,' 11, 'cat,' True] for the next three questions."
   ]
  },
  {
   "cell_type": "markdown",
   "metadata": {
    "hidden": true
   },
   "source": [
    "**6. What is the value of bacon.index('cat')?**\n",
    "\n",
    "* The value of `bacon.index('cat') is 1`, even though we have the same string repeating in the list, the index function returns the value of first occurrence. "
   ]
  },
  {
   "cell_type": "code",
   "execution_count": 12,
   "metadata": {
    "hidden": true
   },
   "outputs": [
    {
     "data": {
      "text/plain": [
       "1"
      ]
     },
     "execution_count": 12,
     "metadata": {},
     "output_type": "execute_result"
    }
   ],
   "source": [
    "bacon=[3.14, 'cat', 11, 'cat', True]\n",
    "bacon.index('cat')"
   ]
  },
  {
   "cell_type": "markdown",
   "metadata": {
    "hidden": true
   },
   "source": [
    "**7. How does bacon.append(99) change the look of the list value in bacon?**\n",
    "\n",
    "* The `bacon.append(99)` command will add the intiger `99` at the end of the list."
   ]
  },
  {
   "cell_type": "code",
   "execution_count": 13,
   "metadata": {
    "hidden": true
   },
   "outputs": [
    {
     "name": "stdout",
     "output_type": "stream",
     "text": [
      "[3.14, 'cat', 11, 'cat', True, 99]\n"
     ]
    }
   ],
   "source": [
    "bacon.append(99)\n",
    "print(bacon)"
   ]
  },
  {
   "cell_type": "markdown",
   "metadata": {
    "hidden": true
   },
   "source": [
    "**8. How does bacon.remove('cat') change the look of the list in bacon?**\n",
    "\n",
    "* This will **remove the first occurrence of the string** form the list.\n"
   ]
  },
  {
   "cell_type": "code",
   "execution_count": 15,
   "metadata": {
    "hidden": true
   },
   "outputs": [
    {
     "data": {
      "text/plain": [
       "[3.14, 11, 'cat', True]"
      ]
     },
     "execution_count": 15,
     "metadata": {},
     "output_type": "execute_result"
    }
   ],
   "source": [
    "bacon=[3.14, 'cat', 11, 'cat', True]\n",
    "bacon.remove('cat')\n",
    "bacon"
   ]
  },
  {
   "cell_type": "markdown",
   "metadata": {
    "heading_collapsed": true
   },
   "source": [
    "### 9. What are the list concatenation and list replication operators?"
   ]
  },
  {
   "cell_type": "markdown",
   "metadata": {
    "hidden": true
   },
   "source": [
    "* **list concatination**: We can use `+` operator for concatinating two strings together. (s1=\"hello\", s2=\"world\", print(s1+s2) ==> \"helloworld\""
   ]
  },
  {
   "cell_type": "code",
   "execution_count": 16,
   "metadata": {
    "hidden": true
   },
   "outputs": [
    {
     "name": "stdout",
     "output_type": "stream",
     "text": [
      "helloworld\n"
     ]
    }
   ],
   "source": [
    "s1=\"hello\"\n",
    "s2=\"world\"\n",
    "print(s1+s2)"
   ]
  },
  {
   "cell_type": "markdown",
   "metadata": {
    "hidden": true,
    "run_control": {
     "marked": true
    }
   },
   "source": [
    "* **list replication:** We can us `*` operator for replicating a string in to n time. (print(\"-\"*50))"
   ]
  },
  {
   "cell_type": "code",
   "execution_count": 17,
   "metadata": {
    "hidden": true
   },
   "outputs": [
    {
     "name": "stdout",
     "output_type": "stream",
     "text": [
      "--------------------------------------------------\n"
     ]
    }
   ],
   "source": [
    "print(\"-\"*50)"
   ]
  },
  {
   "cell_type": "markdown",
   "metadata": {
    "hidden": true
   },
   "source": [
    "**10. What is difference between the list methods append() and insert()?**\n",
    "\n",
    "* the **append()** method will **add the specified data at the end of the list** where as using **insert(** method we can **add the data in to the specified index**."
   ]
  },
  {
   "cell_type": "code",
   "execution_count": 22,
   "metadata": {
    "hidden": true
   },
   "outputs": [
    {
     "name": "stdout",
     "output_type": "stream",
     "text": [
      "[1, 2, 4, 5]\n",
      "List of values after appending value 6 [1, 2, 4, 5, 6]\n",
      "List of values after inserting value 3 in to index number 2: [1, 2, 3, 4, 5, 6]\n"
     ]
    }
   ],
   "source": [
    "l1=[1,2,4,5]\n",
    "print(l1)\n",
    "l1.append(6)\n",
    "print(\"List of values after appending value 6\", l1)\n",
    "l1.insert(2,3)\n",
    "print(\"List of values after inserting value 3 in to index number 2:\", l1)"
   ]
  },
  {
   "cell_type": "markdown",
   "metadata": {
    "hidden": true
   },
   "source": [
    "* when we insert using the **-ve index**, it will insert the data after the specified index, that means, if we specify to insert the data at -3 index , the inserted data hving the index of -4."
   ]
  },
  {
   "cell_type": "code",
   "execution_count": 21,
   "metadata": {
    "hidden": true
   },
   "outputs": [
    {
     "name": "stdout",
     "output_type": "stream",
     "text": [
      "[10, 20, 44.44, 30, 40, -45]\n"
     ]
    }
   ],
   "source": [
    "l1=[10,20,30,40,-45]\n",
    "\n",
    "l1.insert(-3,44.44)\n",
    "print(l1)"
   ]
  },
  {
   "cell_type": "markdown",
   "metadata": {
    "heading_collapsed": true
   },
   "source": [
    "### 11. What are the two methods for removing items from a list?"
   ]
  },
  {
   "cell_type": "markdown",
   "metadata": {
    "hidden": true
   },
   "source": [
    "* Basically there are four methods to remove an elements from a list, They are, \n",
    "\n",
    "1. **clear():**\n",
    "    * This Function is used for removing/deleting all the elements of list object.\n",
    "\n",
    "   **Syntax:-**\n",
    "    `listobj.clear()`\n",
    "    \n",
    "2. **remove():**\n",
    "    * This Function is used for removing/deleting First Occurence of the specified element.\n",
    "    \n",
    "   **Syntax:-**\n",
    "    `listobj.remove(element)` \n",
    "    \n",
    "3. **pop(index):**\n",
    "    * This Function is used for removing/deleting First Occurence of the specified element.\n",
    "    \n",
    "   **Syntax:-**\n",
    "    `listobj.pop(index)`\n",
    "4. **pop():**\n",
    "    * This Function is used for removing last element of list object (last indexed element).\n",
    "    \n",
    "    **Syntax:-**\n",
    "    `listobj.pop()`"
   ]
  },
  {
   "cell_type": "markdown",
   "metadata": {
    "heading_collapsed": true
   },
   "source": [
    "### 12. Describe how list values and string values are identical."
   ]
  },
  {
   "cell_type": "markdown",
   "metadata": {
    "hidden": true
   },
   "source": [
    "* **String** is a sequence category data type where as **list** is a collection category data type. They are identical in terms of the data access based on the index valiues, For both list and strings, we can have index number starting from 0 and can access the values based on the index number. But string is immutable and list is mutable.   "
   ]
  },
  {
   "cell_type": "code",
   "execution_count": 27,
   "metadata": {
    "hidden": true,
    "run_control": {
     "marked": false
    }
   },
   "outputs": [
    {
     "name": "stdout",
     "output_type": "stream",
     "text": [
      "value of zero-th index of string: a\n",
      "value of zero-th index of list: a\n"
     ]
    }
   ],
   "source": [
    "s1=\"abcd\"\n",
    "print(\"value of zero-th index of string:\", s1[0])\n",
    "l1=['a','b','c','d']\n",
    "print(\"value of zero-th index of list:\", l1[0])\n"
   ]
  },
  {
   "cell_type": "markdown",
   "metadata": {
    "heading_collapsed": true
   },
   "source": [
    "### 13. What's the difference between tuples and lists?\n"
   ]
  },
  {
   "cell_type": "markdown",
   "metadata": {
    "hidden": true
   },
   "source": [
    "* **tuple** are **immutable objects** in list(collection) category  data type\n",
    "* **list** are **mutable objects** in list(collection) category  data type"
   ]
  },
  {
   "cell_type": "markdown",
   "metadata": {
    "heading_collapsed": true
   },
   "source": [
    "### 14. How do you type a tuple value that only contains the integer 42?"
   ]
  },
  {
   "cell_type": "markdown",
   "metadata": {
    "hidden": true
   },
   "source": [
    "* Tuple is a **collection of iterable immutable objects**, which means it **contains more than one elements**. If we have only one element in the tuple, **just add a coma(,) after the first element** to make it as a tuple. "
   ]
  },
  {
   "cell_type": "code",
   "execution_count": 35,
   "metadata": {
    "hidden": true
   },
   "outputs": [
    {
     "name": "stdout",
     "output_type": "stream",
     "text": [
      "(42,) <class 'tuple'>\n"
     ]
    }
   ],
   "source": [
    "t1=(42,)\n",
    "print(t1, type(t1))"
   ]
  },
  {
   "cell_type": "markdown",
   "metadata": {
    "heading_collapsed": true
   },
   "source": [
    "### 15. How do you get a list value's tuple form? How do you get a tuple value's list form?\n"
   ]
  },
  {
   "cell_type": "markdown",
   "metadata": {
    "hidden": true
   },
   "source": [
    "* We can use **type casting** to convert between two data types. [`list(), and tuple()`]"
   ]
  },
  {
   "cell_type": "code",
   "execution_count": 39,
   "metadata": {
    "hidden": true
   },
   "outputs": [
    {
     "name": "stdout",
     "output_type": "stream",
     "text": [
      "(1, 2, 3, 4) <class 'tuple'>\n",
      "[1, 2, 3, 4] <class 'list'>\n",
      "(1, 2, 3, 4) <class 'tuple'>\n"
     ]
    }
   ],
   "source": [
    "t1=(1,2,3,4)\n",
    "print(t1, type(t1))\n",
    "l1=list(t1)\n",
    "print(l1, type(l1))\n",
    "t2=tuple(l1)\n",
    "print(t2, type(t2))"
   ]
  },
  {
   "cell_type": "markdown",
   "metadata": {
    "heading_collapsed": true
   },
   "source": [
    "### 16. Variables that \"contain\" list values are not necessarily lists themselves. Instead, what do they contain?\n"
   ]
  },
  {
   "cell_type": "markdown",
   "metadata": {
    "hidden": true
   },
   "source": [
    "* A list can contain any data types like fundamental, sequence and collection category data types. it can contain **reference** value of each list members as well which is pointing to each of the list elements. "
   ]
  },
  {
   "cell_type": "code",
   "execution_count": 46,
   "metadata": {
    "hidden": true
   },
   "outputs": [
    {
     "name": "stdout",
     "output_type": "stream",
     "text": [
      "[1, 'a', 1.1, True, [1, 2, 3], (4, 5, 6)]\n",
      "Address of list l1: 1918190134464\n",
      "Internal reference value of list element l1[0]: 1918197672960\n",
      "Internal reference value of string element l1[1]: 1918198267648\n",
      "Internal reference value of inner list element l1[4]: 1918197670656\n"
     ]
    }
   ],
   "source": [
    "l1=[1,'a',1.1,True,[1,2,3],(4,5,6)] \n",
    "print(l1)\n",
    "print(\"Address of list l1:\",id([l1]))\n",
    "print(\"Internal reference value of list element l1[0]:\",id([l1[0]]))\n",
    "print(\"Internal reference value of string element l1[1]:\",id([l1[1]]))\n",
    "print(\"Internal reference value of inner list element l1[4]:\",id([l1[4]]))"
   ]
  },
  {
   "cell_type": "markdown",
   "metadata": {
    "heading_collapsed": true
   },
   "source": [
    "### 17. How do you distinguish between copy.copy() and copy.deepcopy()?\n"
   ]
  },
  {
   "cell_type": "markdown",
   "metadata": {
    "hidden": true
   },
   "source": [
    "* We have two type of copy process, they are\n",
    "  1. shallow copy\n",
    "  2. deep copy\n",
    "  \n",
    "1. **In shallow copy,**\n",
    "  - Initial Content of both the objects are same.\n",
    "  - Both the objects contains different address.\n",
    "  - The Modifications on the objects are Independent.(Modifications are not recflected)\n",
    "  - Using the Shallow copy, we are **creating an exact copy of the data in some other address and both the list were indiendent to each other**. The **changes in one list will never affect the data in the other list**.\n",
    "  - To implement Shallow Copy, we use copy()\n",
    "  \n",
    "  **Syntax:** `listobj2=listobj1.copy()`\n",
    "  \n",
    "2. **In Deep Copy,**\n",
    "  - Initial Content of both the objects are same\n",
    "  - **Both the objects contains Same Address**\n",
    "  - The **Modifications on the objects are dependent**.(Modifications are recflected to each other)\n",
    "  - To implement Deep Copy, we use **Assignment Operator**\n",
    "  \n",
    "  **Syntax:** `objname1=objname2`"
   ]
  },
  {
   "cell_type": "code",
   "execution_count": null,
   "metadata": {
    "hidden": true
   },
   "outputs": [],
   "source": []
  },
  {
   "cell_type": "code",
   "execution_count": null,
   "metadata": {
    "hidden": true
   },
   "outputs": [],
   "source": []
  }
 ],
 "metadata": {
  "kernelspec": {
   "display_name": "Python 3",
   "language": "python",
   "name": "python3"
  },
  "language_info": {
   "codemirror_mode": {
    "name": "ipython",
    "version": 3
   },
   "file_extension": ".py",
   "mimetype": "text/x-python",
   "name": "python",
   "nbconvert_exporter": "python",
   "pygments_lexer": "ipython3",
   "version": "3.8.5"
  }
 },
 "nbformat": 4,
 "nbformat_minor": 4
}
